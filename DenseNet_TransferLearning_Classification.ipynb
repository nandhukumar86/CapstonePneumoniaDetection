{
  "nbformat": 4,
  "nbformat_minor": 0,
  "metadata": {
    "colab": {
      "name": "DenseNet_TransferLearning_Classification.ipynb",
      "provenance": [],
      "collapsed_sections": [],
      "machine_shape": "hm",
      "include_colab_link": true
    },
    "kernelspec": {
      "name": "python3",
      "display_name": "Python 3"
    },
    "language_info": {
      "name": "python"
    },
    "accelerator": "GPU"
  },
  "cells": [
    {
      "cell_type": "markdown",
      "metadata": {
        "id": "view-in-github",
        "colab_type": "text"
      },
      "source": [
        "<a href=\"https://colab.research.google.com/github/nandhukumar86/CapstonePneumoniaDetection/blob/main/DenseNet_TransferLearning_Classification.ipynb\" target=\"_parent\"><img src=\"https://colab.research.google.com/assets/colab-badge.svg\" alt=\"Open In Colab\"/></a>"
      ]
    },
    {
      "cell_type": "code",
      "metadata": {
        "id": "iM6jcICpwt-W"
      },
      "source": [
        "import numpy as np\n",
        "import pandas as pd\n",
        "import seaborn as sns\n",
        "import matplotlib.pyplot as plt\n",
        "sns.set(color_codes=True)\n",
        "%matplotlib inline\n",
        "import cv2\n",
        "import skimage.io as io\n",
        "import os\n",
        "import tensorflow\n",
        "from tensorflow.keras import Sequential\n",
        "from tensorflow.keras.models import Model\n",
        "from tensorflow.keras.layers import Dense\n",
        "from tensorflow.keras.layers import Flatten\n",
        "from tensorflow.keras.layers import Conv2D, Concatenate, Reshape, UpSampling2D\n",
        "import pickle\n",
        "from tensorflow.keras.applications.densenet import preprocess_input\n",
        "from tensorflow.keras.losses import binary_crossentropy\n",
        "import gc\n",
        "from tensorflow.keras.applications import DenseNet121, DenseNet201\n",
        "from tensorflow.keras.applications import VGG16\n",
        "from google.colab.patches import cv2_imshow\n",
        "from tensorflow import reduce_sum\n",
        "from tensorflow.keras.backend import log,epsilon\n",
        "\n",
        "from sklearn.model_selection import train_test_split"
      ],
      "execution_count": 1,
      "outputs": []
    },
    {
      "cell_type": "code",
      "metadata": {
        "colab": {
          "base_uri": "https://localhost:8080/"
        },
        "id": "xQ5CckCfsL0A",
        "outputId": "fa25dee1-6cb9-4924-b2e6-e6e415265e43"
      },
      "source": [
        "from google.colab import drive\n",
        "drive.mount('/content/drive')"
      ],
      "execution_count": 2,
      "outputs": [
        {
          "output_type": "stream",
          "text": [
            "Drive already mounted at /content/drive; to attempt to forcibly remount, call drive.mount(\"/content/drive\", force_remount=True).\n"
          ],
          "name": "stdout"
        }
      ]
    },
    {
      "cell_type": "code",
      "metadata": {
        "id": "h-8nkhprxfsQ"
      },
      "source": [
        "file = open('/content/drive/MyDrive/CapstoneDataSet/dataset/RezisedLabel-1.pickle', 'rb')\n",
        "dfData = pickle.load(file)\n",
        "file.close()"
      ],
      "execution_count": 3,
      "outputs": []
    },
    {
      "cell_type": "code",
      "metadata": {
        "id": "q3_K_q5CWOtF"
      },
      "source": [
        "dfData_0 = dfData[dfData['Target'] == 0].sample(9555)\n",
        "dfData_1 = dfData[dfData['Target'] == 1].sample(9555)"
      ],
      "execution_count": 4,
      "outputs": []
    },
    {
      "cell_type": "code",
      "metadata": {
        "id": "UOqwQUQ2h0Ut"
      },
      "source": [
        "dfData = pd.concat([dfData_0, dfData_1], axis=0, ignore_index=True)"
      ],
      "execution_count": 5,
      "outputs": []
    },
    {
      "cell_type": "code",
      "metadata": {
        "id": "LcOKC-q-h8_t"
      },
      "source": [
        "dfData = dfData.sample(frac=1)"
      ],
      "execution_count": 6,
      "outputs": []
    },
    {
      "cell_type": "code",
      "metadata": {
        "id": "uCTS0J_6yjL7"
      },
      "source": [
        "y_classifier = []\n",
        "X = []\n",
        "i = 0\n",
        "for pId in dfData['patientId'].unique():\n",
        "  data = dfData[dfData['patientId'] == pId][['Image256','xo','yo','widtho','heighto','Target']]\n",
        "  image1c = np.array(data.iloc[0][0]/255,'float16')\n",
        "  X.append(image1c)\n",
        "  y_classifier.append(data.iloc[0][5])\n",
        "  if (i%1000 == 0):\n",
        "    print(i, \" completed\")\n",
        "  i = i + 1"
      ],
      "execution_count": null,
      "outputs": []
    },
    {
      "cell_type": "code",
      "metadata": {
        "id": "0l57SMYhruY7"
      },
      "source": [
        "X_train_c, X_val_c, y_train_c, y_val_c = train_test_split(X, y_classifier, test_size=0.30, random_state=100)"
      ],
      "execution_count": 8,
      "outputs": []
    },
    {
      "cell_type": "code",
      "metadata": {
        "id": "jl95BoS1ICL2"
      },
      "source": [
        "tensorflow.keras.backend.clear_session()"
      ],
      "execution_count": 9,
      "outputs": []
    },
    {
      "cell_type": "code",
      "metadata": {
        "colab": {
          "base_uri": "https://localhost:8080/"
        },
        "id": "TeWdVREoNgBc",
        "outputId": "0c5d4328-56e0-41a7-d869-a292f43ebb01"
      },
      "source": [
        "gc.collect()"
      ],
      "execution_count": 10,
      "outputs": [
        {
          "output_type": "execute_result",
          "data": {
            "text/plain": [
              "36"
            ]
          },
          "metadata": {
            "tags": []
          },
          "execution_count": 10
        }
      ]
    },
    {
      "cell_type": "code",
      "metadata": {
        "id": "kK6jBcfy4-nu"
      },
      "source": [
        "model = DenseNet201(input_shape=(256,256,3),include_top=False,weights='imagenet')"
      ],
      "execution_count": 11,
      "outputs": []
    },
    {
      "cell_type": "code",
      "metadata": {
        "id": "Ox5SV0CA2NuJ"
      },
      "source": [
        "lengthLayers = len(model.layers)\n",
        "pcLayers = int(0.90 * lengthLayers)\n",
        "for i in range(pcLayers):\n",
        "  model.layers[i].trainable = False\n",
        "  "
      ],
      "execution_count": 12,
      "outputs": []
    },
    {
      "cell_type": "code",
      "metadata": {
        "id": "IHmph1Y13uMq"
      },
      "source": [
        "layer8x8 = model.get_layer('conv5_block32_2_conv').output\n",
        "\n",
        "yy = Flatten()(layer8x8)\n",
        "yy = Dense(2, activation='softmax')(yy)\n",
        "\n",
        "model_classifier = Model(model.input, yy)"
      ],
      "execution_count": 13,
      "outputs": []
    },
    {
      "cell_type": "code",
      "metadata": {
        "colab": {
          "base_uri": "https://localhost:8080/"
        },
        "id": "K1KRty-0Y9A0",
        "outputId": "714fad1e-b1db-4156-9e47-8e19350d56dd"
      },
      "source": [
        "gc.collect()"
      ],
      "execution_count": 14,
      "outputs": [
        {
          "output_type": "execute_result",
          "data": {
            "text/plain": [
              "0"
            ]
          },
          "metadata": {
            "tags": []
          },
          "execution_count": 14
        }
      ]
    },
    {
      "cell_type": "code",
      "metadata": {
        "id": "Q7UmlEW4GskV"
      },
      "source": [
        "X_train_c = np.array(X_train_c)\n",
        "y_train_c = np.array(y_train_c)\n",
        "X_val_c = np.array(X_val_c)\n",
        "y_val_c = np.array(y_val_c)"
      ],
      "execution_count": 15,
      "outputs": []
    },
    {
      "cell_type": "code",
      "metadata": {
        "colab": {
          "base_uri": "https://localhost:8080/"
        },
        "id": "qmFINN_jG5Ud",
        "outputId": "447724a3-f55b-4b6e-af08-0096ddab5961"
      },
      "source": [
        "X_train_c.shape, y_train_c.shape, X_val_c.shape, y_val_c.shape"
      ],
      "execution_count": 16,
      "outputs": [
        {
          "output_type": "execute_result",
          "data": {
            "text/plain": [
              "((10896, 256, 256), (10896,), (4671, 256, 256), (4671,))"
            ]
          },
          "metadata": {
            "tags": []
          },
          "execution_count": 16
        }
      ]
    },
    {
      "cell_type": "code",
      "metadata": {
        "id": "yVmXBPYmS4tZ"
      },
      "source": [
        "X_train_c = np.array([X_train_c.T,X_train_c.T,X_train_c.T]).T\n",
        "y_train_c = np.array([y_train_c, ~y_train_c+2]).T\n",
        "X_val_c = np.array([X_val_c.T,X_val_c.T,X_val_c.T]).T\n",
        "y_val_c = np.array([y_val_c, ~y_val_c+2]).T"
      ],
      "execution_count": 17,
      "outputs": []
    },
    {
      "cell_type": "code",
      "metadata": {
        "colab": {
          "base_uri": "https://localhost:8080/"
        },
        "id": "moPT7RqKUkH0",
        "outputId": "aab0133d-44b2-439e-aad2-f4c0806b4a27"
      },
      "source": [
        "X_train_c.shape, y_train_c.shape, X_val_c.shape, y_val_c.shape"
      ],
      "execution_count": 18,
      "outputs": [
        {
          "output_type": "execute_result",
          "data": {
            "text/plain": [
              "((10896, 256, 256, 3), (10896, 2), (4671, 256, 256, 3), (4671, 2))"
            ]
          },
          "metadata": {
            "tags": []
          },
          "execution_count": 18
        }
      ]
    },
    {
      "cell_type": "code",
      "metadata": {
        "colab": {
          "base_uri": "https://localhost:8080/"
        },
        "id": "S6R2knSXZX4D",
        "outputId": "a2e8f662-05c5-4cdd-81b7-e500ac7303d1"
      },
      "source": [
        "gc.collect()"
      ],
      "execution_count": 19,
      "outputs": [
        {
          "output_type": "execute_result",
          "data": {
            "text/plain": [
              "382"
            ]
          },
          "metadata": {
            "tags": []
          },
          "execution_count": 19
        }
      ]
    },
    {
      "cell_type": "code",
      "metadata": {
        "colab": {
          "base_uri": "https://localhost:8080/"
        },
        "id": "Ty7HUc63gWFw",
        "outputId": "6a5a933b-3965-4316-c9c8-c6dffe424f45"
      },
      "source": [
        "model_classifier.compile(optimizer='adam', loss='categorical_crossentropy', metrics=['accuracy'])\n",
        "\n",
        "earlystop_classifier = tensorflow.keras.callbacks.EarlyStopping(monitor='val_accuracy', patience=2, min_delta=0.01)\n",
        "\n",
        "model_classifier.fit(X_train_c, y_train_c, \n",
        "                     epochs=10, batch_size=16, \n",
        "                     validation_data=(X_val_c, y_val_c), \n",
        "                     verbose=1, \n",
        "                     callbacks=[earlystop_classifier]) \n"
      ],
      "execution_count": 20,
      "outputs": [
        {
          "output_type": "stream",
          "text": [
            "Epoch 1/10\n",
            "681/681 [==============================] - 103s 116ms/step - loss: 0.4726 - accuracy: 0.7785 - val_loss: 0.4629 - val_accuracy: 0.7803\n",
            "Epoch 2/10\n",
            "681/681 [==============================] - 64s 94ms/step - loss: 0.4326 - accuracy: 0.7956 - val_loss: 0.4664 - val_accuracy: 0.7778\n",
            "Epoch 3/10\n",
            "681/681 [==============================] - 64s 94ms/step - loss: 0.3951 - accuracy: 0.8167 - val_loss: 0.5157 - val_accuracy: 0.7692\n"
          ],
          "name": "stdout"
        },
        {
          "output_type": "execute_result",
          "data": {
            "text/plain": [
              "<tensorflow.python.keras.callbacks.History at 0x7f8c905c31d0>"
            ]
          },
          "metadata": {
            "tags": []
          },
          "execution_count": 20
        }
      ]
    },
    {
      "cell_type": "code",
      "metadata": {
        "colab": {
          "base_uri": "https://localhost:8080/"
        },
        "id": "rUqJdJJVcamX",
        "outputId": "e1c2b3a1-513a-4135-947f-452b26409549"
      },
      "source": [
        "gc.collect()"
      ],
      "execution_count": 21,
      "outputs": [
        {
          "output_type": "execute_result",
          "data": {
            "text/plain": [
              "2265"
            ]
          },
          "metadata": {
            "tags": []
          },
          "execution_count": 21
        }
      ]
    },
    {
      "cell_type": "code",
      "metadata": {
        "id": "4mPP6I1aArV7"
      },
      "source": [
        "! pip install tensorflowjs"
      ],
      "execution_count": null,
      "outputs": []
    },
    {
      "cell_type": "code",
      "metadata": {
        "id": "-e2IT_xAArNp"
      },
      "source": [
        "import tensorflowjs\n",
        "tensorflowjs.converters.save_keras_model(model_classifier,'/content/drive/MyDrive/CapstoneDataSet/classificationModel')"
      ],
      "execution_count": 23,
      "outputs": []
    },
    {
      "cell_type": "code",
      "metadata": {
        "colab": {
          "base_uri": "https://localhost:8080/"
        },
        "id": "xiBeZfGRArAi",
        "outputId": "21be8c93-9eb1-4a96-d314-7d81899037ab"
      },
      "source": [
        "gc.collect()"
      ],
      "execution_count": 24,
      "outputs": [
        {
          "output_type": "execute_result",
          "data": {
            "text/plain": [
              "120"
            ]
          },
          "metadata": {
            "tags": []
          },
          "execution_count": 24
        }
      ]
    },
    {
      "cell_type": "code",
      "metadata": {
        "id": "gxsUdhbwskw-"
      },
      "source": [
        "a = 200\n",
        "b = 220\n",
        "y_test_predict = model_classifier.predict(X_val_c[a:b])\n",
        "act = y_val_c[a:b]"
      ],
      "execution_count": 47,
      "outputs": []
    },
    {
      "cell_type": "code",
      "metadata": {
        "colab": {
          "base_uri": "https://localhost:8080/"
        },
        "id": "k8p32OMJdU4j",
        "outputId": "1dabade8-2f6a-453f-90b6-9a48835092a1"
      },
      "source": [
        "for i in range(10):\n",
        "  print(y_test_predict[i].argmax(), act[i].argmax())"
      ],
      "execution_count": 48,
      "outputs": [
        {
          "output_type": "stream",
          "text": [
            "0 0\n",
            "1 1\n",
            "1 1\n",
            "0 0\n",
            "1 1\n",
            "0 0\n",
            "0 0\n",
            "1 1\n",
            "0 0\n",
            "0 0\n"
          ],
          "name": "stdout"
        }
      ]
    },
    {
      "cell_type": "code",
      "metadata": {
        "id": "Q7dn5W0_fP0U"
      },
      "source": [
        ""
      ],
      "execution_count": null,
      "outputs": []
    }
  ]
}