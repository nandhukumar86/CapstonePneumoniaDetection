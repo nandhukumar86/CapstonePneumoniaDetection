{
  "nbformat": 4,
  "nbformat_minor": 0,
  "metadata": {
    "colab": {
      "name": "DenseNet_TransferLearning.ipynb",
      "provenance": [],
      "collapsed_sections": [],
      "machine_shape": "hm",
      "include_colab_link": true
    },
    "kernelspec": {
      "name": "python3",
      "display_name": "Python 3"
    },
    "language_info": {
      "name": "python"
    },
    "accelerator": "GPU"
  },
  "cells": [
    {
      "cell_type": "markdown",
      "metadata": {
        "id": "view-in-github",
        "colab_type": "text"
      },
      "source": [
        "<a href=\"https://colab.research.google.com/github/nandhukumar86/CapstonePneumoniaDetection/blob/main/DenseNet_TransferLearning_Segmentation.ipynb\" target=\"_parent\"><img src=\"https://colab.research.google.com/assets/colab-badge.svg\" alt=\"Open In Colab\"/></a>"
      ]
    },
    {
      "cell_type": "code",
      "metadata": {
        "id": "iM6jcICpwt-W"
      },
      "source": [
        "import numpy as np\n",
        "import pandas as pd\n",
        "import seaborn as sns\n",
        "import matplotlib.pyplot as plt\n",
        "sns.set(color_codes=True)\n",
        "%matplotlib inline\n",
        "import cv2\n",
        "import skimage.io as io\n",
        "import os\n",
        "import tensorflow\n",
        "from tensorflow.keras import Sequential\n",
        "from tensorflow.keras.models import Model\n",
        "from tensorflow.keras.layers import Dense\n",
        "from tensorflow.keras.layers import Flatten\n",
        "from tensorflow.keras.layers import Conv2D, Concatenate, Reshape, UpSampling2D\n",
        "import pickle\n",
        "from tensorflow.keras.applications.densenet import preprocess_input\n",
        "from tensorflow.keras.losses import binary_crossentropy\n",
        "import gc\n",
        "from tensorflow.keras.applications import DenseNet121, DenseNet201\n",
        "from tensorflow.keras.applications import VGG16\n",
        "from google.colab.patches import cv2_imshow\n",
        "from tensorflow import reduce_sum\n",
        "from tensorflow.keras.backend import log,epsilon\n",
        "\n",
        "from sklearn.model_selection import train_test_split"
      ],
      "execution_count": 2,
      "outputs": []
    },
    {
      "cell_type": "code",
      "metadata": {
        "colab": {
          "base_uri": "https://localhost:8080/"
        },
        "id": "xQ5CckCfsL0A",
        "outputId": "8bcb3c01-f54c-4eda-a670-784d4ec2612e"
      },
      "source": [
        "from google.colab import drive\n",
        "drive.mount('/content/drive')"
      ],
      "execution_count": 3,
      "outputs": [
        {
          "output_type": "stream",
          "text": [
            "Drive already mounted at /content/drive; to attempt to forcibly remount, call drive.mount(\"/content/drive\", force_remount=True).\n"
          ],
          "name": "stdout"
        }
      ]
    },
    {
      "cell_type": "code",
      "metadata": {
        "id": "h-8nkhprxfsQ"
      },
      "source": [
        "file = open('/content/drive/MyDrive/CapstoneDataSet/dataset/RezisedLabel-1.pickle', 'rb')\n",
        "dfData = pickle.load(file)\n",
        "file.close()"
      ],
      "execution_count": 4,
      "outputs": []
    },
    {
      "cell_type": "code",
      "metadata": {
        "id": "f5QtoIIbgF0N"
      },
      "source": [
        "def dice_coefficient(y_true, y_pred):\n",
        "  numerator = 2 * reduce_sum(y_true * y_pred)\n",
        "  denominator = reduce_sum(y_true + y_pred)\n",
        "\n",
        "  return numerator / (denominator + epsilon())\n",
        "\n",
        "\n",
        "def loss(y_true, y_pred):\n",
        "  return binary_crossentropy(y_true, y_pred) - log(dice_coefficient(y_true, y_pred) + epsilon())"
      ],
      "execution_count": 5,
      "outputs": []
    },
    {
      "cell_type": "code",
      "metadata": {
        "id": "q3_K_q5CWOtF"
      },
      "source": [
        "dfData_0 = dfData[dfData['Target'] == 0].sample(9555)\n",
        "dfData_1 = dfData[dfData['Target'] == 1].sample(9555)"
      ],
      "execution_count": 6,
      "outputs": []
    },
    {
      "cell_type": "code",
      "metadata": {
        "id": "UOqwQUQ2h0Ut"
      },
      "source": [
        "dfData = pd.concat([dfData_0, dfData_1], axis=0, ignore_index=True)"
      ],
      "execution_count": 7,
      "outputs": []
    },
    {
      "cell_type": "code",
      "metadata": {
        "id": "LcOKC-q-h8_t"
      },
      "source": [
        "dfData = dfData.sample(frac=1)"
      ],
      "execution_count": 8,
      "outputs": []
    },
    {
      "cell_type": "code",
      "metadata": {
        "colab": {
          "base_uri": "https://localhost:8080/"
        },
        "id": "uCTS0J_6yjL7",
        "outputId": "5d7bae91-d251-4aa2-9048-b265f4f245d5"
      },
      "source": [
        "y = []\n",
        "y_classifier = []\n",
        "X = []\n",
        "i = 0\n",
        "for pId in dfData['patientId'].unique():\n",
        "  data = dfData[dfData['patientId'] == pId][['Image256','xo','yo','widtho','heighto','Target']]\n",
        "  X.append(cv2.cvtColor(cv2.resize(data.iloc[0][0],(256,256)), cv2.COLOR_BAYER_GR2RGB))\n",
        "  mask = np.zeros((256,256))\n",
        "  if (data.iloc[0][5] == 1):\n",
        "    j = 0\n",
        "    for segment in range(data.shape[0]):\n",
        "      xo = int(data.iloc[j][1])\n",
        "      yo = int(data.iloc[j][2])\n",
        "      wo = int(data.iloc[j][1] + data.iloc[j][3])\n",
        "      ho = int(data.iloc[j][2] + data.iloc[j][4])\n",
        "      mask = cv2.rectangle(mask,(xo, yo),(wo, ho),(255,0,0),-1)\n",
        "      mask = cv2.resize(mask,(32,32))\n",
        "      j = j+1\n",
        "  y.append(cv2.resize(mask,(8,8)))\n",
        "  y_classifier.append(data.iloc[0][5])\n",
        "  if (i%1000 == 0):\n",
        "    print(i, \" completed\")\n",
        "  # if (i==9999):\n",
        "  #   break;\n",
        "  i = i + 1"
      ],
      "execution_count": 9,
      "outputs": [
        {
          "output_type": "stream",
          "text": [
            "0  completed\n",
            "1000  completed\n",
            "2000  completed\n",
            "3000  completed\n",
            "4000  completed\n",
            "5000  completed\n",
            "6000  completed\n",
            "7000  completed\n",
            "8000  completed\n",
            "9000  completed\n",
            "10000  completed\n",
            "11000  completed\n",
            "12000  completed\n",
            "13000  completed\n",
            "14000  completed\n",
            "15000  completed\n"
          ],
          "name": "stdout"
        }
      ]
    },
    {
      "cell_type": "code",
      "metadata": {
        "id": "0l57SMYhruY7"
      },
      "source": [
        "X_train, X_val, y_train, y_val = train_test_split(X, y, test_size=0.30, random_state=100)\n",
        "\n",
        "X_train_c, X_val_c, y_train_c, y_val_c = train_test_split(X, y_classifier, test_size=0.30, random_state=100)"
      ],
      "execution_count": 10,
      "outputs": []
    },
    {
      "cell_type": "code",
      "metadata": {
        "id": "jl95BoS1ICL2"
      },
      "source": [
        "tensorflow.keras.backend.clear_session()"
      ],
      "execution_count": 11,
      "outputs": []
    },
    {
      "cell_type": "code",
      "metadata": {
        "colab": {
          "base_uri": "https://localhost:8080/"
        },
        "id": "_y708Uh7piBt",
        "outputId": "8be5e384-a360-4561-d56e-f178e00cb530"
      },
      "source": [
        "gc.collect()"
      ],
      "execution_count": 12,
      "outputs": [
        {
          "output_type": "execute_result",
          "data": {
            "text/plain": [
              "237"
            ]
          },
          "metadata": {
            "tags": []
          },
          "execution_count": 12
        }
      ]
    },
    {
      "cell_type": "code",
      "metadata": {
        "id": "kK6jBcfy4-nu"
      },
      "source": [
        "model = DenseNet201(input_shape=(256,256,3),include_top=False,weights='imagenet')"
      ],
      "execution_count": 52,
      "outputs": []
    },
    {
      "cell_type": "code",
      "metadata": {
        "id": "Ox5SV0CA2NuJ"
      },
      "source": [
        "lengthLayers = len(model.layers)\n",
        "pcLayers = int(0.90 * lengthLayers)\n",
        "for i in range(pcLayers):\n",
        "  model.layers[i].trainable = False\n",
        "  "
      ],
      "execution_count": 53,
      "outputs": []
    },
    {
      "cell_type": "code",
      "metadata": {
        "id": "IHmph1Y13uMq"
      },
      "source": [
        "layer8x8 = model.get_layer('conv5_block32_2_conv').output\n",
        "\n",
        "y = Flatten()(layer8x8)\n",
        "y = Dense(1, activation='sigmoid')(y)\n",
        "model_classifier = Model(model.input, y)"
      ],
      "execution_count": 54,
      "outputs": []
    },
    {
      "cell_type": "code",
      "metadata": {
        "colab": {
          "base_uri": "https://localhost:8080/"
        },
        "id": "AJ2mEPMElYrD",
        "outputId": "9195791d-f1b4-45f1-d40f-01a114f04b52"
      },
      "source": [
        "gc.collect()"
      ],
      "execution_count": 16,
      "outputs": [
        {
          "output_type": "execute_result",
          "data": {
            "text/plain": [
              "50"
            ]
          },
          "metadata": {
            "tags": []
          },
          "execution_count": 16
        }
      ]
    },
    {
      "cell_type": "code",
      "metadata": {
        "id": "CgC14cGyTgaD"
      },
      "source": [
        "X_train_c = preprocess_input(np.array(X_train_c))\n",
        "y_train_c = np.array(y_train_c)\n",
        "X_val_c = preprocess_input(np.array(X_val_c))\n",
        "y_val_c = np.array(y_val_c)"
      ],
      "execution_count": 39,
      "outputs": []
    },
    {
      "cell_type": "code",
      "metadata": {
        "colab": {
          "base_uri": "https://localhost:8080/"
        },
        "id": "8qB2PJT8VkwY",
        "outputId": "31146f48-b2bf-423e-c811-04aba550f88b"
      },
      "source": [
        "gc.collect()"
      ],
      "execution_count": 40,
      "outputs": [
        {
          "output_type": "execute_result",
          "data": {
            "text/plain": [
              "176"
            ]
          },
          "metadata": {
            "tags": []
          },
          "execution_count": 40
        }
      ]
    },
    {
      "cell_type": "code",
      "metadata": {
        "colab": {
          "base_uri": "https://localhost:8080/"
        },
        "id": "Ty7HUc63gWFw",
        "outputId": "ae775db9-501a-4b03-9f0e-ecef91f50080"
      },
      "source": [
        "model_classifier.compile(optimizer='adam', loss='binary_crossentropy', metrics=['accuracy'])\n",
        "\n",
        "earlystop_classifier = tensorflow.keras.callbacks.EarlyStopping(monitor='accuracy', patience=2, min_delta=0.01)\n",
        "\n",
        "model_classifier.fit(X_train_c, y_train_c, epochs=5, batch_size=32, validation_data=(X_val_c, y_val_c), verbose=1) \n"
      ],
      "execution_count": 41,
      "outputs": [
        {
          "output_type": "stream",
          "text": [
            "Epoch 1/5\n",
            "341/341 [==============================] - 70s 172ms/step - loss: 0.4737 - accuracy: 0.7747 - val_loss: 0.4397 - val_accuracy: 0.7938\n",
            "Epoch 2/5\n",
            "341/341 [==============================] - 54s 160ms/step - loss: 0.4267 - accuracy: 0.8001 - val_loss: 0.4500 - val_accuracy: 0.7913\n",
            "Epoch 3/5\n",
            "341/341 [==============================] - 54s 160ms/step - loss: 0.3831 - accuracy: 0.8268 - val_loss: 0.4688 - val_accuracy: 0.7808\n",
            "Epoch 4/5\n",
            "341/341 [==============================] - 54s 160ms/step - loss: 0.2992 - accuracy: 0.8743 - val_loss: 0.5857 - val_accuracy: 0.7594\n",
            "Epoch 5/5\n",
            "341/341 [==============================] - 55s 161ms/step - loss: 0.1822 - accuracy: 0.9279 - val_loss: 0.7057 - val_accuracy: 0.7457\n"
          ],
          "name": "stdout"
        },
        {
          "output_type": "execute_result",
          "data": {
            "text/plain": [
              "<tensorflow.python.keras.callbacks.History at 0x7fe0591aeb10>"
            ]
          },
          "metadata": {
            "tags": []
          },
          "execution_count": 41
        }
      ]
    },
    {
      "cell_type": "code",
      "metadata": {
        "colab": {
          "base_uri": "https://localhost:8080/"
        },
        "id": "4mPP6I1aArV7",
        "outputId": "0350f525-3dfa-40a4-e4ba-f048b777af0f"
      },
      "source": [
        "! pip install tensorflowjs"
      ],
      "execution_count": 42,
      "outputs": [
        {
          "output_type": "stream",
          "text": [
            "Requirement already satisfied: tensorflowjs in /usr/local/lib/python3.7/dist-packages (3.7.0)\n",
            "Requirement already satisfied: tensorflow<3,>=2.1.0 in /usr/local/lib/python3.7/dist-packages (from tensorflowjs) (2.5.0)\n",
            "Requirement already satisfied: six<2,>=1.12.0 in /usr/local/lib/python3.7/dist-packages (from tensorflowjs) (1.15.0)\n",
            "Requirement already satisfied: tensorflow-hub<0.13,>=0.7.0; python_version >= \"3\" in /usr/local/lib/python3.7/dist-packages (from tensorflowjs) (0.12.0)\n",
            "Requirement already satisfied: numpy~=1.19.2 in /usr/local/lib/python3.7/dist-packages (from tensorflow<3,>=2.1.0->tensorflowjs) (1.19.5)\n",
            "Requirement already satisfied: wheel~=0.35 in /usr/local/lib/python3.7/dist-packages (from tensorflow<3,>=2.1.0->tensorflowjs) (0.36.2)\n",
            "Requirement already satisfied: google-pasta~=0.2 in /usr/local/lib/python3.7/dist-packages (from tensorflow<3,>=2.1.0->tensorflowjs) (0.2.0)\n",
            "Requirement already satisfied: keras-nightly~=2.5.0.dev in /usr/local/lib/python3.7/dist-packages (from tensorflow<3,>=2.1.0->tensorflowjs) (2.5.0.dev2021032900)\n",
            "Requirement already satisfied: flatbuffers~=1.12.0 in /usr/local/lib/python3.7/dist-packages (from tensorflow<3,>=2.1.0->tensorflowjs) (1.12)\n",
            "Requirement already satisfied: keras-preprocessing~=1.1.2 in /usr/local/lib/python3.7/dist-packages (from tensorflow<3,>=2.1.0->tensorflowjs) (1.1.2)\n",
            "Requirement already satisfied: protobuf>=3.9.2 in /usr/local/lib/python3.7/dist-packages (from tensorflow<3,>=2.1.0->tensorflowjs) (3.12.4)\n",
            "Requirement already satisfied: termcolor~=1.1.0 in /usr/local/lib/python3.7/dist-packages (from tensorflow<3,>=2.1.0->tensorflowjs) (1.1.0)\n",
            "Requirement already satisfied: opt-einsum~=3.3.0 in /usr/local/lib/python3.7/dist-packages (from tensorflow<3,>=2.1.0->tensorflowjs) (3.3.0)\n",
            "Requirement already satisfied: tensorboard~=2.5 in /usr/local/lib/python3.7/dist-packages (from tensorflow<3,>=2.1.0->tensorflowjs) (2.5.0)\n",
            "Requirement already satisfied: absl-py~=0.10 in /usr/local/lib/python3.7/dist-packages (from tensorflow<3,>=2.1.0->tensorflowjs) (0.12.0)\n",
            "Requirement already satisfied: h5py~=3.1.0 in /usr/local/lib/python3.7/dist-packages (from tensorflow<3,>=2.1.0->tensorflowjs) (3.1.0)\n",
            "Requirement already satisfied: grpcio~=1.34.0 in /usr/local/lib/python3.7/dist-packages (from tensorflow<3,>=2.1.0->tensorflowjs) (1.34.1)\n",
            "Requirement already satisfied: tensorflow-estimator<2.6.0,>=2.5.0rc0 in /usr/local/lib/python3.7/dist-packages (from tensorflow<3,>=2.1.0->tensorflowjs) (2.5.0)\n",
            "Requirement already satisfied: gast==0.4.0 in /usr/local/lib/python3.7/dist-packages (from tensorflow<3,>=2.1.0->tensorflowjs) (0.4.0)\n",
            "Requirement already satisfied: wrapt~=1.12.1 in /usr/local/lib/python3.7/dist-packages (from tensorflow<3,>=2.1.0->tensorflowjs) (1.12.1)\n",
            "Requirement already satisfied: typing-extensions~=3.7.4 in /usr/local/lib/python3.7/dist-packages (from tensorflow<3,>=2.1.0->tensorflowjs) (3.7.4.3)\n",
            "Requirement already satisfied: astunparse~=1.6.3 in /usr/local/lib/python3.7/dist-packages (from tensorflow<3,>=2.1.0->tensorflowjs) (1.6.3)\n",
            "Requirement already satisfied: setuptools in /usr/local/lib/python3.7/dist-packages (from protobuf>=3.9.2->tensorflow<3,>=2.1.0->tensorflowjs) (57.0.0)\n",
            "Requirement already satisfied: tensorboard-plugin-wit>=1.6.0 in /usr/local/lib/python3.7/dist-packages (from tensorboard~=2.5->tensorflow<3,>=2.1.0->tensorflowjs) (1.8.0)\n",
            "Requirement already satisfied: google-auth-oauthlib<0.5,>=0.4.1 in /usr/local/lib/python3.7/dist-packages (from tensorboard~=2.5->tensorflow<3,>=2.1.0->tensorflowjs) (0.4.4)\n",
            "Requirement already satisfied: requests<3,>=2.21.0 in /usr/local/lib/python3.7/dist-packages (from tensorboard~=2.5->tensorflow<3,>=2.1.0->tensorflowjs) (2.23.0)\n",
            "Requirement already satisfied: google-auth<2,>=1.6.3 in /usr/local/lib/python3.7/dist-packages (from tensorboard~=2.5->tensorflow<3,>=2.1.0->tensorflowjs) (1.31.0)\n",
            "Requirement already satisfied: werkzeug>=0.11.15 in /usr/local/lib/python3.7/dist-packages (from tensorboard~=2.5->tensorflow<3,>=2.1.0->tensorflowjs) (1.0.1)\n",
            "Requirement already satisfied: tensorboard-data-server<0.7.0,>=0.6.0 in /usr/local/lib/python3.7/dist-packages (from tensorboard~=2.5->tensorflow<3,>=2.1.0->tensorflowjs) (0.6.1)\n",
            "Requirement already satisfied: markdown>=2.6.8 in /usr/local/lib/python3.7/dist-packages (from tensorboard~=2.5->tensorflow<3,>=2.1.0->tensorflowjs) (3.3.4)\n",
            "Requirement already satisfied: cached-property; python_version < \"3.8\" in /usr/local/lib/python3.7/dist-packages (from h5py~=3.1.0->tensorflow<3,>=2.1.0->tensorflowjs) (1.5.2)\n",
            "Requirement already satisfied: requests-oauthlib>=0.7.0 in /usr/local/lib/python3.7/dist-packages (from google-auth-oauthlib<0.5,>=0.4.1->tensorboard~=2.5->tensorflow<3,>=2.1.0->tensorflowjs) (1.3.0)\n",
            "Requirement already satisfied: certifi>=2017.4.17 in /usr/local/lib/python3.7/dist-packages (from requests<3,>=2.21.0->tensorboard~=2.5->tensorflow<3,>=2.1.0->tensorflowjs) (2021.5.30)\n",
            "Requirement already satisfied: urllib3!=1.25.0,!=1.25.1,<1.26,>=1.21.1 in /usr/local/lib/python3.7/dist-packages (from requests<3,>=2.21.0->tensorboard~=2.5->tensorflow<3,>=2.1.0->tensorflowjs) (1.24.3)\n",
            "Requirement already satisfied: chardet<4,>=3.0.2 in /usr/local/lib/python3.7/dist-packages (from requests<3,>=2.21.0->tensorboard~=2.5->tensorflow<3,>=2.1.0->tensorflowjs) (3.0.4)\n",
            "Requirement already satisfied: idna<3,>=2.5 in /usr/local/lib/python3.7/dist-packages (from requests<3,>=2.21.0->tensorboard~=2.5->tensorflow<3,>=2.1.0->tensorflowjs) (2.10)\n",
            "Requirement already satisfied: pyasn1-modules>=0.2.1 in /usr/local/lib/python3.7/dist-packages (from google-auth<2,>=1.6.3->tensorboard~=2.5->tensorflow<3,>=2.1.0->tensorflowjs) (0.2.8)\n",
            "Requirement already satisfied: cachetools<5.0,>=2.0.0 in /usr/local/lib/python3.7/dist-packages (from google-auth<2,>=1.6.3->tensorboard~=2.5->tensorflow<3,>=2.1.0->tensorflowjs) (4.2.2)\n",
            "Requirement already satisfied: rsa<5,>=3.1.4; python_version >= \"3.6\" in /usr/local/lib/python3.7/dist-packages (from google-auth<2,>=1.6.3->tensorboard~=2.5->tensorflow<3,>=2.1.0->tensorflowjs) (4.7.2)\n",
            "Requirement already satisfied: importlib-metadata; python_version < \"3.8\" in /usr/local/lib/python3.7/dist-packages (from markdown>=2.6.8->tensorboard~=2.5->tensorflow<3,>=2.1.0->tensorflowjs) (4.5.0)\n",
            "Requirement already satisfied: oauthlib>=3.0.0 in /usr/local/lib/python3.7/dist-packages (from requests-oauthlib>=0.7.0->google-auth-oauthlib<0.5,>=0.4.1->tensorboard~=2.5->tensorflow<3,>=2.1.0->tensorflowjs) (3.1.1)\n",
            "Requirement already satisfied: pyasn1<0.5.0,>=0.4.6 in /usr/local/lib/python3.7/dist-packages (from pyasn1-modules>=0.2.1->google-auth<2,>=1.6.3->tensorboard~=2.5->tensorflow<3,>=2.1.0->tensorflowjs) (0.4.8)\n",
            "Requirement already satisfied: zipp>=0.5 in /usr/local/lib/python3.7/dist-packages (from importlib-metadata; python_version < \"3.8\"->markdown>=2.6.8->tensorboard~=2.5->tensorflow<3,>=2.1.0->tensorflowjs) (3.4.1)\n"
          ],
          "name": "stdout"
        }
      ]
    },
    {
      "cell_type": "code",
      "metadata": {
        "id": "-e2IT_xAArNp"
      },
      "source": [
        "import tensorflowjs\n",
        "tensorflowjs.converters.save_keras_model(model_classifier,'/content/drive/MyDrive/CapstoneDataSet/classificationModel')"
      ],
      "execution_count": 43,
      "outputs": []
    },
    {
      "cell_type": "code",
      "metadata": {
        "colab": {
          "base_uri": "https://localhost:8080/"
        },
        "id": "xiBeZfGRArAi",
        "outputId": "d563ad4d-7f0d-4efc-a314-bb2267dd1fe2"
      },
      "source": [
        "gc.collect()"
      ],
      "execution_count": 17,
      "outputs": [
        {
          "output_type": "execute_result",
          "data": {
            "text/plain": [
              "50"
            ]
          },
          "metadata": {
            "tags": []
          },
          "execution_count": 17
        }
      ]
    },
    {
      "cell_type": "code",
      "metadata": {
        "id": "vr0vC2d8nXP6"
      },
      "source": [
        "yy = Conv2D(1, kernel_size = 1)(layer8x8)\n",
        "model_image = Model(model.input, yy)"
      ],
      "execution_count": 18,
      "outputs": []
    },
    {
      "cell_type": "code",
      "metadata": {
        "id": "Wq62QckB3x_S"
      },
      "source": [
        "X_train = preprocess_input(np.array(X_train))\n",
        "y_train = np.array(y_train)/255\n",
        "X_val = preprocess_input(np.array(X_val))\n",
        "y_val = np.array(y_val)/255"
      ],
      "execution_count": 19,
      "outputs": []
    },
    {
      "cell_type": "code",
      "metadata": {
        "colab": {
          "base_uri": "https://localhost:8080/"
        },
        "id": "YNo1v8nPtBul",
        "outputId": "d671c40e-4435-4287-839c-dfe7d84a834d"
      },
      "source": [
        "model_image.compile(optimizer='adam', loss=loss, metrics=[dice_coefficient])\n",
        "\n",
        "earlystop = tensorflow.keras.callbacks.EarlyStopping(monitor='dice_coefficient', patience=5, min_delta=0.01)\n",
        "\n",
        "model_image.fit(X_train, y_train, epochs=5, batch_size=16, verbose=1, validation_data=(X_val, y_val), callbacks=[earlystop]) "
      ],
      "execution_count": 21,
      "outputs": [
        {
          "output_type": "stream",
          "text": [
            "Epoch 1/5\n",
            "681/681 [==============================] - 92s 99ms/step - loss: 1.3515 - dice_coefficient: 0.3282 - val_loss: 1.2706 - val_dice_coefficient: 0.3470\n",
            "Epoch 2/5\n",
            "681/681 [==============================] - 64s 94ms/step - loss: 1.1903 - dice_coefficient: 0.3671 - val_loss: 1.2133 - val_dice_coefficient: 0.3653\n",
            "Epoch 3/5\n",
            "681/681 [==============================] - 64s 94ms/step - loss: 1.1589 - dice_coefficient: 0.3779 - val_loss: 1.2201 - val_dice_coefficient: 0.3616\n",
            "Epoch 4/5\n",
            "681/681 [==============================] - 64s 94ms/step - loss: 1.0951 - dice_coefficient: 0.4003 - val_loss: 1.2213 - val_dice_coefficient: 0.3658\n",
            "Epoch 5/5\n",
            "681/681 [==============================] - 65s 95ms/step - loss: 1.0546 - dice_coefficient: 0.4130 - val_loss: 1.2240 - val_dice_coefficient: 0.3630\n"
          ],
          "name": "stdout"
        },
        {
          "output_type": "execute_result",
          "data": {
            "text/plain": [
              "<tensorflow.python.keras.callbacks.History at 0x7fb1a0179250>"
            ]
          },
          "metadata": {
            "tags": []
          },
          "execution_count": 21
        }
      ]
    },
    {
      "cell_type": "code",
      "metadata": {
        "id": "pr2mQ4bkKuKh"
      },
      "source": [
        "import tensorflowjs\n",
        "tensorflowjs.converters.save_keras_model(model_image,'/content/drive/MyDrive/CapstoneDataSet/segmentModel')"
      ],
      "execution_count": 24,
      "outputs": []
    },
    {
      "cell_type": "code",
      "metadata": {
        "id": "RFt9qIA9rqxO"
      },
      "source": [
        "y_test_predict = model_image.predict(X_val)\n",
        "# y_train_predict = model.predict(X_train)\n"
      ],
      "execution_count": 26,
      "outputs": []
    },
    {
      "cell_type": "code",
      "metadata": {
        "id": "nb1N1D0eU1kO",
        "colab": {
          "base_uri": "https://localhost:8080/",
          "height": 304
        },
        "outputId": "73f286d1-449e-499c-fd64-b8f6b5f949d9"
      },
      "source": [
        "n = 401\n",
        "\n",
        "fig, axes = plt.subplots(1,2,figsize=(10,5))\n",
        "axes[0].imshow(y_test_predict[n].reshape(8,8))\n",
        "axes[1].imshow(y_val[n]);\n"
      ],
      "execution_count": 51,
      "outputs": [
        {
          "output_type": "display_data",
          "data": {
            "image/png": "[encoded data removed]",
            "text/plain": [
              "<Figure size 720x360 with 2 Axes>"
            ]
          },
          "metadata": {
            "tags": [],
            "needs_background": "light"
          }
        }
      ]
    },
    {
      "cell_type": "code",
      "metadata": {
        "id": "V4c8cVtdl3yY",
        "colab": {
          "base_uri": "https://localhost:8080/"
        },
        "outputId": "9f0d6e88-b995-4531-c6df-6e6a64e3cf1d"
      },
      "source": [
        "y_val[n]"
      ],
      "execution_count": 48,
      "outputs": [
        {
          "output_type": "execute_result",
          "data": {
            "text/plain": [
              "array([[0.  , 0.  , 0.  , 0.  , 0.  , 0.  , 0.  , 0.  ],\n",
              "       [0.  , 0.  , 0.  , 0.  , 0.  , 0.  , 0.  , 0.  ],\n",
              "       [0.  , 0.  , 0.  , 0.  , 0.  , 0.  , 0.  , 0.  ],\n",
              "       [0.  , 1.  , 1.  , 0.  , 0.  , 0.  , 0.  , 0.  ],\n",
              "       [0.  , 1.  , 1.  , 0.  , 0.  , 0.  , 0.  , 0.  ],\n",
              "       [0.  , 0.75, 0.75, 0.  , 0.  , 0.  , 0.  , 0.  ],\n",
              "       [0.  , 0.  , 0.  , 0.  , 0.  , 0.  , 0.  , 0.  ],\n",
              "       [0.  , 0.  , 0.  , 0.  , 0.  , 0.  , 0.  , 0.  ]])"
            ]
          },
          "metadata": {
            "tags": []
          },
          "execution_count": 48
        }
      ]
    },
    {
      "cell_type": "code",
      "metadata": {
        "id": "gxsUdhbwskw-"
      },
      "source": [
        ""
      ],
      "execution_count": null,
      "outputs": []
    }
  ]
}