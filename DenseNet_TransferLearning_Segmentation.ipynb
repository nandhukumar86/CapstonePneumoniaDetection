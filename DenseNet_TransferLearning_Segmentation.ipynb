{
  "nbformat": 4,
  "nbformat_minor": 0,
  "metadata": {
    "colab": {
      "name": "DenseNet_TransferLearning_Segmentation.ipynb",
      "provenance": [],
      "collapsed_sections": [],
      "machine_shape": "hm",
      "include_colab_link": true
    },
    "kernelspec": {
      "name": "python3",
      "display_name": "Python 3"
    },
    "language_info": {
      "name": "python"
    },
    "accelerator": "GPU"
  },
  "cells": [
    {
      "cell_type": "markdown",
      "metadata": {
        "id": "view-in-github",
        "colab_type": "text"
      },
      "source": [
        "<a href=\"https://colab.research.google.com/github/nandhukumar86/CapstonePneumoniaDetection/blob/main/DenseNet_TransferLearning_Segmentation.ipynb\" target=\"_parent\"><img src=\"https://colab.research.google.com/assets/colab-badge.svg\" alt=\"Open In Colab\"/></a>"
      ]
    },
    {
      "cell_type": "code",
      "metadata": {
        "id": "iM6jcICpwt-W"
      },
      "source": [
        "import numpy as np\n",
        "import pandas as pd\n",
        "import seaborn as sns\n",
        "import matplotlib.pyplot as plt\n",
        "sns.set(color_codes=True)\n",
        "%matplotlib inline\n",
        "import cv2\n",
        "import skimage.io as io\n",
        "import os\n",
        "import tensorflow\n",
        "from tensorflow.keras import Sequential\n",
        "from tensorflow.keras.models import Model\n",
        "from tensorflow.keras.layers import Dense\n",
        "from tensorflow.keras.layers import Flatten, ReLU, Conv2DTranspose\n",
        "from tensorflow.keras.layers import Conv2D, Concatenate, Reshape, UpSampling2D\n",
        "import pickle\n",
        "from tensorflow.keras.applications.densenet import preprocess_input\n",
        "from tensorflow.keras.losses import binary_crossentropy\n",
        "import gc\n",
        "from tensorflow.keras.applications import DenseNet121, DenseNet201\n",
        "from tensorflow.keras.applications import VGG16\n",
        "from google.colab.patches import cv2_imshow\n",
        "from tensorflow import reduce_sum\n",
        "from tensorflow.keras.backend import log,epsilon\n",
        "from keras import backend as K\n",
        "from sklearn.model_selection import train_test_split"
      ],
      "execution_count": 1,
      "outputs": []
    },
    {
      "cell_type": "code",
      "metadata": {
        "colab": {
          "base_uri": "https://localhost:8080/"
        },
        "id": "xQ5CckCfsL0A",
        "outputId": "d98475fc-83b9-4631-d38f-d7a60447abcf"
      },
      "source": [
        "from google.colab import drive\n",
        "drive.mount('/content/drive')"
      ],
      "execution_count": 2,
      "outputs": [
        {
          "output_type": "stream",
          "text": [
            "Drive already mounted at /content/drive; to attempt to forcibly remount, call drive.mount(\"/content/drive\", force_remount=True).\n"
          ],
          "name": "stdout"
        }
      ]
    },
    {
      "cell_type": "code",
      "metadata": {
        "id": "PdYzy7M832jH"
      },
      "source": [
        "def dice_coef(y_true, y_pred, smooth=1):\n",
        "  intersection = K.sum(y_true * y_pred, axis=[1])\n",
        "  union = K.sum(y_true, axis=[1]) + K.sum(y_pred, axis=[1])\n",
        "  dice = K.mean((2. * intersection + smooth)/(union + smooth), axis=0)\n",
        "  return dice\n",
        "\n",
        "# def iou_coef(y_true, y_pred, smooth=1):\n",
        "#   intersection = K.sum(K.abs(y_true * y_pred), axis=[1])\n",
        "#   union = K.sum(y_true,[1])+K.sum(y_pred,[1])-intersection\n",
        "#   iou = K.mean((intersection + smooth) / (union + smooth), axis=0)\n",
        "#   return iou\n",
        "\n",
        "# def loss(y_true, y_pred):\n",
        "#   return binary_crossentropy(y_true, y_pred) - log(iou_coef(y_true, y_pred))\n",
        "\n",
        "\n",
        "# def dice_coefficient(y_true, y_pred):\n",
        "#     numerator = 2 * reduce_sum(y_true * y_pred)\n",
        "#     denominator = reduce_sum(y_true + y_pred)\n",
        "#     return numerator / (denominator + epsilon())\n",
        "\n",
        "def loss(y_true, y_pred):\n",
        "    return binary_crossentropy(y_true, y_pred) - log(dice_coef(y_true, y_pred) + epsilon())"
      ],
      "execution_count": 3,
      "outputs": []
    },
    {
      "cell_type": "code",
      "metadata": {
        "id": "h-8nkhprxfsQ"
      },
      "source": [
        "file = open('/content/drive/MyDrive/CapstoneDataSet/dataset/RezisedLabel-1.pickle', 'rb')\n",
        "dfData = pickle.load(file)\n",
        "file.close()"
      ],
      "execution_count": 4,
      "outputs": []
    },
    {
      "cell_type": "code",
      "metadata": {
        "id": "q3_K_q5CWOtF"
      },
      "source": [
        "dfData_0 = dfData[dfData['Target'] == 0].sample(9555)\n",
        "dfData_1 = dfData[dfData['Target'] == 1].sample(9555)"
      ],
      "execution_count": 5,
      "outputs": []
    },
    {
      "cell_type": "code",
      "metadata": {
        "id": "UOqwQUQ2h0Ut"
      },
      "source": [
        "dfData = pd.concat([dfData_0, dfData_1], axis=0, ignore_index=True)"
      ],
      "execution_count": 6,
      "outputs": []
    },
    {
      "cell_type": "code",
      "metadata": {
        "id": "LcOKC-q-h8_t"
      },
      "source": [
        "dfData = dfData.sample(frac=1)"
      ],
      "execution_count": 7,
      "outputs": []
    },
    {
      "cell_type": "code",
      "metadata": {
        "id": "uCTS0J_6yjL7",
        "colab": {
          "base_uri": "https://localhost:8080/"
        },
        "outputId": "181a9f1d-c09d-4b3b-9001-e696038edd18"
      },
      "source": [
        "y = []\n",
        "X = []\n",
        "i = 0\n",
        "for pId in dfData['patientId'].unique():\n",
        "  data = dfData[dfData['patientId'] == pId][['Image256','xo','yo','widtho','heighto','Target']]\n",
        "  X.append(cv2.cvtColor(cv2.resize(data.iloc[0][0],(256,256)), cv2.COLOR_BAYER_GR2RGB))\n",
        "  mask = np.zeros((256,256))\n",
        "  if (data.iloc[0][5] == 1):\n",
        "    j = 0\n",
        "    for segment in range(data.shape[0]):\n",
        "      xo = int(data.iloc[j][1])\n",
        "      yo = int(data.iloc[j][2])\n",
        "      wo = int(data.iloc[j][1] + data.iloc[j][3])\n",
        "      ho = int(data.iloc[j][2] + data.iloc[j][4])\n",
        "      mask = cv2.rectangle(mask,(xo, yo),(wo, ho),(255,0,0),-1)\n",
        "      # mask = cv2.resize(mask,(256,256))\n",
        "      j = j+1\n",
        "  y.append(cv2.resize(mask,(64,64)))\n",
        "  if (i%1000 == 0):\n",
        "    print(i, \" completed\")\n",
        "  i = i + 1"
      ],
      "execution_count": 8,
      "outputs": [
        {
          "output_type": "stream",
          "text": [
            "0  completed\n",
            "1000  completed\n",
            "2000  completed\n",
            "3000  completed\n",
            "4000  completed\n",
            "5000  completed\n",
            "6000  completed\n",
            "7000  completed\n",
            "8000  completed\n",
            "9000  completed\n",
            "10000  completed\n",
            "11000  completed\n",
            "12000  completed\n",
            "13000  completed\n",
            "14000  completed\n",
            "15000  completed\n"
          ],
          "name": "stdout"
        }
      ]
    },
    {
      "cell_type": "code",
      "metadata": {
        "id": "0l57SMYhruY7"
      },
      "source": [
        "X_train, X_val, y_train, y_val = train_test_split(X, y, test_size=0.30, random_state=48)"
      ],
      "execution_count": 9,
      "outputs": []
    },
    {
      "cell_type": "code",
      "metadata": {
        "id": "jl95BoS1ICL2"
      },
      "source": [
        "tensorflow.keras.backend.clear_session()"
      ],
      "execution_count": 10,
      "outputs": []
    },
    {
      "cell_type": "code",
      "metadata": {
        "colab": {
          "base_uri": "https://localhost:8080/"
        },
        "id": "TeWdVREoNgBc",
        "outputId": "53fb4e0f-db9d-4430-8daf-873bf0468c5c"
      },
      "source": [
        "gc.collect()"
      ],
      "execution_count": 11,
      "outputs": [
        {
          "output_type": "execute_result",
          "data": {
            "text/plain": [
              "286"
            ]
          },
          "metadata": {
            "tags": []
          },
          "execution_count": 11
        }
      ]
    },
    {
      "cell_type": "code",
      "metadata": {
        "id": "kK6jBcfy4-nu"
      },
      "source": [
        "model = DenseNet121(input_shape=(256,256,3),include_top=False,weights='imagenet')"
      ],
      "execution_count": 12,
      "outputs": []
    },
    {
      "cell_type": "code",
      "metadata": {
        "id": "Ox5SV0CA2NuJ"
      },
      "source": [
        "lengthLayers = len(model.layers)\n",
        "pcLayers = int(0.8 * lengthLayers)\n",
        "for i in range(pcLayers):\n",
        "  model.layers[i].trainable = False\n",
        "  "
      ],
      "execution_count": 13,
      "outputs": []
    },
    {
      "cell_type": "code",
      "metadata": {
        "id": "IHmph1Y13uMq"
      },
      "source": [
        "layer8x8 = model.get_layer('conv5_block16_2_conv').output\n",
        "layer16x16 = model.get_layer('conv4_block24_2_conv').output\n",
        "layer32x32 = model.get_layer('conv3_block12_2_conv').output\n",
        "layer64x64 = model.get_layer('conv2_block6_2_conv').output\n",
        "\n",
        "yy = Concatenate()([UpSampling2D()(layer8x8), layer16x16])\n",
        "yy = Concatenate()([UpSampling2D()(yy), layer32x32])\n",
        "yy = Concatenate()([UpSampling2D()(yy), layer64x64])\n",
        "\n",
        "yy = Conv2D(1, kernel_size = 1,activation='relu')(yy)\n",
        "yy = Reshape((64, 64))(yy)\n",
        "\n",
        "\n",
        "model_segments = Model(model.input, yy)"
      ],
      "execution_count": 14,
      "outputs": []
    },
    {
      "cell_type": "code",
      "metadata": {
        "colab": {
          "base_uri": "https://localhost:8080/"
        },
        "id": "K1KRty-0Y9A0",
        "outputId": "1aea6eb6-6458-4342-c2e6-f9509512bf77"
      },
      "source": [
        "gc.collect()"
      ],
      "execution_count": 15,
      "outputs": [
        {
          "output_type": "execute_result",
          "data": {
            "text/plain": [
              "1631"
            ]
          },
          "metadata": {
            "tags": []
          },
          "execution_count": 15
        }
      ]
    },
    {
      "cell_type": "code",
      "metadata": {
        "id": "Q7UmlEW4GskV"
      },
      "source": [
        "X_train = preprocess_input(np.array(X_train))\n",
        "X_val = preprocess_input(np.array(X_val))"
      ],
      "execution_count": 16,
      "outputs": []
    },
    {
      "cell_type": "code",
      "metadata": {
        "id": "RV7TyJ55q6MC"
      },
      "source": [
        "y_val = np.array(y_val)/255\n",
        "y_train = np.array(y_train)/255"
      ],
      "execution_count": 17,
      "outputs": []
    },
    {
      "cell_type": "code",
      "metadata": {
        "colab": {
          "base_uri": "https://localhost:8080/"
        },
        "id": "qmFINN_jG5Ud",
        "outputId": "0a76bddd-a0eb-4ffe-dcc4-de9666918d04"
      },
      "source": [
        "X_train.shape, y_train.shape, X_val.shape, y_val.shape"
      ],
      "execution_count": 18,
      "outputs": [
        {
          "output_type": "execute_result",
          "data": {
            "text/plain": [
              "((10896, 256, 256, 3), (10896, 64, 64), (4671, 256, 256, 3), (4671, 64, 64))"
            ]
          },
          "metadata": {
            "tags": []
          },
          "execution_count": 18
        }
      ]
    },
    {
      "cell_type": "code",
      "metadata": {
        "colab": {
          "base_uri": "https://localhost:8080/"
        },
        "id": "S6R2knSXZX4D",
        "outputId": "304cb663-31a1-447a-8277-40b9a244265b"
      },
      "source": [
        "gc.collect()"
      ],
      "execution_count": 19,
      "outputs": [
        {
          "output_type": "execute_result",
          "data": {
            "text/plain": [
              "200"
            ]
          },
          "metadata": {
            "tags": []
          },
          "execution_count": 19
        }
      ]
    },
    {
      "cell_type": "code",
      "metadata": {
        "colab": {
          "base_uri": "https://localhost:8080/"
        },
        "id": "Ty7HUc63gWFw",
        "outputId": "0bd4af29-365b-46a1-a6ba-1e2ca8296661"
      },
      "source": [
        "model_segments.compile(loss=tensorflow.keras.losses.CosineSimilarity(), \n",
        "                       optimizer='adam', \n",
        "                       metrics=['mse'])\n",
        "\n",
        "# earlystop_segments = tensorflow.keras.callbacks.EarlyStopping(monitor='accuracy', patience=3, min_delta=0.01)\n",
        "\n",
        "model_segments.fit(X_train, y_train, \n",
        "                     epochs=20, batch_size=16, \n",
        "                     validation_data=(X_val, y_val), \n",
        "                    #  callbacks = [earlystop_segments],\n",
        "                     verbose=1) \n"
      ],
      "execution_count": 20,
      "outputs": [
        {
          "output_type": "stream",
          "text": [
            "Epoch 1/20\n",
            "681/681 [==============================] - 55s 67ms/step - loss: -0.1072 - mse: 1.0969 - val_loss: -0.1078 - val_mse: 1.5525\n",
            "Epoch 2/20\n",
            "681/681 [==============================] - 43s 63ms/step - loss: -0.1110 - mse: 0.6342 - val_loss: -0.1090 - val_mse: 0.2545\n",
            "Epoch 3/20\n",
            "681/681 [==============================] - 43s 63ms/step - loss: -0.1135 - mse: 0.1630 - val_loss: -0.1095 - val_mse: 0.1298\n",
            "Epoch 4/20\n",
            "681/681 [==============================] - 43s 63ms/step - loss: -0.1158 - mse: 0.0940 - val_loss: -0.1094 - val_mse: 0.0736\n",
            "Epoch 5/20\n",
            "681/681 [==============================] - 43s 63ms/step - loss: -0.1178 - mse: 0.0700 - val_loss: -0.1083 - val_mse: 0.0686\n",
            "Epoch 6/20\n",
            "681/681 [==============================] - 43s 63ms/step - loss: -0.1195 - mse: 0.0580 - val_loss: -0.1089 - val_mse: 0.0707\n",
            "Epoch 7/20\n",
            "681/681 [==============================] - 43s 63ms/step - loss: -0.1208 - mse: 0.0514 - val_loss: -0.1082 - val_mse: 0.0494\n",
            "Epoch 8/20\n",
            "681/681 [==============================] - 43s 63ms/step - loss: -0.1217 - mse: 0.0472 - val_loss: -0.1086 - val_mse: 0.0683\n",
            "Epoch 9/20\n",
            "681/681 [==============================] - 43s 63ms/step - loss: -0.1224 - mse: 0.0444 - val_loss: -0.1086 - val_mse: 0.0648\n",
            "Epoch 10/20\n",
            "681/681 [==============================] - 43s 63ms/step - loss: -0.1229 - mse: 0.0434 - val_loss: -0.1059 - val_mse: 0.0392\n",
            "Epoch 11/20\n",
            "681/681 [==============================] - 43s 63ms/step - loss: -0.1235 - mse: 0.0410 - val_loss: -0.1070 - val_mse: 0.0472\n",
            "Epoch 12/20\n",
            "681/681 [==============================] - 43s 63ms/step - loss: -0.1240 - mse: 0.0400 - val_loss: -0.1084 - val_mse: 0.0631\n",
            "Epoch 13/20\n",
            "681/681 [==============================] - 43s 63ms/step - loss: -0.1243 - mse: 0.0396 - val_loss: -0.1066 - val_mse: 0.0516\n",
            "Epoch 14/20\n",
            "681/681 [==============================] - 43s 63ms/step - loss: -0.1245 - mse: 0.0400 - val_loss: -0.1071 - val_mse: 0.0435\n",
            "Epoch 15/20\n",
            "681/681 [==============================] - 43s 63ms/step - loss: -0.1246 - mse: 0.0402 - val_loss: -0.1066 - val_mse: 0.0441\n",
            "Epoch 16/20\n",
            "681/681 [==============================] - 43s 63ms/step - loss: -0.1248 - mse: 0.0402 - val_loss: -0.1071 - val_mse: 0.0446\n",
            "Epoch 17/20\n",
            "681/681 [==============================] - 43s 63ms/step - loss: -0.1252 - mse: 0.0388 - val_loss: -0.1070 - val_mse: 0.0418\n",
            "Epoch 18/20\n",
            "681/681 [==============================] - 43s 63ms/step - loss: -0.1253 - mse: 0.0381 - val_loss: -0.1062 - val_mse: 0.0439\n",
            "Epoch 19/20\n",
            "681/681 [==============================] - 43s 63ms/step - loss: -0.1254 - mse: 0.0383 - val_loss: -0.1076 - val_mse: 0.0519\n",
            "Epoch 20/20\n",
            "681/681 [==============================] - 43s 63ms/step - loss: -0.1256 - mse: 0.0381 - val_loss: -0.1055 - val_mse: 0.0405\n"
          ],
          "name": "stdout"
        },
        {
          "output_type": "execute_result",
          "data": {
            "text/plain": [
              "<tensorflow.python.keras.callbacks.History at 0x7fa8ea7a5990>"
            ]
          },
          "metadata": {
            "tags": []
          },
          "execution_count": 20
        }
      ]
    },
    {
      "cell_type": "code",
      "metadata": {
        "colab": {
          "base_uri": "https://localhost:8080/"
        },
        "id": "rUqJdJJVcamX",
        "outputId": "9d38b2fe-f890-4be0-dc3e-f796164b0535"
      },
      "source": [
        "gc.collect()"
      ],
      "execution_count": 49,
      "outputs": [
        {
          "output_type": "execute_result",
          "data": {
            "text/plain": [
              "1970"
            ]
          },
          "metadata": {
            "tags": []
          },
          "execution_count": 49
        }
      ]
    },
    {
      "cell_type": "code",
      "metadata": {
        "id": "4mPP6I1aArV7",
        "colab": {
          "base_uri": "https://localhost:8080/"
        },
        "outputId": "450adbf8-9aea-4a2d-bc4a-b1d2c62ed739"
      },
      "source": [
        "! pip install tensorflowjs"
      ],
      "execution_count": 35,
      "outputs": [
        {
          "output_type": "stream",
          "text": [
            "Collecting tensorflowjs\n",
            "\u001b[?25l  Downloading https://files.pythonhosted.org/packages/51/19/5ab51223cb178ab0f44fbc2ac494d015da135c70603a13eecb2328a59000/tensorflowjs-3.7.0-py3-none-any.whl (64kB)\n",
            "\r\u001b[K     |█████                           | 10kB 19.9MB/s eta 0:00:01\r\u001b[K     |██████████▏                     | 20kB 8.3MB/s eta 0:00:01\r\u001b[K     |███████████████▏                | 30kB 7.4MB/s eta 0:00:01\r\u001b[K     |████████████████████▎           | 40kB 7.0MB/s eta 0:00:01\r\u001b[K     |█████████████████████████▎      | 51kB 4.0MB/s eta 0:00:01\r\u001b[K     |██████████████████████████████▍ | 61kB 4.3MB/s eta 0:00:01\r\u001b[K     |████████████████████████████████| 71kB 3.2MB/s \n",
            "\u001b[?25hRequirement already satisfied: six<2,>=1.12.0 in /usr/local/lib/python3.7/dist-packages (from tensorflowjs) (1.15.0)\n",
            "Requirement already satisfied: tensorflow<3,>=2.1.0 in /usr/local/lib/python3.7/dist-packages (from tensorflowjs) (2.5.0)\n",
            "Requirement already satisfied: tensorflow-hub<0.13,>=0.7.0; python_version >= \"3\" in /usr/local/lib/python3.7/dist-packages (from tensorflowjs) (0.12.0)\n",
            "Requirement already satisfied: wheel~=0.35 in /usr/local/lib/python3.7/dist-packages (from tensorflow<3,>=2.1.0->tensorflowjs) (0.36.2)\n",
            "Requirement already satisfied: numpy~=1.19.2 in /usr/local/lib/python3.7/dist-packages (from tensorflow<3,>=2.1.0->tensorflowjs) (1.19.5)\n",
            "Requirement already satisfied: gast==0.4.0 in /usr/local/lib/python3.7/dist-packages (from tensorflow<3,>=2.1.0->tensorflowjs) (0.4.0)\n",
            "Requirement already satisfied: google-pasta~=0.2 in /usr/local/lib/python3.7/dist-packages (from tensorflow<3,>=2.1.0->tensorflowjs) (0.2.0)\n",
            "Requirement already satisfied: tensorflow-estimator<2.6.0,>=2.5.0rc0 in /usr/local/lib/python3.7/dist-packages (from tensorflow<3,>=2.1.0->tensorflowjs) (2.5.0)\n",
            "Requirement already satisfied: h5py~=3.1.0 in /usr/local/lib/python3.7/dist-packages (from tensorflow<3,>=2.1.0->tensorflowjs) (3.1.0)\n",
            "Requirement already satisfied: typing-extensions~=3.7.4 in /usr/local/lib/python3.7/dist-packages (from tensorflow<3,>=2.1.0->tensorflowjs) (3.7.4.3)\n",
            "Requirement already satisfied: grpcio~=1.34.0 in /usr/local/lib/python3.7/dist-packages (from tensorflow<3,>=2.1.0->tensorflowjs) (1.34.1)\n",
            "Requirement already satisfied: astunparse~=1.6.3 in /usr/local/lib/python3.7/dist-packages (from tensorflow<3,>=2.1.0->tensorflowjs) (1.6.3)\n",
            "Requirement already satisfied: flatbuffers~=1.12.0 in /usr/local/lib/python3.7/dist-packages (from tensorflow<3,>=2.1.0->tensorflowjs) (1.12)\n",
            "Requirement already satisfied: protobuf>=3.9.2 in /usr/local/lib/python3.7/dist-packages (from tensorflow<3,>=2.1.0->tensorflowjs) (3.12.4)\n",
            "Requirement already satisfied: opt-einsum~=3.3.0 in /usr/local/lib/python3.7/dist-packages (from tensorflow<3,>=2.1.0->tensorflowjs) (3.3.0)\n",
            "Requirement already satisfied: keras-preprocessing~=1.1.2 in /usr/local/lib/python3.7/dist-packages (from tensorflow<3,>=2.1.0->tensorflowjs) (1.1.2)\n",
            "Requirement already satisfied: wrapt~=1.12.1 in /usr/local/lib/python3.7/dist-packages (from tensorflow<3,>=2.1.0->tensorflowjs) (1.12.1)\n",
            "Requirement already satisfied: absl-py~=0.10 in /usr/local/lib/python3.7/dist-packages (from tensorflow<3,>=2.1.0->tensorflowjs) (0.12.0)\n",
            "Requirement already satisfied: termcolor~=1.1.0 in /usr/local/lib/python3.7/dist-packages (from tensorflow<3,>=2.1.0->tensorflowjs) (1.1.0)\n",
            "Requirement already satisfied: tensorboard~=2.5 in /usr/local/lib/python3.7/dist-packages (from tensorflow<3,>=2.1.0->tensorflowjs) (2.5.0)\n",
            "Requirement already satisfied: keras-nightly~=2.5.0.dev in /usr/local/lib/python3.7/dist-packages (from tensorflow<3,>=2.1.0->tensorflowjs) (2.5.0.dev2021032900)\n",
            "Requirement already satisfied: cached-property; python_version < \"3.8\" in /usr/local/lib/python3.7/dist-packages (from h5py~=3.1.0->tensorflow<3,>=2.1.0->tensorflowjs) (1.5.2)\n",
            "Requirement already satisfied: setuptools in /usr/local/lib/python3.7/dist-packages (from protobuf>=3.9.2->tensorflow<3,>=2.1.0->tensorflowjs) (57.0.0)\n",
            "Requirement already satisfied: google-auth-oauthlib<0.5,>=0.4.1 in /usr/local/lib/python3.7/dist-packages (from tensorboard~=2.5->tensorflow<3,>=2.1.0->tensorflowjs) (0.4.4)\n",
            "Requirement already satisfied: google-auth<2,>=1.6.3 in /usr/local/lib/python3.7/dist-packages (from tensorboard~=2.5->tensorflow<3,>=2.1.0->tensorflowjs) (1.31.0)\n",
            "Requirement already satisfied: markdown>=2.6.8 in /usr/local/lib/python3.7/dist-packages (from tensorboard~=2.5->tensorflow<3,>=2.1.0->tensorflowjs) (3.3.4)\n",
            "Requirement already satisfied: tensorboard-plugin-wit>=1.6.0 in /usr/local/lib/python3.7/dist-packages (from tensorboard~=2.5->tensorflow<3,>=2.1.0->tensorflowjs) (1.8.0)\n",
            "Requirement already satisfied: werkzeug>=0.11.15 in /usr/local/lib/python3.7/dist-packages (from tensorboard~=2.5->tensorflow<3,>=2.1.0->tensorflowjs) (1.0.1)\n",
            "Requirement already satisfied: requests<3,>=2.21.0 in /usr/local/lib/python3.7/dist-packages (from tensorboard~=2.5->tensorflow<3,>=2.1.0->tensorflowjs) (2.23.0)\n",
            "Requirement already satisfied: tensorboard-data-server<0.7.0,>=0.6.0 in /usr/local/lib/python3.7/dist-packages (from tensorboard~=2.5->tensorflow<3,>=2.1.0->tensorflowjs) (0.6.1)\n",
            "Requirement already satisfied: requests-oauthlib>=0.7.0 in /usr/local/lib/python3.7/dist-packages (from google-auth-oauthlib<0.5,>=0.4.1->tensorboard~=2.5->tensorflow<3,>=2.1.0->tensorflowjs) (1.3.0)\n",
            "Requirement already satisfied: rsa<5,>=3.1.4; python_version >= \"3.6\" in /usr/local/lib/python3.7/dist-packages (from google-auth<2,>=1.6.3->tensorboard~=2.5->tensorflow<3,>=2.1.0->tensorflowjs) (4.7.2)\n",
            "Requirement already satisfied: pyasn1-modules>=0.2.1 in /usr/local/lib/python3.7/dist-packages (from google-auth<2,>=1.6.3->tensorboard~=2.5->tensorflow<3,>=2.1.0->tensorflowjs) (0.2.8)\n",
            "Requirement already satisfied: cachetools<5.0,>=2.0.0 in /usr/local/lib/python3.7/dist-packages (from google-auth<2,>=1.6.3->tensorboard~=2.5->tensorflow<3,>=2.1.0->tensorflowjs) (4.2.2)\n",
            "Requirement already satisfied: importlib-metadata; python_version < \"3.8\" in /usr/local/lib/python3.7/dist-packages (from markdown>=2.6.8->tensorboard~=2.5->tensorflow<3,>=2.1.0->tensorflowjs) (4.5.0)\n",
            "Requirement already satisfied: idna<3,>=2.5 in /usr/local/lib/python3.7/dist-packages (from requests<3,>=2.21.0->tensorboard~=2.5->tensorflow<3,>=2.1.0->tensorflowjs) (2.10)\n",
            "Requirement already satisfied: certifi>=2017.4.17 in /usr/local/lib/python3.7/dist-packages (from requests<3,>=2.21.0->tensorboard~=2.5->tensorflow<3,>=2.1.0->tensorflowjs) (2021.5.30)\n",
            "Requirement already satisfied: chardet<4,>=3.0.2 in /usr/local/lib/python3.7/dist-packages (from requests<3,>=2.21.0->tensorboard~=2.5->tensorflow<3,>=2.1.0->tensorflowjs) (3.0.4)\n",
            "Requirement already satisfied: urllib3!=1.25.0,!=1.25.1,<1.26,>=1.21.1 in /usr/local/lib/python3.7/dist-packages (from requests<3,>=2.21.0->tensorboard~=2.5->tensorflow<3,>=2.1.0->tensorflowjs) (1.24.3)\n",
            "Requirement already satisfied: oauthlib>=3.0.0 in /usr/local/lib/python3.7/dist-packages (from requests-oauthlib>=0.7.0->google-auth-oauthlib<0.5,>=0.4.1->tensorboard~=2.5->tensorflow<3,>=2.1.0->tensorflowjs) (3.1.1)\n",
            "Requirement already satisfied: pyasn1>=0.1.3 in /usr/local/lib/python3.7/dist-packages (from rsa<5,>=3.1.4; python_version >= \"3.6\"->google-auth<2,>=1.6.3->tensorboard~=2.5->tensorflow<3,>=2.1.0->tensorflowjs) (0.4.8)\n",
            "Requirement already satisfied: zipp>=0.5 in /usr/local/lib/python3.7/dist-packages (from importlib-metadata; python_version < \"3.8\"->markdown>=2.6.8->tensorboard~=2.5->tensorflow<3,>=2.1.0->tensorflowjs) (3.4.1)\n",
            "Installing collected packages: tensorflowjs\n",
            "Successfully installed tensorflowjs-3.7.0\n"
          ],
          "name": "stdout"
        }
      ]
    },
    {
      "cell_type": "code",
      "metadata": {
        "id": "-e2IT_xAArNp"
      },
      "source": [
        "import tensorflowjs\n",
        "tensorflowjs.converters.save_keras_model(model_segments,'/content/drive/MyDrive/CapstoneDataSet/segmentModel')"
      ],
      "execution_count": 36,
      "outputs": []
    },
    {
      "cell_type": "code",
      "metadata": {
        "colab": {
          "base_uri": "https://localhost:8080/"
        },
        "id": "xiBeZfGRArAi",
        "outputId": "21be8c93-9eb1-4a96-d314-7d81899037ab"
      },
      "source": [
        "gc.collect()"
      ],
      "execution_count": null,
      "outputs": [
        {
          "output_type": "execute_result",
          "data": {
            "text/plain": [
              "120"
            ]
          },
          "metadata": {
            "tags": []
          },
          "execution_count": 24
        }
      ]
    },
    {
      "cell_type": "code",
      "metadata": {
        "id": "dQCUf5rSEj4U"
      },
      "source": [
        ""
      ],
      "execution_count": null,
      "outputs": []
    },
    {
      "cell_type": "code",
      "metadata": {
        "id": "gxsUdhbwskw-"
      },
      "source": [
        "y_test_predict = model_segments.predict(X_train)"
      ],
      "execution_count": 21,
      "outputs": []
    },
    {
      "cell_type": "code",
      "metadata": {
        "id": "IXzupOTvgy3m",
        "colab": {
          "base_uri": "https://localhost:8080/",
          "height": 317
        },
        "outputId": "5f2fdb5b-b22c-43ee-fe33-f9d621a923b4"
      },
      "source": [
        "n = int(np.random.rand(1)[0]*X_train.shape[0])\n",
        "\n",
        "fig, axes = plt.subplots(1,3,figsize=(15,15))\n",
        "axes[0].imshow(y_test_predict[n].reshape(64,64))\n",
        "axes[1].imshow(y_train[n]);\n",
        "axes[2].imshow(X_train[n][:,:,0])"
      ],
      "execution_count": 34,
      "outputs": [
        {
          "output_type": "execute_result",
          "data": {
            "text/plain": [
              "<matplotlib.image.AxesImage at 0x7fa7254c5e90>"
            ]
          },
          "metadata": {
            "tags": []
          },
          "execution_count": 34
        },
        {
          "output_type": "display_data",
          "data": {
            "image/png": "[encoded data removed]",
            "text/plain": [
              "<Figure size 1080x1080 with 3 Axes>"
            ]
          },
          "metadata": {
            "tags": [],
            "needs_background": "light"
          }
        }
      ]
    },
    {
      "cell_type": "code",
      "metadata": {
        "colab": {
          "base_uri": "https://localhost:8080/"
        },
        "id": "yRTeMd5ff_81",
        "outputId": "c33803da-94e3-45a6-8216-0b809fe188a3"
      },
      "source": [
        "y_test_predict[0]"
      ],
      "execution_count": 119,
      "outputs": [
        {
          "output_type": "execute_result",
          "data": {
            "text/plain": [
              "array([[0., 0., 0., ..., 0., 0., 0.],\n",
              "       [0., 0., 0., ..., 0., 0., 0.],\n",
              "       [0., 0., 0., ..., 0., 0., 0.],\n",
              "       ...,\n",
              "       [0., 0., 0., ..., 0., 0., 0.],\n",
              "       [0., 0., 0., ..., 0., 0., 0.],\n",
              "       [0., 0., 0., ..., 0., 0., 0.]], dtype=float32)"
            ]
          },
          "metadata": {
            "tags": []
          },
          "execution_count": 119
        }
      ]
    },
    {
      "cell_type": "code",
      "metadata": {
        "colab": {
          "base_uri": "https://localhost:8080/"
        },
        "id": "6Mqet4Cyw0Zm",
        "outputId": "27bb61e7-0d0d-422b-dc8a-152cd707d827"
      },
      "source": [
        "np.round(y_test_predict[n][20:25,20:25])"
      ],
      "execution_count": 63,
      "outputs": [
        {
          "output_type": "execute_result",
          "data": {
            "text/plain": [
              "array([[0., 0., 0., 0., 0.],\n",
              "       [0., 0., 0., 0., 0.],\n",
              "       [0., 0., 0., 0., 0.],\n",
              "       [0., 0., 0., 0., 0.],\n",
              "       [0., 0., 0., 0., 0.]], dtype=float32)"
            ]
          },
          "metadata": {
            "tags": []
          },
          "execution_count": 63
        }
      ]
    },
    {
      "cell_type": "code",
      "metadata": {
        "id": "xMfI3-esxtyk",
        "colab": {
          "base_uri": "https://localhost:8080/",
          "height": 287
        },
        "outputId": "0c4c36c7-d3b9-4206-ea9e-455d3329b52f"
      },
      "source": [
        "plt.imshow(y_train[0])"
      ],
      "execution_count": 104,
      "outputs": [
        {
          "output_type": "execute_result",
          "data": {
            "text/plain": [
              "<matplotlib.image.AxesImage at 0x7fb42b6a56d0>"
            ]
          },
          "metadata": {
            "tags": []
          },
          "execution_count": 104
        },
        {
          "output_type": "display_data",
          "data": {
            "image/png": "[encoded data removed]",
            "text/plain": [
              "<Figure size 432x288 with 1 Axes>"
            ]
          },
          "metadata": {
            "tags": [],
            "needs_background": "light"
          }
        }
      ]
    },
    {
      "cell_type": "code",
      "metadata": {
        "id": "Mf6w5S_6CQc0"
      },
      "source": [
        ""
      ],
      "execution_count": null,
      "outputs": []
    }
  ]
}