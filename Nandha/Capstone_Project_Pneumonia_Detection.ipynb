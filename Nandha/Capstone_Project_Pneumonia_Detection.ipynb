{
  "nbformat": 4,
  "nbformat_minor": 0,
  "metadata": {
    "colab": {
      "name": "Capstone Project - Pneumonia Detection.ipynb",
      "provenance": [],
      "collapsed_sections": [],
      "mount_file_id": "1phS4WbeVlcuiQDZpvntB-DZ252SsXOL-",
      "authorship_tag": "ABX9TyNWK8jigCHeQeEn2y8D6tLd",
      "include_colab_link": true
    },
    "kernelspec": {
      "name": "python3",
      "display_name": "Python 3"
    },
    "language_info": {
      "name": "python"
    }
  },
  "cells": [
    {
      "cell_type": "markdown",
      "metadata": {
        "id": "view-in-github",
        "colab_type": "text"
      },
      "source": [
        "<a href=\"https://colab.research.google.com/github/nandhukumar86/CapstonePneumoniaDetection/blob/main/Nandha/Capstone_Project_Pneumonia_Detection.ipynb\" target=\"_parent\"><img src=\"https://colab.research.google.com/assets/colab-badge.svg\" alt=\"Open In Colab\"/></a>"
      ]
    },
    {
      "cell_type": "code",
      "metadata": {
        "colab": {
          "resources": {
            "http://localhost:8080/nbextensions/google.colab/files.js": {
              "data": "Ly8gQ29weXJpZ2h0IDIwMTcgR29vZ2xlIExMQwovLwovLyBMaWNlbnNlZCB1bmRlciB0aGUgQXBhY2hlIExpY2Vuc2UsIFZlcnNpb24gMi4wICh0aGUgIkxpY2Vuc2UiKTsKLy8geW91IG1heSBub3QgdXNlIHRoaXMgZmlsZSBleGNlcHQgaW4gY29tcGxpYW5jZSB3aXRoIHRoZSBMaWNlbnNlLgovLyBZb3UgbWF5IG9idGFpbiBhIGNvcHkgb2YgdGhlIExpY2Vuc2UgYXQKLy8KLy8gICAgICBodHRwOi8vd3d3LmFwYWNoZS5vcmcvbGljZW5zZXMvTElDRU5TRS0yLjAKLy8KLy8gVW5sZXNzIHJlcXVpcmVkIGJ5IGFwcGxpY2FibGUgbGF3IG9yIGFncmVlZCB0byBpbiB3cml0aW5nLCBzb2Z0d2FyZQovLyBkaXN0cmlidXRlZCB1bmRlciB0aGUgTGljZW5zZSBpcyBkaXN0cmlidXRlZCBvbiBhbiAiQVMgSVMiIEJBU0lTLAovLyBXSVRIT1VUIFdBUlJBTlRJRVMgT1IgQ09ORElUSU9OUyBPRiBBTlkgS0lORCwgZWl0aGVyIGV4cHJlc3Mgb3IgaW1wbGllZC4KLy8gU2VlIHRoZSBMaWNlbnNlIGZvciB0aGUgc3BlY2lmaWMgbGFuZ3VhZ2UgZ292ZXJuaW5nIHBlcm1pc3Npb25zIGFuZAovLyBsaW1pdGF0aW9ucyB1bmRlciB0aGUgTGljZW5zZS4KCi8qKgogKiBAZmlsZW92ZXJ2aWV3IEhlbHBlcnMgZm9yIGdvb2dsZS5jb2xhYiBQeXRob24gbW9kdWxlLgogKi8KKGZ1bmN0aW9uKHNjb3BlKSB7CmZ1bmN0aW9uIHNwYW4odGV4dCwgc3R5bGVBdHRyaWJ1dGVzID0ge30pIHsKICBjb25zdCBlbGVtZW50ID0gZG9jdW1lbnQuY3JlYXRlRWxlbWVudCgnc3BhbicpOwogIGVsZW1lbnQudGV4dENvbnRlbnQgPSB0ZXh0OwogIGZvciAoY29uc3Qga2V5IG9mIE9iamVjdC5rZXlzKHN0eWxlQXR0cmlidXRlcykpIHsKICAgIGVsZW1lbnQuc3R5bGVba2V5XSA9IHN0eWxlQXR0cmlidXRlc1trZXldOwogIH0KICByZXR1cm4gZWxlbWVudDsKfQoKLy8gTWF4IG51bWJlciBvZiBieXRlcyB3aGljaCB3aWxsIGJlIHVwbG9hZGVkIGF0IGEgdGltZS4KY29uc3QgTUFYX1BBWUxPQURfU0laRSA9IDEwMCAqIDEwMjQ7CgpmdW5jdGlvbiBfdXBsb2FkRmlsZXMoaW5wdXRJZCwgb3V0cHV0SWQpIHsKICBjb25zdCBzdGVwcyA9IHVwbG9hZEZpbGVzU3RlcChpbnB1dElkLCBvdXRwdXRJZCk7CiAgY29uc3Qgb3V0cHV0RWxlbWVudCA9IGRvY3VtZW50LmdldEVsZW1lbnRCeUlkKG91dHB1dElkKTsKICAvLyBDYWNoZSBzdGVwcyBvbiB0aGUgb3V0cHV0RWxlbWVudCB0byBtYWtlIGl0IGF2YWlsYWJsZSBmb3IgdGhlIG5leHQgY2FsbAogIC8vIHRvIHVwbG9hZEZpbGVzQ29udGludWUgZnJvbSBQeXRob24uCiAgb3V0cHV0RWxlbWVudC5zdGVwcyA9IHN0ZXBzOwoKICByZXR1cm4gX3VwbG9hZEZpbGVzQ29udGludWUob3V0cHV0SWQpOwp9CgovLyBUaGlzIGlzIHJvdWdobHkgYW4gYXN5bmMgZ2VuZXJhdG9yIChub3Qgc3VwcG9ydGVkIGluIHRoZSBicm93c2VyIHlldCksCi8vIHdoZXJlIHRoZXJlIGFyZSBtdWx0aXBsZSBhc3luY2hyb25vdXMgc3RlcHMgYW5kIHRoZSBQeXRob24gc2lkZSBpcyBnb2luZwovLyB0byBwb2xsIGZvciBjb21wbGV0aW9uIG9mIGVhY2ggc3RlcC4KLy8gVGhpcyB1c2VzIGEgUHJvbWlzZSB0byBibG9jayB0aGUgcHl0aG9uIHNpZGUgb24gY29tcGxldGlvbiBvZiBlYWNoIHN0ZXAsCi8vIHRoZW4gcGFzc2VzIHRoZSByZXN1bHQgb2YgdGhlIHByZXZpb3VzIHN0ZXAgYXMgdGhlIGlucHV0IHRvIHRoZSBuZXh0IHN0ZXAuCmZ1bmN0aW9uIF91cGxvYWRGaWxlc0NvbnRpbnVlKG91dHB1dElkKSB7CiAgY29uc3Qgb3V0cHV0RWxlbWVudCA9IGRvY3VtZW50LmdldEVsZW1lbnRCeUlkKG91dHB1dElkKTsKICBjb25zdCBzdGVwcyA9IG91dHB1dEVsZW1lbnQuc3RlcHM7CgogIGNvbnN0IG5leHQgPSBzdGVwcy5uZXh0KG91dHB1dEVsZW1lbnQubGFzdFByb21pc2VWYWx1ZSk7CiAgcmV0dXJuIFByb21pc2UucmVzb2x2ZShuZXh0LnZhbHVlLnByb21pc2UpLnRoZW4oKHZhbHVlKSA9PiB7CiAgICAvLyBDYWNoZSB0aGUgbGFzdCBwcm9taXNlIHZhbHVlIHRvIG1ha2UgaXQgYXZhaWxhYmxlIHRvIHRoZSBuZXh0CiAgICAvLyBzdGVwIG9mIHRoZSBnZW5lcmF0b3IuCiAgICBvdXRwdXRFbGVtZW50Lmxhc3RQcm9taXNlVmFsdWUgPSB2YWx1ZTsKICAgIHJldHVybiBuZXh0LnZhbHVlLnJlc3BvbnNlOwogIH0pOwp9CgovKioKICogR2VuZXJhdG9yIGZ1bmN0aW9uIHdoaWNoIGlzIGNhbGxlZCBiZXR3ZWVuIGVhY2ggYXN5bmMgc3RlcCBvZiB0aGUgdXBsb2FkCiAqIHByb2Nlc3MuCiAqIEBwYXJhbSB7c3RyaW5nfSBpbnB1dElkIEVsZW1lbnQgSUQgb2YgdGhlIGlucHV0IGZpbGUgcGlja2VyIGVsZW1lbnQuCiAqIEBwYXJhbSB7c3RyaW5nfSBvdXRwdXRJZCBFbGVtZW50IElEIG9mIHRoZSBvdXRwdXQgZGlzcGxheS4KICogQHJldHVybiB7IUl0ZXJhYmxlPCFPYmplY3Q+fSBJdGVyYWJsZSBvZiBuZXh0IHN0ZXBzLgogKi8KZnVuY3Rpb24qIHVwbG9hZEZpbGVzU3RlcChpbnB1dElkLCBvdXRwdXRJZCkgewogIGNvbnN0IGlucHV0RWxlbWVudCA9IGRvY3VtZW50LmdldEVsZW1lbnRCeUlkKGlucHV0SWQpOwogIGlucHV0RWxlbWVudC5kaXNhYmxlZCA9IGZhbHNlOwoKICBjb25zdCBvdXRwdXRFbGVtZW50ID0gZG9jdW1lbnQuZ2V0RWxlbWVudEJ5SWQob3V0cHV0SWQpOwogIG91dHB1dEVsZW1lbnQuaW5uZXJIVE1MID0gJyc7CgogIGNvbnN0IHBpY2tlZFByb21pc2UgPSBuZXcgUHJvbWlzZSgocmVzb2x2ZSkgPT4gewogICAgaW5wdXRFbGVtZW50LmFkZEV2ZW50TGlzdGVuZXIoJ2NoYW5nZScsIChlKSA9PiB7CiAgICAgIHJlc29sdmUoZS50YXJnZXQuZmlsZXMpOwogICAgfSk7CiAgfSk7CgogIGNvbnN0IGNhbmNlbCA9IGRvY3VtZW50LmNyZWF0ZUVsZW1lbnQoJ2J1dHRvbicpOwogIGlucHV0RWxlbWVudC5wYXJlbnRFbGVtZW50LmFwcGVuZENoaWxkKGNhbmNlbCk7CiAgY2FuY2VsLnRleHRDb250ZW50ID0gJ0NhbmNlbCB1cGxvYWQnOwogIGNvbnN0IGNhbmNlbFByb21pc2UgPSBuZXcgUHJvbWlzZSgocmVzb2x2ZSkgPT4gewogICAgY2FuY2VsLm9uY2xpY2sgPSAoKSA9PiB7CiAgICAgIHJlc29sdmUobnVsbCk7CiAgICB9OwogIH0pOwoKICAvLyBXYWl0IGZvciB0aGUgdXNlciB0byBwaWNrIHRoZSBmaWxlcy4KICBjb25zdCBmaWxlcyA9IHlpZWxkIHsKICAgIHByb21pc2U6IFByb21pc2UucmFjZShbcGlja2VkUHJvbWlzZSwgY2FuY2VsUHJvbWlzZV0pLAogICAgcmVzcG9uc2U6IHsKICAgICAgYWN0aW9uOiAnc3RhcnRpbmcnLAogICAgfQogIH07CgogIGNhbmNlbC5yZW1vdmUoKTsKCiAgLy8gRGlzYWJsZSB0aGUgaW5wdXQgZWxlbWVudCBzaW5jZSBmdXJ0aGVyIHBpY2tzIGFyZSBub3QgYWxsb3dlZC4KICBpbnB1dEVsZW1lbnQuZGlzYWJsZWQgPSB0cnVlOwoKICBpZiAoIWZpbGVzKSB7CiAgICByZXR1cm4gewogICAgICByZXNwb25zZTogewogICAgICAgIGFjdGlvbjogJ2NvbXBsZXRlJywKICAgICAgfQogICAgfTsKICB9CgogIGZvciAoY29uc3QgZmlsZSBvZiBmaWxlcykgewogICAgY29uc3QgbGkgPSBkb2N1bWVudC5jcmVhdGVFbGVtZW50KCdsaScpOwogICAgbGkuYXBwZW5kKHNwYW4oZmlsZS5uYW1lLCB7Zm9udFdlaWdodDogJ2JvbGQnfSkpOwogICAgbGkuYXBwZW5kKHNwYW4oCiAgICAgICAgYCgke2ZpbGUudHlwZSB8fCAnbi9hJ30pIC0gJHtmaWxlLnNpemV9IGJ5dGVzLCBgICsKICAgICAgICBgbGFzdCBtb2RpZmllZDogJHsKICAgICAgICAgICAgZmlsZS5sYXN0TW9kaWZpZWREYXRlID8gZmlsZS5sYXN0TW9kaWZpZWREYXRlLnRvTG9jYWxlRGF0ZVN0cmluZygpIDoKICAgICAgICAgICAgICAgICAgICAgICAgICAgICAgICAgICAgJ24vYSd9IC0gYCkpOwogICAgY29uc3QgcGVyY2VudCA9IHNwYW4oJzAlIGRvbmUnKTsKICAgIGxpLmFwcGVuZENoaWxkKHBlcmNlbnQpOwoKICAgIG91dHB1dEVsZW1lbnQuYXBwZW5kQ2hpbGQobGkpOwoKICAgIGNvbnN0IGZpbGVEYXRhUHJvbWlzZSA9IG5ldyBQcm9taXNlKChyZXNvbHZlKSA9PiB7CiAgICAgIGNvbnN0IHJlYWRlciA9IG5ldyBGaWxlUmVhZGVyKCk7CiAgICAgIHJlYWRlci5vbmxvYWQgPSAoZSkgPT4gewogICAgICAgIHJlc29sdmUoZS50YXJnZXQucmVzdWx0KTsKICAgICAgfTsKICAgICAgcmVhZGVyLnJlYWRBc0FycmF5QnVmZmVyKGZpbGUpOwogICAgfSk7CiAgICAvLyBXYWl0IGZvciB0aGUgZGF0YSB0byBiZSByZWFkeS4KICAgIGxldCBmaWxlRGF0YSA9IHlpZWxkIHsKICAgICAgcHJvbWlzZTogZmlsZURhdGFQcm9taXNlLAogICAgICByZXNwb25zZTogewogICAgICAgIGFjdGlvbjogJ2NvbnRpbnVlJywKICAgICAgfQogICAgfTsKCiAgICAvLyBVc2UgYSBjaHVua2VkIHNlbmRpbmcgdG8gYXZvaWQgbWVzc2FnZSBzaXplIGxpbWl0cy4gU2VlIGIvNjIxMTU2NjAuCiAgICBsZXQgcG9zaXRpb24gPSAwOwogICAgZG8gewogICAgICBjb25zdCBsZW5ndGggPSBNYXRoLm1pbihmaWxlRGF0YS5ieXRlTGVuZ3RoIC0gcG9zaXRpb24sIE1BWF9QQVlMT0FEX1NJWkUpOwogICAgICBjb25zdCBjaHVuayA9IG5ldyBVaW50OEFycmF5KGZpbGVEYXRhLCBwb3NpdGlvbiwgbGVuZ3RoKTsKICAgICAgcG9zaXRpb24gKz0gbGVuZ3RoOwoKICAgICAgY29uc3QgYmFzZTY0ID0gYnRvYShTdHJpbmcuZnJvbUNoYXJDb2RlLmFwcGx5KG51bGwsIGNodW5rKSk7CiAgICAgIHlpZWxkIHsKICAgICAgICByZXNwb25zZTogewogICAgICAgICAgYWN0aW9uOiAnYXBwZW5kJywKICAgICAgICAgIGZpbGU6IGZpbGUubmFtZSwKICAgICAgICAgIGRhdGE6IGJhc2U2NCwKICAgICAgICB9LAogICAgICB9OwoKICAgICAgbGV0IHBlcmNlbnREb25lID0gZmlsZURhdGEuYnl0ZUxlbmd0aCA9PT0gMCA/CiAgICAgICAgICAxMDAgOgogICAgICAgICAgTWF0aC5yb3VuZCgocG9zaXRpb24gLyBmaWxlRGF0YS5ieXRlTGVuZ3RoKSAqIDEwMCk7CiAgICAgIHBlcmNlbnQudGV4dENvbnRlbnQgPSBgJHtwZXJjZW50RG9uZX0lIGRvbmVgOwoKICAgIH0gd2hpbGUgKHBvc2l0aW9uIDwgZmlsZURhdGEuYnl0ZUxlbmd0aCk7CiAgfQoKICAvLyBBbGwgZG9uZS4KICB5aWVsZCB7CiAgICByZXNwb25zZTogewogICAgICBhY3Rpb246ICdjb21wbGV0ZScsCiAgICB9CiAgfTsKfQoKc2NvcGUuZ29vZ2xlID0gc2NvcGUuZ29vZ2xlIHx8IHt9OwpzY29wZS5nb29nbGUuY29sYWIgPSBzY29wZS5nb29nbGUuY29sYWIgfHwge307CnNjb3BlLmdvb2dsZS5jb2xhYi5fZmlsZXMgPSB7CiAgX3VwbG9hZEZpbGVzLAogIF91cGxvYWRGaWxlc0NvbnRpbnVlLAp9Owp9KShzZWxmKTsK",
              "ok": true,
              "headers": [
                [
                  "content-type",
                  "application/javascript"
                ]
              ],
              "status": 200,
              "status_text": ""
            }
          },
          "base_uri": "https://localhost:8080/",
          "height": 1000
        },
        "id": "KwyxYeu4vFNw",
        "outputId": "a9c10a85-985b-46aa-cbb7-9a4d6ea6f5cf"
      },
      "source": [
        "# install kaggle\n",
        "! pip install -q kaggle\n",
        "\n",
        "# upload file to Colab\n",
        "from google.colab import files\n",
        "files.upload()\n",
        "\n",
        "# create kaggle folder in root and copy the file.\n",
        "! mkdir ~/.kaggle\n",
        "! cp kaggle.json ~/.kaggle/\n",
        "\n",
        "# provide permissions\n",
        "! chmod 600 ~/.kaggle/kaggle.json\n",
        "\n",
        "# download competition files by providing competition name\n",
        "! kaggle competitions download -c 'rsna-pneumonia-detection-challenge'\n",
        "\n",
        "# unzip the files and folders\n",
        "#! unzip train.csv.zip -d train\n",
        "#! unzip test.csv.zip -d test\n"
      ],
      "execution_count": 1,
      "outputs": [
        {
          "output_type": "display_data",
          "data": {
            "text/html": [
              "\n",
              "     <input type=\"file\" id=\"files-737a9b64-990b-4973-8ae5-143a4d71d9bf\" name=\"files[]\" multiple disabled\n",
              "        style=\"border:none\" />\n",
              "     <output id=\"result-737a9b64-990b-4973-8ae5-143a4d71d9bf\">\n",
              "      Upload widget is only available when the cell has been executed in the\n",
              "      current browser session. Please rerun this cell to enable.\n",
              "      </output>\n",
              "      <script src=\"/nbextensions/google.colab/files.js\"></script> "
            ],
            "text/plain": [
              "<IPython.core.display.HTML object>"
            ]
          },
          "metadata": {
            "tags": []
          }
        },
        {
          "output_type": "stream",
          "text": [
            "Saving kaggle.json to kaggle.json\n",
            "Warning: Looks like you're using an outdated API Version, please consider updating (server 1.5.12 / client 1.5.4)\n",
            "Downloading 00322d4d-1c29-4943-afc9-b6754be640eb.dcm to /content\n",
            "  0% 0.00/122k [00:00<?, ?B/s]\n",
            "100% 122k/122k [00:00<00:00, 35.8MB/s]\n",
            "Downloading 00313ee0-9eaa-42f4-b0ab-c148ed3241cd.dcm to /content\n",
            "  0% 0.00/110k [00:00<?, ?B/s]\n",
            "100% 110k/110k [00:00<00:00, 35.5MB/s]\n",
            "Downloading 0010f549-b242-4e94-87a8-57d79de215fc.dcm to /content\n",
            "  0% 0.00/126k [00:00<?, ?B/s]\n",
            "100% 126k/126k [00:00<00:00, 83.8MB/s]\n",
            "Downloading 0004cfab-14fd-4e49-80ba-63a80b6bddd6.dcm to /content\n",
            "  0% 0.00/140k [00:00<?, ?B/s]\n",
            "100% 140k/140k [00:00<00:00, 43.5MB/s]\n",
            "Downloading 00436515-870c-4b36-a041-de91049b9ab4.dcm to /content\n",
            "  0% 0.00/118k [00:00<?, ?B/s]\n",
            "100% 118k/118k [00:00<00:00, 38.0MB/s]\n",
            "Downloading 002c591d-df62-4e34-8eda-838c664430a9.dcm to /content\n",
            "  0% 0.00/123k [00:00<?, ?B/s]\n",
            "100% 123k/123k [00:00<00:00, 36.7MB/s]\n",
            "Downloading 000db696-cf54-4385-b10b-6b16fbb3f985.dcm to /content\n",
            "  0% 0.00/99.1k [00:00<?, ?B/s]\n",
            "100% 99.1k/99.1k [00:00<00:00, 30.8MB/s]\n",
            "Downloading 003d8fa0-6bf1-40ed-b54c-ac657f8495c5.dcm to /content\n",
            "  0% 0.00/153k [00:00<?, ?B/s]\n",
            "100% 153k/153k [00:00<00:00, 50.2MB/s]\n",
            "Downloading 002cb550-2e31-42f1-a29d-fbc279977e71.dcm to /content\n",
            "  0% 0.00/139k [00:00<?, ?B/s]\n",
            "100% 139k/139k [00:00<00:00, 41.8MB/s]\n",
            "Downloading 000fe35a-2649-43d4-b027-e67796d412e0.dcm to /content\n",
            "  0% 0.00/128k [00:00<?, ?B/s]\n",
            "100% 128k/128k [00:00<00:00, 128MB/s]\n",
            "Downloading 00293de0-a530-41dc-9621-0b3def01d06d.dcm to /content\n",
            "  0% 0.00/138k [00:00<?, ?B/s]\n",
            "100% 138k/138k [00:00<00:00, 129MB/s]\n",
            "Downloading 0049f7b2-229b-4a46-91a3-0e321a3ca80a.dcm to /content\n",
            "  0% 0.00/89.3k [00:00<?, ?B/s]\n",
            "100% 89.3k/89.3k [00:00<00:00, 81.8MB/s]\n",
            "Downloading 0025d2de-bd78-4d36-9f72-e15a5e22ca82.dcm to /content\n",
            "  0% 0.00/119k [00:00<?, ?B/s]\n",
            "100% 119k/119k [00:00<00:00, 99.0MB/s]\n",
            "Downloading 00569f44-917d-4c86-a842-81832af98c30.dcm to /content\n",
            "  0% 0.00/185k [00:00<?, ?B/s]\n",
            "100% 185k/185k [00:00<00:00, 115MB/s]\n",
            "Downloading 0022073f-cec8-42ec-ab5f-bc2314649235.dcm to /content\n",
            "  0% 0.00/116k [00:00<?, ?B/s]\n",
            "100% 116k/116k [00:00<00:00, 110MB/s]\n",
            "Downloading 0053ee32-1e03-4dc2-a103-f46ad0448787.dcm to /content\n",
            "  0% 0.00/127k [00:00<?, ?B/s]\n",
            "100% 127k/127k [00:00<00:00, 138MB/s]\n",
            "Downloading 001031d9-f904-4a23-b3e5-2c088acd19c6.dcm to /content\n",
            "  0% 0.00/145k [00:00<?, ?B/s]\n",
            "100% 145k/145k [00:00<00:00, 46.6MB/s]\n",
            "Downloading 0022995a-45eb-4cfa-9a59-cd15f5196c64.dcm to /content\n",
            "  0% 0.00/150k [00:00<?, ?B/s]\n",
            "100% 150k/150k [00:00<00:00, 161MB/s]\n",
            "Downloading 001916b8-3d30-4935-a5d1-8eaddb1646cd.dcm to /content\n",
            "  0% 0.00/107k [00:00<?, ?B/s]\n",
            "100% 107k/107k [00:00<00:00, 127MB/s]\n",
            "Downloading 000924cf-0f8d-42bd-9158-1af53881a557.dcm to /content\n",
            "  0% 0.00/128k [00:00<?, ?B/s]\n",
            "100% 128k/128k [00:00<00:00, 124MB/s]\n",
            "Downloading 001b0c51-c7b3-45c1-9c17-fa7594cab96e.dcm to /content\n",
            "  0% 0.00/153k [00:00<?, ?B/s]\n",
            "100% 153k/153k [00:00<00:00, 158MB/s]\n",
            "Downloading 00271e8e-aea8-4f0a-8a34-3025831f1079.dcm to /content\n",
            "  0% 0.00/92.5k [00:00<?, ?B/s]\n",
            "100% 92.5k/92.5k [00:00<00:00, 79.2MB/s]\n",
            "Downloading 0028450f-5b8e-4695-9416-8340b6f686b0.dcm to /content\n",
            "  0% 0.00/133k [00:00<?, ?B/s]\n",
            "100% 133k/133k [00:00<00:00, 124MB/s]\n",
            "Downloading 003dba79-1b1d-4713-add8-d72c54074f8a.dcm to /content\n",
            "  0% 0.00/146k [00:00<?, ?B/s]\n",
            "100% 146k/146k [00:00<00:00, 130MB/s]\n",
            "Downloading 003fbda2-ba55-4714-a03a-83f15bec19e4.dcm to /content\n",
            "  0% 0.00/110k [00:00<?, ?B/s]\n",
            "100% 110k/110k [00:00<00:00, 136MB/s]\n",
            "Downloading 00100a24-854d-423d-a092-edcf6179e061.dcm to /content\n",
            "  0% 0.00/151k [00:00<?, ?B/s]\n",
            "100% 151k/151k [00:00<00:00, 154MB/s]\n",
            "Downloading 003206b4-bd4a-4684-8d49-76f4cb713a30.dcm to /content\n",
            "  0% 0.00/109k [00:00<?, ?B/s]\n",
            "100% 109k/109k [00:00<00:00, 29.9MB/s]\n",
            "Downloading 00330f7f-d114-4eb2-9c6e-558eeb3084a1.dcm to /content\n",
            "  0% 0.00/103k [00:00<?, ?B/s]\n",
            "100% 103k/103k [00:00<00:00, 95.9MB/s]\n",
            "Downloading 0022bb50-bf6c-4185-843e-403a9cc1ea80.dcm to /content\n",
            "  0% 0.00/155k [00:00<?, ?B/s]\n",
            "100% 155k/155k [00:00<00:00, 155MB/s]\n",
            "Downloading 002fcb77-ef76-4626-ab34-5070f15c20db.dcm to /content\n",
            "  0% 0.00/119k [00:00<?, ?B/s]\n",
            "100% 119k/119k [00:00<00:00, 149MB/s]\n",
            "Downloading 000686d7-f4fc-448d-97a0-44fa9c5d3aa6.dcm to /content\n",
            "  0% 0.00/169k [00:00<?, ?B/s]\n",
            "100% 169k/169k [00:00<00:00, 53.8MB/s]\n",
            "Downloading 000e3a7d-c0ca-4349-bb26-5af2d8993c3d.dcm to /content\n",
            "  0% 0.00/158k [00:00<?, ?B/s]\n",
            "100% 158k/158k [00:00<00:00, 158MB/s]\n",
            "Downloading 0015597f-2d69-4bc7-b642-5b5e01534676.dcm to /content\n",
            "  0% 0.00/115k [00:00<?, ?B/s]\n",
            "100% 115k/115k [00:00<00:00, 106MB/s]\n",
            "Downloading 002bcde0-d8da-4931-ab04-5d724e30261b.dcm to /content\n",
            "  0% 0.00/116k [00:00<?, ?B/s]\n",
            "100% 116k/116k [00:00<00:00, 122MB/s]\n",
            "Downloading 0005d3cc-3c3f-40b9-93c3-46231c3eb813.dcm to /content\n",
            "  0% 0.00/155k [00:00<?, ?B/s]\n",
            "100% 155k/155k [00:00<00:00, 160MB/s]\n",
            "Downloading 003d17f0-bd8a-485c-bc8b-daec33f53efa.dcm to /content\n",
            "  0% 0.00/149k [00:00<?, ?B/s]\n",
            "100% 149k/149k [00:00<00:00, 134MB/s]\n",
            "Downloading 0041fc67-793c-4129-a952-ea3fb821b445.dcm to /content\n",
            "  0% 0.00/106k [00:00<?, ?B/s]\n",
            "100% 106k/106k [00:00<00:00, 87.8MB/s]\n",
            "Downloading 00342ae8-ff81-4229-adf6-6a2ab711707b.dcm to /content\n",
            "  0% 0.00/149k [00:00<?, ?B/s]\n",
            "100% 149k/149k [00:00<00:00, 148MB/s]\n",
            "Downloading 0000a175-0e68-4ca4-b1af-167204a7e0bc.dcm to /content\n",
            "  0% 0.00/122k [00:00<?, ?B/s]\n",
            "100% 122k/122k [00:00<00:00, 109MB/s]\n",
            "Downloading 003ec9e3-512e-4f6e-923d-daa9f9f3db9a.dcm to /content\n",
            "  0% 0.00/113k [00:00<?, ?B/s]\n",
            "100% 113k/113k [00:00<00:00, 94.5MB/s]\n",
            "Downloading GCP%20Credits%20Request%20Link%20-%20RSNA.txt to /content\n",
            "  0% 0.00/55.0 [00:00<?, ?B/s]\n",
            "100% 55.0/55.0 [00:00<00:00, 54.9kB/s]\n",
            "Downloading stage_2_train_labels.csv.zip to /content\n",
            "  0% 0.00/664k [00:00<?, ?B/s]\n",
            "100% 664k/664k [00:00<00:00, 92.4MB/s]\n",
            "Downloading stage_2_sample_submission.csv to /content\n",
            "  0% 0.00/155k [00:00<?, ?B/s]\n",
            "100% 155k/155k [00:00<00:00, 50.2MB/s]\n",
            "Downloading stage_2_detailed_class_info.csv.zip to /content\n",
            "  0% 0.00/581k [00:00<?, ?B/s]\n",
            "100% 581k/581k [00:00<00:00, 79.2MB/s]\n"
          ],
          "name": "stdout"
        }
      ]
    },
    {
      "cell_type": "code",
      "metadata": {
        "colab": {
          "base_uri": "https://localhost:8080/"
        },
        "id": "DdmbVv5QyEW_",
        "outputId": "bd982c2d-689c-4cfb-d5c4-19b0bf1d82fc"
      },
      "source": [
        "! unzip '/content/stage_2_train_labels.csv.zip' -d stage_2_train_labels"
      ],
      "execution_count": 2,
      "outputs": [
        {
          "output_type": "stream",
          "text": [
            "Archive:  /content/stage_2_train_labels.csv.zip\n",
            "  inflating: stage_2_train_labels/stage_2_train_labels.csv  \n"
          ],
          "name": "stdout"
        }
      ]
    },
    {
      "cell_type": "code",
      "metadata": {
        "colab": {
          "base_uri": "https://localhost:8080/"
        },
        "id": "YnpE9zPQzdNy",
        "outputId": "8c34bcc2-3a93-42f1-ada0-09e51873d218"
      },
      "source": [
        "! unzip '/content/stage_2_detailed_class_info.csv.zip' -d stage_2_detailed_class_info"
      ],
      "execution_count": 3,
      "outputs": [
        {
          "output_type": "stream",
          "text": [
            "Archive:  /content/stage_2_detailed_class_info.csv.zip\n",
            "  inflating: stage_2_detailed_class_info/stage_2_detailed_class_info.csv  \n"
          ],
          "name": "stdout"
        }
      ]
    },
    {
      "cell_type": "code",
      "metadata": {
        "id": "rRM_5RruznrR"
      },
      "source": [
        "import numpy as np\n",
        "import pandas as pd"
      ],
      "execution_count": 4,
      "outputs": []
    },
    {
      "cell_type": "code",
      "metadata": {
        "id": "A1YEtMXtz2fB"
      },
      "source": [
        "df_stage_2_detailed_class_info = pd.read_csv('/content/stage_2_detailed_class_info/stage_2_detailed_class_info.csv')\n"
      ],
      "execution_count": 5,
      "outputs": []
    },
    {
      "cell_type": "code",
      "metadata": {
        "colab": {
          "base_uri": "https://localhost:8080/"
        },
        "id": "6-J54-le026p",
        "outputId": "d1f1aeeb-40ef-4a60-b9ca-7b324a5bfa44"
      },
      "source": [
        "df_stage_2_detailed_class_info.shape"
      ],
      "execution_count": 6,
      "outputs": [
        {
          "output_type": "execute_result",
          "data": {
            "text/plain": [
              "(30227, 2)"
            ]
          },
          "metadata": {
            "tags": []
          },
          "execution_count": 6
        }
      ]
    },
    {
      "cell_type": "code",
      "metadata": {
        "colab": {
          "base_uri": "https://localhost:8080/",
          "height": 204
        },
        "id": "kTHTPLLLz9iv",
        "outputId": "c8e7b85b-3f05-4a08-8369-6fea2f270be6"
      },
      "source": [
        "df_stage_2_detailed_class_info.head()"
      ],
      "execution_count": 7,
      "outputs": [
        {
          "output_type": "execute_result",
          "data": {
            "text/html": [
              "<div>\n",
              "<style scoped>\n",
              "    .dataframe tbody tr th:only-of-type {\n",
              "        vertical-align: middle;\n",
              "    }\n",
              "\n",
              "    .dataframe tbody tr th {\n",
              "        vertical-align: top;\n",
              "    }\n",
              "\n",
              "    .dataframe thead th {\n",
              "        text-align: right;\n",
              "    }\n",
              "</style>\n",
              "<table border=\"1\" class=\"dataframe\">\n",
              "  <thead>\n",
              "    <tr style=\"text-align: right;\">\n",
              "      <th></th>\n",
              "      <th>patientId</th>\n",
              "      <th>class</th>\n",
              "    </tr>\n",
              "  </thead>\n",
              "  <tbody>\n",
              "    <tr>\n",
              "      <th>0</th>\n",
              "      <td>0004cfab-14fd-4e49-80ba-63a80b6bddd6</td>\n",
              "      <td>No Lung Opacity / Not Normal</td>\n",
              "    </tr>\n",
              "    <tr>\n",
              "      <th>1</th>\n",
              "      <td>00313ee0-9eaa-42f4-b0ab-c148ed3241cd</td>\n",
              "      <td>No Lung Opacity / Not Normal</td>\n",
              "    </tr>\n",
              "    <tr>\n",
              "      <th>2</th>\n",
              "      <td>00322d4d-1c29-4943-afc9-b6754be640eb</td>\n",
              "      <td>No Lung Opacity / Not Normal</td>\n",
              "    </tr>\n",
              "    <tr>\n",
              "      <th>3</th>\n",
              "      <td>003d8fa0-6bf1-40ed-b54c-ac657f8495c5</td>\n",
              "      <td>Normal</td>\n",
              "    </tr>\n",
              "    <tr>\n",
              "      <th>4</th>\n",
              "      <td>00436515-870c-4b36-a041-de91049b9ab4</td>\n",
              "      <td>Lung Opacity</td>\n",
              "    </tr>\n",
              "  </tbody>\n",
              "</table>\n",
              "</div>"
            ],
            "text/plain": [
              "                              patientId                         class\n",
              "0  0004cfab-14fd-4e49-80ba-63a80b6bddd6  No Lung Opacity / Not Normal\n",
              "1  00313ee0-9eaa-42f4-b0ab-c148ed3241cd  No Lung Opacity / Not Normal\n",
              "2  00322d4d-1c29-4943-afc9-b6754be640eb  No Lung Opacity / Not Normal\n",
              "3  003d8fa0-6bf1-40ed-b54c-ac657f8495c5                        Normal\n",
              "4  00436515-870c-4b36-a041-de91049b9ab4                  Lung Opacity"
            ]
          },
          "metadata": {
            "tags": []
          },
          "execution_count": 7
        }
      ]
    },
    {
      "cell_type": "code",
      "metadata": {
        "id": "Cs7BbDZ4z_QR"
      },
      "source": [
        "df_stage_2_train_labels = pd.read_csv('/content/stage_2_train_labels/stage_2_train_labels.csv')\n"
      ],
      "execution_count": 8,
      "outputs": []
    },
    {
      "cell_type": "code",
      "metadata": {
        "colab": {
          "base_uri": "https://localhost:8080/"
        },
        "id": "adaMmtFj0nfk",
        "outputId": "542e12f5-456b-4ace-d498-873f9318417e"
      },
      "source": [
        "df_stage_2_train_labels.shape"
      ],
      "execution_count": 9,
      "outputs": [
        {
          "output_type": "execute_result",
          "data": {
            "text/plain": [
              "(30227, 6)"
            ]
          },
          "metadata": {
            "tags": []
          },
          "execution_count": 9
        }
      ]
    },
    {
      "cell_type": "code",
      "metadata": {
        "colab": {
          "base_uri": "https://localhost:8080/",
          "height": 204
        },
        "id": "ZSHPho8c0JNg",
        "outputId": "0a49ecc6-26d7-4d28-9008-c1c3435b2939"
      },
      "source": [
        "df_stage_2_train_labels.head()"
      ],
      "execution_count": 10,
      "outputs": [
        {
          "output_type": "execute_result",
          "data": {
            "text/html": [
              "<div>\n",
              "<style scoped>\n",
              "    .dataframe tbody tr th:only-of-type {\n",
              "        vertical-align: middle;\n",
              "    }\n",
              "\n",
              "    .dataframe tbody tr th {\n",
              "        vertical-align: top;\n",
              "    }\n",
              "\n",
              "    .dataframe thead th {\n",
              "        text-align: right;\n",
              "    }\n",
              "</style>\n",
              "<table border=\"1\" class=\"dataframe\">\n",
              "  <thead>\n",
              "    <tr style=\"text-align: right;\">\n",
              "      <th></th>\n",
              "      <th>patientId</th>\n",
              "      <th>x</th>\n",
              "      <th>y</th>\n",
              "      <th>width</th>\n",
              "      <th>height</th>\n",
              "      <th>Target</th>\n",
              "    </tr>\n",
              "  </thead>\n",
              "  <tbody>\n",
              "    <tr>\n",
              "      <th>0</th>\n",
              "      <td>0004cfab-14fd-4e49-80ba-63a80b6bddd6</td>\n",
              "      <td>NaN</td>\n",
              "      <td>NaN</td>\n",
              "      <td>NaN</td>\n",
              "      <td>NaN</td>\n",
              "      <td>0</td>\n",
              "    </tr>\n",
              "    <tr>\n",
              "      <th>1</th>\n",
              "      <td>00313ee0-9eaa-42f4-b0ab-c148ed3241cd</td>\n",
              "      <td>NaN</td>\n",
              "      <td>NaN</td>\n",
              "      <td>NaN</td>\n",
              "      <td>NaN</td>\n",
              "      <td>0</td>\n",
              "    </tr>\n",
              "    <tr>\n",
              "      <th>2</th>\n",
              "      <td>00322d4d-1c29-4943-afc9-b6754be640eb</td>\n",
              "      <td>NaN</td>\n",
              "      <td>NaN</td>\n",
              "      <td>NaN</td>\n",
              "      <td>NaN</td>\n",
              "      <td>0</td>\n",
              "    </tr>\n",
              "    <tr>\n",
              "      <th>3</th>\n",
              "      <td>003d8fa0-6bf1-40ed-b54c-ac657f8495c5</td>\n",
              "      <td>NaN</td>\n",
              "      <td>NaN</td>\n",
              "      <td>NaN</td>\n",
              "      <td>NaN</td>\n",
              "      <td>0</td>\n",
              "    </tr>\n",
              "    <tr>\n",
              "      <th>4</th>\n",
              "      <td>00436515-870c-4b36-a041-de91049b9ab4</td>\n",
              "      <td>264.0</td>\n",
              "      <td>152.0</td>\n",
              "      <td>213.0</td>\n",
              "      <td>379.0</td>\n",
              "      <td>1</td>\n",
              "    </tr>\n",
              "  </tbody>\n",
              "</table>\n",
              "</div>"
            ],
            "text/plain": [
              "                              patientId      x      y  width  height  Target\n",
              "0  0004cfab-14fd-4e49-80ba-63a80b6bddd6    NaN    NaN    NaN     NaN       0\n",
              "1  00313ee0-9eaa-42f4-b0ab-c148ed3241cd    NaN    NaN    NaN     NaN       0\n",
              "2  00322d4d-1c29-4943-afc9-b6754be640eb    NaN    NaN    NaN     NaN       0\n",
              "3  003d8fa0-6bf1-40ed-b54c-ac657f8495c5    NaN    NaN    NaN     NaN       0\n",
              "4  00436515-870c-4b36-a041-de91049b9ab4  264.0  152.0  213.0   379.0       1"
            ]
          },
          "metadata": {
            "tags": []
          },
          "execution_count": 10
        }
      ]
    },
    {
      "cell_type": "code",
      "metadata": {
        "colab": {
          "base_uri": "https://localhost:8080/",
          "height": 111
        },
        "id": "PjqySh4_0K4Q",
        "outputId": "3a0ca0b9-06a9-48bc-b6ab-fdbca4edd43b"
      },
      "source": [
        "df_stage_2_detailed_class_info.describe().T"
      ],
      "execution_count": 11,
      "outputs": [
        {
          "output_type": "execute_result",
          "data": {
            "text/html": [
              "<div>\n",
              "<style scoped>\n",
              "    .dataframe tbody tr th:only-of-type {\n",
              "        vertical-align: middle;\n",
              "    }\n",
              "\n",
              "    .dataframe tbody tr th {\n",
              "        vertical-align: top;\n",
              "    }\n",
              "\n",
              "    .dataframe thead th {\n",
              "        text-align: right;\n",
              "    }\n",
              "</style>\n",
              "<table border=\"1\" class=\"dataframe\">\n",
              "  <thead>\n",
              "    <tr style=\"text-align: right;\">\n",
              "      <th></th>\n",
              "      <th>count</th>\n",
              "      <th>unique</th>\n",
              "      <th>top</th>\n",
              "      <th>freq</th>\n",
              "    </tr>\n",
              "  </thead>\n",
              "  <tbody>\n",
              "    <tr>\n",
              "      <th>patientId</th>\n",
              "      <td>30227</td>\n",
              "      <td>26684</td>\n",
              "      <td>0e03c2d7-9cea-4dc7-8e91-794a8b3ff58d</td>\n",
              "      <td>4</td>\n",
              "    </tr>\n",
              "    <tr>\n",
              "      <th>class</th>\n",
              "      <td>30227</td>\n",
              "      <td>3</td>\n",
              "      <td>No Lung Opacity / Not Normal</td>\n",
              "      <td>11821</td>\n",
              "    </tr>\n",
              "  </tbody>\n",
              "</table>\n",
              "</div>"
            ],
            "text/plain": [
              "           count unique                                   top   freq\n",
              "patientId  30227  26684  0e03c2d7-9cea-4dc7-8e91-794a8b3ff58d      4\n",
              "class      30227      3          No Lung Opacity / Not Normal  11821"
            ]
          },
          "metadata": {
            "tags": []
          },
          "execution_count": 11
        }
      ]
    },
    {
      "cell_type": "code",
      "metadata": {
        "colab": {
          "base_uri": "https://localhost:8080/",
          "height": 204
        },
        "id": "rdsqWgNf1sis",
        "outputId": "bf21cfec-5479-40a5-fd91-97a125743c15"
      },
      "source": [
        "df_stage_2_train_labels.describe().T"
      ],
      "execution_count": 12,
      "outputs": [
        {
          "output_type": "execute_result",
          "data": {
            "text/html": [
              "<div>\n",
              "<style scoped>\n",
              "    .dataframe tbody tr th:only-of-type {\n",
              "        vertical-align: middle;\n",
              "    }\n",
              "\n",
              "    .dataframe tbody tr th {\n",
              "        vertical-align: top;\n",
              "    }\n",
              "\n",
              "    .dataframe thead th {\n",
              "        text-align: right;\n",
              "    }\n",
              "</style>\n",
              "<table border=\"1\" class=\"dataframe\">\n",
              "  <thead>\n",
              "    <tr style=\"text-align: right;\">\n",
              "      <th></th>\n",
              "      <th>count</th>\n",
              "      <th>mean</th>\n",
              "      <th>std</th>\n",
              "      <th>min</th>\n",
              "      <th>25%</th>\n",
              "      <th>50%</th>\n",
              "      <th>75%</th>\n",
              "      <th>max</th>\n",
              "    </tr>\n",
              "  </thead>\n",
              "  <tbody>\n",
              "    <tr>\n",
              "      <th>x</th>\n",
              "      <td>9555.0</td>\n",
              "      <td>394.047724</td>\n",
              "      <td>204.574172</td>\n",
              "      <td>2.0</td>\n",
              "      <td>207.0</td>\n",
              "      <td>324.0</td>\n",
              "      <td>594.0</td>\n",
              "      <td>835.0</td>\n",
              "    </tr>\n",
              "    <tr>\n",
              "      <th>y</th>\n",
              "      <td>9555.0</td>\n",
              "      <td>366.839560</td>\n",
              "      <td>148.940488</td>\n",
              "      <td>2.0</td>\n",
              "      <td>249.0</td>\n",
              "      <td>365.0</td>\n",
              "      <td>478.5</td>\n",
              "      <td>881.0</td>\n",
              "    </tr>\n",
              "    <tr>\n",
              "      <th>width</th>\n",
              "      <td>9555.0</td>\n",
              "      <td>218.471376</td>\n",
              "      <td>59.289475</td>\n",
              "      <td>40.0</td>\n",
              "      <td>177.0</td>\n",
              "      <td>217.0</td>\n",
              "      <td>259.0</td>\n",
              "      <td>528.0</td>\n",
              "    </tr>\n",
              "    <tr>\n",
              "      <th>height</th>\n",
              "      <td>9555.0</td>\n",
              "      <td>329.269702</td>\n",
              "      <td>157.750755</td>\n",
              "      <td>45.0</td>\n",
              "      <td>203.0</td>\n",
              "      <td>298.0</td>\n",
              "      <td>438.0</td>\n",
              "      <td>942.0</td>\n",
              "    </tr>\n",
              "    <tr>\n",
              "      <th>Target</th>\n",
              "      <td>30227.0</td>\n",
              "      <td>0.316108</td>\n",
              "      <td>0.464963</td>\n",
              "      <td>0.0</td>\n",
              "      <td>0.0</td>\n",
              "      <td>0.0</td>\n",
              "      <td>1.0</td>\n",
              "      <td>1.0</td>\n",
              "    </tr>\n",
              "  </tbody>\n",
              "</table>\n",
              "</div>"
            ],
            "text/plain": [
              "          count        mean         std   min    25%    50%    75%    max\n",
              "x        9555.0  394.047724  204.574172   2.0  207.0  324.0  594.0  835.0\n",
              "y        9555.0  366.839560  148.940488   2.0  249.0  365.0  478.5  881.0\n",
              "width    9555.0  218.471376   59.289475  40.0  177.0  217.0  259.0  528.0\n",
              "height   9555.0  329.269702  157.750755  45.0  203.0  298.0  438.0  942.0\n",
              "Target  30227.0    0.316108    0.464963   0.0    0.0    0.0    1.0    1.0"
            ]
          },
          "metadata": {
            "tags": []
          },
          "execution_count": 12
        }
      ]
    },
    {
      "cell_type": "code",
      "metadata": {
        "id": "2x8PMLu72kcG"
      },
      "source": [
        "import seaborn as sns\n",
        "import matplotlib.pyplot as plt\n",
        "sns.set(color_codes=True)\n",
        "%matplotlib inline\n"
      ],
      "execution_count": 13,
      "outputs": []
    },
    {
      "cell_type": "code",
      "metadata": {
        "colab": {
          "base_uri": "https://localhost:8080/",
          "height": 339
        },
        "id": "NIWXbOhi1zet",
        "outputId": "29fa3e04-4ba5-4bd2-f103-2c335393aef2"
      },
      "source": [
        "sns.countplot(df_stage_2_train_labels['Target']);"
      ],
      "execution_count": 14,
      "outputs": [
        {
          "output_type": "stream",
          "text": [
            "/usr/local/lib/python3.7/dist-packages/seaborn/_decorators.py:43: FutureWarning: Pass the following variable as a keyword arg: x. From version 0.12, the only valid positional argument will be `data`, and passing other arguments without an explicit keyword will result in an error or misinterpretation.\n",
            "  FutureWarning\n"
          ],
          "name": "stderr"
        },
        {
          "output_type": "display_data",
          "data": {
            "image/png": "[encoded data removed]",
            "text/plain": [
              "<Figure size 432x288 with 1 Axes>"
            ]
          },
          "metadata": {
            "tags": [],
            "needs_background": "light"
          }
        }
      ]
    },
    {
      "cell_type": "code",
      "metadata": {
        "colab": {
          "base_uri": "https://localhost:8080/"
        },
        "id": "b4ZEsQnY3Eb0",
        "outputId": "90447563-1290-4e11-a937-34f2a1bca0e3"
      },
      "source": [
        "df_stage_2_train_labels['Target'].value_counts()"
      ],
      "execution_count": 15,
      "outputs": [
        {
          "output_type": "execute_result",
          "data": {
            "text/plain": [
              "0    20672\n",
              "1     9555\n",
              "Name: Target, dtype: int64"
            ]
          },
          "metadata": {
            "tags": []
          },
          "execution_count": 15
        }
      ]
    },
    {
      "cell_type": "code",
      "metadata": {
        "colab": {
          "base_uri": "https://localhost:8080/",
          "height": 339
        },
        "id": "chf6W0Ht2jof",
        "outputId": "c1e2ec79-d23f-4474-8868-53a127926ab2"
      },
      "source": [
        "sns.countplot(df_stage_2_detailed_class_info['class']);"
      ],
      "execution_count": 16,
      "outputs": [
        {
          "output_type": "stream",
          "text": [
            "/usr/local/lib/python3.7/dist-packages/seaborn/_decorators.py:43: FutureWarning: Pass the following variable as a keyword arg: x. From version 0.12, the only valid positional argument will be `data`, and passing other arguments without an explicit keyword will result in an error or misinterpretation.\n",
            "  FutureWarning\n"
          ],
          "name": "stderr"
        },
        {
          "output_type": "display_data",
          "data": {
            "image/png": "[encoded data removed]",
            "text/plain": [
              "<Figure size 432x288 with 1 Axes>"
            ]
          },
          "metadata": {
            "tags": [],
            "needs_background": "light"
          }
        }
      ]
    },
    {
      "cell_type": "code",
      "metadata": {
        "colab": {
          "base_uri": "https://localhost:8080/"
        },
        "id": "kxxc4wjd2xS_",
        "outputId": "35e48bd2-d41b-47c0-e96f-0e8255fd0fb2"
      },
      "source": [
        "df_stage_2_detailed_class_info['class'].value_counts()"
      ],
      "execution_count": 17,
      "outputs": [
        {
          "output_type": "execute_result",
          "data": {
            "text/plain": [
              "No Lung Opacity / Not Normal    11821\n",
              "Lung Opacity                     9555\n",
              "Normal                           8851\n",
              "Name: class, dtype: int64"
            ]
          },
          "metadata": {
            "tags": []
          },
          "execution_count": 17
        }
      ]
    },
    {
      "cell_type": "code",
      "metadata": {
        "colab": {
          "base_uri": "https://localhost:8080/"
        },
        "id": "UtRBb4Sr3Kax",
        "outputId": "79d00ed0-1b83-472e-f329-1692332a41ec"
      },
      "source": [
        "print('\\nColumns:\\n',df_stage_2_train_labels.columns)\n",
        "print('\\nData types:\\n',df_stage_2_train_labels.dtypes)\n",
        "print('\\nSize:\\n',df_stage_2_train_labels.size)\n",
        "print('\\nShape:\\n',df_stage_2_train_labels.shape)\n",
        "print('\\nNull checks:\\n',df_stage_2_train_labels.isnull().sum())\n",
        "print('\\nDescribe:\\n',df_stage_2_train_labels.describe().T)\n"
      ],
      "execution_count": 18,
      "outputs": [
        {
          "output_type": "stream",
          "text": [
            "\n",
            "Columns:\n",
            " Index(['patientId', 'x', 'y', 'width', 'height', 'Target'], dtype='object')\n",
            "\n",
            "Data types:\n",
            " patientId     object\n",
            "x            float64\n",
            "y            float64\n",
            "width        float64\n",
            "height       float64\n",
            "Target         int64\n",
            "dtype: object\n",
            "\n",
            "Size:\n",
            " 181362\n",
            "\n",
            "Shape:\n",
            " (30227, 6)\n",
            "\n",
            "Null checks:\n",
            " patientId        0\n",
            "x            20672\n",
            "y            20672\n",
            "width        20672\n",
            "height       20672\n",
            "Target           0\n",
            "dtype: int64\n",
            "\n",
            "Describe:\n",
            "           count        mean         std   min    25%    50%    75%    max\n",
            "x        9555.0  394.047724  204.574172   2.0  207.0  324.0  594.0  835.0\n",
            "y        9555.0  366.839560  148.940488   2.0  249.0  365.0  478.5  881.0\n",
            "width    9555.0  218.471376   59.289475  40.0  177.0  217.0  259.0  528.0\n",
            "height   9555.0  329.269702  157.750755  45.0  203.0  298.0  438.0  942.0\n",
            "Target  30227.0    0.316108    0.464963   0.0    0.0    0.0    1.0    1.0\n"
          ],
          "name": "stdout"
        }
      ]
    },
    {
      "cell_type": "code",
      "metadata": {
        "colab": {
          "base_uri": "https://localhost:8080/"
        },
        "id": "MeNsFL9335YT",
        "outputId": "b260ce0c-8a46-4186-f4f1-fe0b2843deaa"
      },
      "source": [
        "print('\\nColumns:\\n',df_stage_2_detailed_class_info.columns)\n",
        "print('\\nData types:\\n',df_stage_2_detailed_class_info.dtypes)\n",
        "print('\\nSize:\\n',df_stage_2_detailed_class_info.size)\n",
        "print('\\nShape:\\n',df_stage_2_detailed_class_info.shape)\n",
        "print('\\nNull checks:\\n',df_stage_2_detailed_class_info.isnull().sum())\n",
        "print('\\nDescribe:\\n',df_stage_2_detailed_class_info.describe().T)\n"
      ],
      "execution_count": 19,
      "outputs": [
        {
          "output_type": "stream",
          "text": [
            "\n",
            "Columns:\n",
            " Index(['patientId', 'class'], dtype='object')\n",
            "\n",
            "Data types:\n",
            " patientId    object\n",
            "class        object\n",
            "dtype: object\n",
            "\n",
            "Size:\n",
            " 60454\n",
            "\n",
            "Shape:\n",
            " (30227, 2)\n",
            "\n",
            "Null checks:\n",
            " patientId    0\n",
            "class        0\n",
            "dtype: int64\n",
            "\n",
            "Describe:\n",
            "            count unique                                   top   freq\n",
            "patientId  30227  26684  0e03c2d7-9cea-4dc7-8e91-794a8b3ff58d      4\n",
            "class      30227      3          No Lung Opacity / Not Normal  11821\n"
          ],
          "name": "stdout"
        }
      ]
    },
    {
      "cell_type": "code",
      "metadata": {
        "id": "oGYVMWCt4GAV"
      },
      "source": [
        "file1 = '/content/0000a175-0e68-4ca4-b1af-167204a7e0bc.dcm'"
      ],
      "execution_count": 33,
      "outputs": []
    },
    {
      "cell_type": "code",
      "metadata": {
        "colab": {
          "base_uri": "https://localhost:8080/"
        },
        "id": "3QIHQBiyzMI1",
        "outputId": "878afc55-9798-491d-e99d-7a6a070dd657"
      },
      "source": [
        "!pip install pydicom\n",
        "import pydicom\n",
        "from pydicom import dcmread"
      ],
      "execution_count": 42,
      "outputs": [
        {
          "output_type": "stream",
          "text": [
            "Requirement already satisfied: pydicom in /usr/local/lib/python3.7/dist-packages (2.1.2)\n"
          ],
          "name": "stdout"
        }
      ]
    },
    {
      "cell_type": "code",
      "metadata": {
        "id": "ucdK3PqZzfPU"
      },
      "source": [
        "img = dcmread(file1)"
      ],
      "execution_count": 49,
      "outputs": []
    },
    {
      "cell_type": "code",
      "metadata": {
        "colab": {
          "base_uri": "https://localhost:8080/",
          "height": 272
        },
        "id": "CQa7bQ5u126n",
        "outputId": "97810406-2a0e-4145-9613-66de8a638013"
      },
      "source": [
        "plt.imshow(img.pixel_array);"
      ],
      "execution_count": 50,
      "outputs": [
        {
          "output_type": "display_data",
          "data": {
            "image/png": "[encoded data removed]",
            "text/plain": [
              "<Figure size 432x288 with 1 Axes>"
            ]
          },
          "metadata": {
            "tags": [],
            "needs_background": "light"
          }
        }
      ]
    },
    {
      "cell_type": "code",
      "metadata": {
        "colab": {
          "base_uri": "https://localhost:8080/",
          "height": 35
        },
        "id": "q21byd622W9Y",
        "outputId": "8c5cf63f-1440-4729-af70-a1767546e440"
      },
      "source": [
        "img.PatientAge"
      ],
      "execution_count": 53,
      "outputs": [
        {
          "output_type": "execute_result",
          "data": {
            "application/vnd.google.colaboratory.intrinsic+json": {
              "type": "string"
            },
            "text/plain": [
              "'46'"
            ]
          },
          "metadata": {
            "tags": []
          },
          "execution_count": 53
        }
      ]
    },
    {
      "cell_type": "code",
      "metadata": {
        "colab": {
          "base_uri": "https://localhost:8080/"
        },
        "id": "htZLlj7p2dNn",
        "outputId": "bb58d4fa-4498-4f95-a493-e1680128ed69"
      },
      "source": [
        "img.pixel_array"
      ],
      "execution_count": 54,
      "outputs": [
        {
          "output_type": "execute_result",
          "data": {
            "text/plain": [
              "array([[ 54,  49,  44, ..., 141, 140, 142],\n",
              "       [ 48,  42,  38, ..., 141, 141, 142],\n",
              "       [ 42,  37,  33, ..., 139, 140, 140],\n",
              "       ...,\n",
              "       [ 23,  23,  23, ..., 140, 139, 139],\n",
              "       [ 24,  24,  24, ..., 141, 140, 139],\n",
              "       [ 26,  26,  26, ..., 142, 142, 142]], dtype=uint8)"
            ]
          },
          "metadata": {
            "tags": []
          },
          "execution_count": 54
        }
      ]
    },
    {
      "cell_type": "code",
      "metadata": {
        "id": "lRmoPcqx25MX"
      },
      "source": [
        ""
      ],
      "execution_count": null,
      "outputs": []
    }
  ]
}