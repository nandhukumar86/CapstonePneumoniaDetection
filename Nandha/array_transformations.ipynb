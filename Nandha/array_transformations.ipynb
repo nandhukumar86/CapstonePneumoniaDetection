{
  "nbformat": 4,
  "nbformat_minor": 0,
  "metadata": {
    "colab": {
      "name": "array_transformations.ipynb",
      "provenance": [],
      "collapsed_sections": [],
      "authorship_tag": "ABX9TyNBf/md1x1f4h5ePwZv/H15",
      "include_colab_link": true
    },
    "kernelspec": {
      "name": "python3",
      "display_name": "Python 3"
    },
    "language_info": {
      "name": "python"
    }
  },
  "cells": [
    {
      "cell_type": "markdown",
      "metadata": {
        "id": "view-in-github",
        "colab_type": "text"
      },
      "source": [
        "<a href=\"https://colab.research.google.com/github/nandhukumar86/CapstonePneumoniaDetection/blob/main/Nandha/array_transformations.ipynb\" target=\"_parent\"><img src=\"https://colab.research.google.com/assets/colab-badge.svg\" alt=\"Open In Colab\"/></a>"
      ]
    },
    {
      "cell_type": "code",
      "metadata": {
        "id": "x2SsMB0j0bzD"
      },
      "source": [
        "def custom_resize_target(X, Y, x, y, l, b, Xo = 128, Yo = 128):\n",
        "  X_ratio = (Xo/X) \n",
        "  Y_ratio = (Yo/Y) \n",
        "  xo = X_ratio * x\n",
        "  yo = Y_ratio * y\n",
        "  lo = X_ratio * l\n",
        "  bo = Y_ratio * b\n",
        "  return int(Xo), int(Yo), int(xo), int(yo), int(lo), int(bo)"
      ],
      "execution_count": 1,
      "outputs": []
    },
    {
      "cell_type": "code",
      "metadata": {
        "colab": {
          "base_uri": "https://localhost:8080/"
        },
        "id": "B-JPL8r91mRP",
        "outputId": "4d5ad094-29d5-47c0-890b-11fae751b75d"
      },
      "source": [
        "custom_resize_target(1200, 800, 25, 25, 100, 250)"
      ],
      "execution_count": 2,
      "outputs": [
        {
          "output_type": "execute_result",
          "data": {
            "text/plain": [
              "(128, 128, 2, 4, 10, 40)"
            ]
          },
          "metadata": {
            "tags": []
          },
          "execution_count": 2
        }
      ]
    },
    {
      "cell_type": "code",
      "metadata": {
        "id": "x2ZgSg25145O"
      },
      "source": [
        "Xo, Yo, xo, yo, lo, bo = custom_resize_target(1200, 800, 25, 25, 1100, 750)"
      ],
      "execution_count": 3,
      "outputs": []
    },
    {
      "cell_type": "code",
      "metadata": {
        "colab": {
          "base_uri": "https://localhost:8080/"
        },
        "id": "NXgL-8h-2btO",
        "outputId": "7c2d8f85-f109-4728-98e8-e4f0331681b7"
      },
      "source": [
        "Xo, Yo, xo, yo, lo, bo"
      ],
      "execution_count": 4,
      "outputs": [
        {
          "output_type": "execute_result",
          "data": {
            "text/plain": [
              "(128, 128, 2, 4, 117, 120)"
            ]
          },
          "metadata": {
            "tags": []
          },
          "execution_count": 4
        }
      ]
    },
    {
      "cell_type": "code",
      "metadata": {
        "id": "kEVDDIxT3kW-"
      },
      "source": [
        "import numpy as np\n",
        "theta = np.pi / 2\n",
        "rotation_matrix = np.array([(np.cos(theta), -np.sin(theta)), (np.sin(theta), np.cos(theta))], dtype = float)\n"
      ],
      "execution_count": 5,
      "outputs": []
    },
    {
      "cell_type": "code",
      "metadata": {
        "colab": {
          "base_uri": "https://localhost:8080/"
        },
        "id": "tdLjdX0k3vh-",
        "outputId": "363bb988-a22e-40b9-f68a-8118bbcb425d"
      },
      "source": [
        "np.matmul(rotation_matrix, [2-64,4-64]) + 64"
      ],
      "execution_count": 6,
      "outputs": [
        {
          "output_type": "execute_result",
          "data": {
            "text/plain": [
              "array([124.,   2.])"
            ]
          },
          "metadata": {
            "tags": []
          },
          "execution_count": 6
        }
      ]
    },
    {
      "cell_type": "code",
      "metadata": {
        "id": "Iu3T2Guk4nwA"
      },
      "source": [
        "def custom_rotate_target(theta, x, y, X = 128, Y = 128):\n",
        "  x_shift = int(X/2)\n",
        "  y_shift = int(Y/2)\n",
        "\n",
        "  rotation_matrix = np.array([(np.cos(theta), -np.sin(theta)), (np.sin(theta), np.cos(theta))], dtype = float)\n",
        "\n",
        "  P1 = np.matmul(rotation_matrix, [x - x_shift, y - y_shift]) + [x_shift, y_shift]\n",
        "\n",
        "  return X, Y, int(P1[0]), int(P1[1])\n"
      ],
      "execution_count": 11,
      "outputs": []
    },
    {
      "cell_type": "code",
      "metadata": {
        "colab": {
          "base_uri": "https://localhost:8080/"
        },
        "id": "K8DZV9Q_ML_p",
        "outputId": "ec5ecc5c-0985-4628-f74f-fd6106ad80ac"
      },
      "source": [
        "custom_rotate_target(np.pi/2, 2,4)"
      ],
      "execution_count": 14,
      "outputs": [
        {
          "output_type": "execute_result",
          "data": {
            "text/plain": [
              "(128, 128, 124, 1)"
            ]
          },
          "metadata": {
            "tags": []
          },
          "execution_count": 14
        }
      ]
    },
    {
      "cell_type": "code",
      "metadata": {
        "colab": {
          "base_uri": "https://localhost:8080/"
        },
        "id": "RbS-3aLZML5g",
        "outputId": "69c54b6b-62ae-44d5-8f2e-fdd3ace172af"
      },
      "source": [
        "custom_rotate_target(np.pi, 2,4)"
      ],
      "execution_count": 15,
      "outputs": [
        {
          "output_type": "execute_result",
          "data": {
            "text/plain": [
              "(128, 128, 126, 124)"
            ]
          },
          "metadata": {
            "tags": []
          },
          "execution_count": 15
        }
      ]
    },
    {
      "cell_type": "code",
      "metadata": {
        "colab": {
          "base_uri": "https://localhost:8080/"
        },
        "id": "JJM7LRkPMLyn",
        "outputId": "89d4e4ca-f5fc-4744-a531-545d1de51579"
      },
      "source": [
        "custom_rotate_target(3*np.pi/2, 2,4)"
      ],
      "execution_count": 16,
      "outputs": [
        {
          "output_type": "execute_result",
          "data": {
            "text/plain": [
              "(128, 128, 4, 126)"
            ]
          },
          "metadata": {
            "tags": []
          },
          "execution_count": 16
        }
      ]
    },
    {
      "cell_type": "code",
      "metadata": {
        "colab": {
          "base_uri": "https://localhost:8080/"
        },
        "id": "hprVvW3lMLo9",
        "outputId": "f6695b91-a15e-4cbb-f436-b7d276d569d4"
      },
      "source": [
        "custom_rotate_target(2*np.pi, 2,4) # one pixel error"
      ],
      "execution_count": 17,
      "outputs": [
        {
          "output_type": "execute_result",
          "data": {
            "text/plain": [
              "(128, 128, 1, 4)"
            ]
          },
          "metadata": {
            "tags": []
          },
          "execution_count": 17
        }
      ]
    },
    {
      "cell_type": "code",
      "metadata": {
        "id": "dIkl_uJW9xAD"
      },
      "source": [
        "import cv2\n",
        "from google.colab.patches import cv2_imshow"
      ],
      "execution_count": null,
      "outputs": []
    },
    {
      "cell_type": "code",
      "metadata": {
        "id": "jyWG3CaDFnuS"
      },
      "source": [
        "\n"
      ],
      "execution_count": null,
      "outputs": []
    },
    {
      "cell_type": "code",
      "metadata": {
        "colab": {
          "base_uri": "https://localhost:8080/",
          "height": 145
        },
        "id": "b-FA4VHuFpA_",
        "outputId": "51a50434-0366-41de-e001-4211c7d8e698"
      },
      "source": [
        "img = np.ones((128,128,1), np.uint8)\n",
        "imgd = cv.rectangle(img,(124,114), (25,32), (255,255,255),1)\n",
        "cv2_imshow(imgd)"
      ],
      "execution_count": null,
      "outputs": [
        {
          "output_type": "display_data",
          "data": {
            "image/png": "[encoded data removed]",
            "text/plain": [
              "<PIL.Image.Image image mode=RGB size=128x128 at 0x7F4AA58D6A10>"
            ]
          },
          "metadata": {
            "tags": []
          }
        }
      ]
    },
    {
      "cell_type": "code",
      "metadata": {
        "colab": {
          "base_uri": "https://localhost:8080/",
          "height": 145
        },
        "id": "gDmgqVQpFqzQ",
        "outputId": "baf44c35-1465-4ccc-c2a2-4b8ddfff4764"
      },
      "source": [
        "img = np.zeros((128,128,3), np.uint8)\n",
        "imgd = cv.rectangle(img,(25,32), (124,114),(0,255,0),3)\n",
        "cv2_imshow(imgd)"
      ],
      "execution_count": null,
      "outputs": [
        {
          "output_type": "display_data",
          "data": {
            "image/png": "[encoded data removed]",
            "text/plain": [
              "<PIL.Image.Image image mode=RGB size=128x128 at 0x7F4AA5B86F50>"
            ]
          },
          "metadata": {
            "tags": []
          }
        }
      ]
    },
    {
      "cell_type": "code",
      "metadata": {
        "id": "7n7PUMMIG2lv"
      },
      "source": [
        ""
      ],
      "execution_count": null,
      "outputs": []
    }
  ]
}