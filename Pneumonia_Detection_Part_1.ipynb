{
  "nbformat": 4,
  "nbformat_minor": 0,
  "metadata": {
    "colab": {
      "name": "Pneumonia_Detection_Part_1.ipynb",
      "provenance": [],
      "collapsed_sections": [],
      "machine_shape": "hm",
      "mount_file_id": "1UbpzRxisIAZXTivUTnszY2yG5xkT4T_K",
      "authorship_tag": "ABX9TyNLoU6BxoyT4fmsykYvbC3p",
      "include_colab_link": true
    },
    "kernelspec": {
      "name": "python3",
      "display_name": "Python 3"
    },
    "language_info": {
      "name": "python"
    },
    "accelerator": "GPU"
  },
  "cells": [
    {
      "cell_type": "markdown",
      "metadata": {
        "id": "view-in-github",
        "colab_type": "text"
      },
      "source": [
        "<a href=\"https://colab.research.google.com/github/nandhukumar86/CapstonePneumoniaDetection/blob/main/Pneumonia_Detection_Part_1.ipynb\" target=\"_parent\"><img src=\"https://colab.research.google.com/assets/colab-badge.svg\" alt=\"Open In Colab\"/></a>"
      ]
    },
    {
      "cell_type": "markdown",
      "metadata": {
        "id": "mMIBc5gcGEcC"
      },
      "source": [
        "# Upgrading pip in Colab"
      ]
    },
    {
      "cell_type": "code",
      "metadata": {
        "colab": {
          "base_uri": "https://localhost:8080/"
        },
        "id": "RCI52Lp5-pMh",
        "outputId": "921cab2c-ff23-4074-df1b-00a5ce62b948"
      },
      "source": [
        "! pip install --upgrade pip\n",
        "! pip uninstall kaggle\n",
        "! pip install kaggle"
      ],
      "execution_count": 1,
      "outputs": [
        {
          "output_type": "stream",
          "text": [
            "y\n",
            "y\n",
            "y\n",
            "y\n",
            "Collecting pip\n",
            "\u001b[?25l  Downloading https://files.pythonhosted.org/packages/cd/82/04e9aaf603fdbaecb4323b9e723f13c92c245f6ab2902195c53987848c78/pip-21.1.2-py3-none-any.whl (1.5MB)\n",
            "\u001b[K     |████████████████████████████████| 1.6MB 14.2MB/s \n",
            "\u001b[?25hInstalling collected packages: pip\n",
            "  Found existing installation: pip 19.3.1\n",
            "    Uninstalling pip-19.3.1:\n",
            "      Successfully uninstalled pip-19.3.1\n",
            "Successfully installed pip-21.1.2\n",
            "Found existing installation: kaggle 1.5.12\n",
            "Uninstalling kaggle-1.5.12:\n",
            "  Would remove:\n",
            "    /usr/local/bin/kaggle\n",
            "    /usr/local/lib/python3.7/dist-packages/kaggle-1.5.12.dist-info/*\n",
            "    /usr/local/lib/python3.7/dist-packages/kaggle/*\n",
            "Proceed (y/n)? y\n",
            "  Successfully uninstalled kaggle-1.5.12\n",
            "\u001b[33mWARNING: Running pip as root will break packages and permissions. You should install packages reliably by using venv: https://pip.pypa.io/warnings/venv\u001b[0m\n",
            "Collecting kaggle\n",
            "  Downloading kaggle-1.5.12.tar.gz (58 kB)\n",
            "\u001b[K     |████████████████████████████████| 58 kB 4.5 MB/s \n",
            "\u001b[?25hRequirement already satisfied: six>=1.10 in /usr/local/lib/python3.7/dist-packages (from kaggle) (1.15.0)\n",
            "Requirement already satisfied: certifi in /usr/local/lib/python3.7/dist-packages (from kaggle) (2021.5.30)\n",
            "Requirement already satisfied: python-dateutil in /usr/local/lib/python3.7/dist-packages (from kaggle) (2.8.1)\n",
            "Requirement already satisfied: requests in /usr/local/lib/python3.7/dist-packages (from kaggle) (2.23.0)\n",
            "Requirement already satisfied: tqdm in /usr/local/lib/python3.7/dist-packages (from kaggle) (4.41.1)\n",
            "Requirement already satisfied: python-slugify in /usr/local/lib/python3.7/dist-packages (from kaggle) (5.0.2)\n",
            "Requirement already satisfied: urllib3 in /usr/local/lib/python3.7/dist-packages (from kaggle) (1.24.3)\n",
            "Requirement already satisfied: text-unidecode>=1.3 in /usr/local/lib/python3.7/dist-packages (from python-slugify->kaggle) (1.3)\n",
            "Requirement already satisfied: chardet<4,>=3.0.2 in /usr/local/lib/python3.7/dist-packages (from requests->kaggle) (3.0.4)\n",
            "Requirement already satisfied: idna<3,>=2.5 in /usr/local/lib/python3.7/dist-packages (from requests->kaggle) (2.10)\n",
            "Building wheels for collected packages: kaggle\n",
            "  Building wheel for kaggle (setup.py) ... \u001b[?25l\u001b[?25hdone\n",
            "  Created wheel for kaggle: filename=kaggle-1.5.12-py3-none-any.whl size=73052 sha256=5fa496044a8337af0460bf501246f61ab93e5a62dbdace711f952eef52ca3c10\n",
            "  Stored in directory: /root/.cache/pip/wheels/62/d6/58/5853130f941e75b2177d281eb7e44b4a98ed46dd155f556dc5\n",
            "Successfully built kaggle\n",
            "Installing collected packages: kaggle\n",
            "Successfully installed kaggle-1.5.12\n",
            "\u001b[33mWARNING: Running pip as root will break packages and permissions. You should install packages reliably by using venv: https://pip.pypa.io/warnings/venv\u001b[0m\n"
          ],
          "name": "stdout"
        }
      ]
    },
    {
      "cell_type": "markdown",
      "metadata": {
        "id": "-3tXmZYnGOMS"
      },
      "source": [
        "# Connecting Kaggle"
      ]
    },
    {
      "cell_type": "code",
      "metadata": {
        "colab": {
          "resources": {
            "http://localhost:8080/nbextensions/google.colab/files.js": {
              "data": "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",
              "ok": true,
              "headers": [
                [
                  "content-type",
                  "application/javascript"
                ]
              ],
              "status": 200,
              "status_text": ""
            }
          },
          "base_uri": "https://localhost:8080/",
          "height": 160
        },
        "id": "KZsnzkqs-tC3",
        "outputId": "fa0dd525-cee6-4727-8294-d5f65917eecb"
      },
      "source": [
        "# install kaggle\n",
        "! pip install -q kaggle\n",
        "\n",
        "# upload file to Colab\n",
        "from google.colab import files\n",
        "files.upload()\n",
        "\n",
        "# create kaggle folder in root and copy the file.\n",
        "! mkdir ~/.kaggle\n",
        "! cp kaggle.json ~/.kaggle/\n",
        "\n",
        "# provide permissions\n",
        "! chmod 600 ~/.kaggle/kaggle.json\n",
        "\n",
        "# download competition files by providing competition name\n",
        "! kaggle competitions download -c 'rsna-pneumonia-detection-challenge'\n",
        "\n",
        "# unzip the files and folders\n",
        "#! unzip train.csv.zip -d train\n",
        "#! unzip test.csv.zip -d test\n"
      ],
      "execution_count": 2,
      "outputs": [
        {
          "output_type": "stream",
          "text": [
            "\u001b[33mWARNING: Running pip as root will break packages and permissions. You should install packages reliably by using venv: https://pip.pypa.io/warnings/venv\u001b[0m\n"
          ],
          "name": "stdout"
        },
        {
          "output_type": "display_data",
          "data": {
            "text/html": [
              "\n",
              "     <input type=\"file\" id=\"files-953277eb-5051-43cb-9726-df7ff3297459\" name=\"files[]\" multiple disabled\n",
              "        style=\"border:none\" />\n",
              "     <output id=\"result-953277eb-5051-43cb-9726-df7ff3297459\">\n",
              "      Upload widget is only available when the cell has been executed in the\n",
              "      current browser session. Please rerun this cell to enable.\n",
              "      </output>\n",
              "      <script src=\"/nbextensions/google.colab/files.js\"></script> "
            ],
            "text/plain": [
              "<IPython.core.display.HTML object>"
            ]
          },
          "metadata": {
            "tags": []
          }
        },
        {
          "output_type": "stream",
          "text": [
            "Saving kaggle.json to kaggle.json\n",
            "Downloading rsna-pneumonia-detection-challenge.zip to /content\n",
            "100% 3.65G/3.66G [00:54<00:00, 66.4MB/s]\n",
            "100% 3.66G/3.66G [00:54<00:00, 72.0MB/s]\n"
          ],
          "name": "stdout"
        }
      ]
    },
    {
      "cell_type": "code",
      "metadata": {
        "id": "MAdzpF1i-7Fk"
      },
      "source": [
        "! unzip '/content/rsna-pneumonia-detection-challenge.zip' -d dataset"
      ],
      "execution_count": null,
      "outputs": []
    },
    {
      "cell_type": "markdown",
      "metadata": {
        "id": "-6msIjOvGSmd"
      },
      "source": [
        "# Basic Imports"
      ]
    },
    {
      "cell_type": "code",
      "metadata": {
        "id": "nSZvpyMa_MWC"
      },
      "source": [
        "import numpy as np\n",
        "import pandas as pd\n",
        "import seaborn as sns\n",
        "import matplotlib.pyplot as plt\n",
        "sns.set(color_codes=True)\n",
        "%matplotlib inline\n",
        "\n",
        "import warnings\n",
        "warnings.filterwarnings(\"ignore\")\n"
      ],
      "execution_count": 4,
      "outputs": []
    },
    {
      "cell_type": "code",
      "metadata": {
        "id": "GPaTKi02_YyH"
      },
      "source": [
        "dfClassInfo = pd.read_csv('/content/dataset/stage_2_detailed_class_info.csv')\n",
        "dfLabels = pd.read_csv('/content/dataset/stage_2_train_labels.csv')"
      ],
      "execution_count": 5,
      "outputs": []
    },
    {
      "cell_type": "code",
      "metadata": {
        "colab": {
          "base_uri": "https://localhost:8080/",
          "height": 204
        },
        "id": "jVdzwDQu_jDR",
        "outputId": "e8b6e1fa-2db6-4e05-9353-85bae7d81818"
      },
      "source": [
        "dfClassInfo.head()"
      ],
      "execution_count": 6,
      "outputs": [
        {
          "output_type": "execute_result",
          "data": {
            "text/html": [
              "<div>\n",
              "<style scoped>\n",
              "    .dataframe tbody tr th:only-of-type {\n",
              "        vertical-align: middle;\n",
              "    }\n",
              "\n",
              "    .dataframe tbody tr th {\n",
              "        vertical-align: top;\n",
              "    }\n",
              "\n",
              "    .dataframe thead th {\n",
              "        text-align: right;\n",
              "    }\n",
              "</style>\n",
              "<table border=\"1\" class=\"dataframe\">\n",
              "  <thead>\n",
              "    <tr style=\"text-align: right;\">\n",
              "      <th></th>\n",
              "      <th>patientId</th>\n",
              "      <th>class</th>\n",
              "    </tr>\n",
              "  </thead>\n",
              "  <tbody>\n",
              "    <tr>\n",
              "      <th>0</th>\n",
              "      <td>0004cfab-14fd-4e49-80ba-63a80b6bddd6</td>\n",
              "      <td>No Lung Opacity / Not Normal</td>\n",
              "    </tr>\n",
              "    <tr>\n",
              "      <th>1</th>\n",
              "      <td>00313ee0-9eaa-42f4-b0ab-c148ed3241cd</td>\n",
              "      <td>No Lung Opacity / Not Normal</td>\n",
              "    </tr>\n",
              "    <tr>\n",
              "      <th>2</th>\n",
              "      <td>00322d4d-1c29-4943-afc9-b6754be640eb</td>\n",
              "      <td>No Lung Opacity / Not Normal</td>\n",
              "    </tr>\n",
              "    <tr>\n",
              "      <th>3</th>\n",
              "      <td>003d8fa0-6bf1-40ed-b54c-ac657f8495c5</td>\n",
              "      <td>Normal</td>\n",
              "    </tr>\n",
              "    <tr>\n",
              "      <th>4</th>\n",
              "      <td>00436515-870c-4b36-a041-de91049b9ab4</td>\n",
              "      <td>Lung Opacity</td>\n",
              "    </tr>\n",
              "  </tbody>\n",
              "</table>\n",
              "</div>"
            ],
            "text/plain": [
              "                              patientId                         class\n",
              "0  0004cfab-14fd-4e49-80ba-63a80b6bddd6  No Lung Opacity / Not Normal\n",
              "1  00313ee0-9eaa-42f4-b0ab-c148ed3241cd  No Lung Opacity / Not Normal\n",
              "2  00322d4d-1c29-4943-afc9-b6754be640eb  No Lung Opacity / Not Normal\n",
              "3  003d8fa0-6bf1-40ed-b54c-ac657f8495c5                        Normal\n",
              "4  00436515-870c-4b36-a041-de91049b9ab4                  Lung Opacity"
            ]
          },
          "metadata": {
            "tags": []
          },
          "execution_count": 6
        }
      ]
    },
    {
      "cell_type": "code",
      "metadata": {
        "colab": {
          "base_uri": "https://localhost:8080/",
          "height": 204
        },
        "id": "vnuTi0zx_kwC",
        "outputId": "7febb60c-00fe-4122-9ab5-8db8d19e0bca"
      },
      "source": [
        "dfLabels.head()"
      ],
      "execution_count": 7,
      "outputs": [
        {
          "output_type": "execute_result",
          "data": {
            "text/html": [
              "<div>\n",
              "<style scoped>\n",
              "    .dataframe tbody tr th:only-of-type {\n",
              "        vertical-align: middle;\n",
              "    }\n",
              "\n",
              "    .dataframe tbody tr th {\n",
              "        vertical-align: top;\n",
              "    }\n",
              "\n",
              "    .dataframe thead th {\n",
              "        text-align: right;\n",
              "    }\n",
              "</style>\n",
              "<table border=\"1\" class=\"dataframe\">\n",
              "  <thead>\n",
              "    <tr style=\"text-align: right;\">\n",
              "      <th></th>\n",
              "      <th>patientId</th>\n",
              "      <th>x</th>\n",
              "      <th>y</th>\n",
              "      <th>width</th>\n",
              "      <th>height</th>\n",
              "      <th>Target</th>\n",
              "    </tr>\n",
              "  </thead>\n",
              "  <tbody>\n",
              "    <tr>\n",
              "      <th>0</th>\n",
              "      <td>0004cfab-14fd-4e49-80ba-63a80b6bddd6</td>\n",
              "      <td>NaN</td>\n",
              "      <td>NaN</td>\n",
              "      <td>NaN</td>\n",
              "      <td>NaN</td>\n",
              "      <td>0</td>\n",
              "    </tr>\n",
              "    <tr>\n",
              "      <th>1</th>\n",
              "      <td>00313ee0-9eaa-42f4-b0ab-c148ed3241cd</td>\n",
              "      <td>NaN</td>\n",
              "      <td>NaN</td>\n",
              "      <td>NaN</td>\n",
              "      <td>NaN</td>\n",
              "      <td>0</td>\n",
              "    </tr>\n",
              "    <tr>\n",
              "      <th>2</th>\n",
              "      <td>00322d4d-1c29-4943-afc9-b6754be640eb</td>\n",
              "      <td>NaN</td>\n",
              "      <td>NaN</td>\n",
              "      <td>NaN</td>\n",
              "      <td>NaN</td>\n",
              "      <td>0</td>\n",
              "    </tr>\n",
              "    <tr>\n",
              "      <th>3</th>\n",
              "      <td>003d8fa0-6bf1-40ed-b54c-ac657f8495c5</td>\n",
              "      <td>NaN</td>\n",
              "      <td>NaN</td>\n",
              "      <td>NaN</td>\n",
              "      <td>NaN</td>\n",
              "      <td>0</td>\n",
              "    </tr>\n",
              "    <tr>\n",
              "      <th>4</th>\n",
              "      <td>00436515-870c-4b36-a041-de91049b9ab4</td>\n",
              "      <td>264.0</td>\n",
              "      <td>152.0</td>\n",
              "      <td>213.0</td>\n",
              "      <td>379.0</td>\n",
              "      <td>1</td>\n",
              "    </tr>\n",
              "  </tbody>\n",
              "</table>\n",
              "</div>"
            ],
            "text/plain": [
              "                              patientId      x      y  width  height  Target\n",
              "0  0004cfab-14fd-4e49-80ba-63a80b6bddd6    NaN    NaN    NaN     NaN       0\n",
              "1  00313ee0-9eaa-42f4-b0ab-c148ed3241cd    NaN    NaN    NaN     NaN       0\n",
              "2  00322d4d-1c29-4943-afc9-b6754be640eb    NaN    NaN    NaN     NaN       0\n",
              "3  003d8fa0-6bf1-40ed-b54c-ac657f8495c5    NaN    NaN    NaN     NaN       0\n",
              "4  00436515-870c-4b36-a041-de91049b9ab4  264.0  152.0  213.0   379.0       1"
            ]
          },
          "metadata": {
            "tags": []
          },
          "execution_count": 7
        }
      ]
    },
    {
      "cell_type": "markdown",
      "metadata": {
        "id": "x31FIFNpGVQu"
      },
      "source": [
        "# EDA"
      ]
    },
    {
      "cell_type": "code",
      "metadata": {
        "colab": {
          "base_uri": "https://localhost:8080/"
        },
        "id": "WfMNKyDh_moS",
        "outputId": "8552d69d-f3ec-4ffb-c9f4-6589cb4e39d6"
      },
      "source": [
        "print('\\nColumns:\\n',dfClassInfo.columns)\n",
        "print('\\nData types:\\n',dfClassInfo.dtypes)\n",
        "print('\\nSize:\\n',dfClassInfo.size)\n",
        "print('\\nShape:\\n',dfClassInfo.shape)\n",
        "print('\\nNull checks:\\n',dfClassInfo.isnull().sum())\n",
        "print('\\nDescribe:\\n',dfClassInfo.describe().T)\n"
      ],
      "execution_count": 8,
      "outputs": [
        {
          "output_type": "stream",
          "text": [
            "\n",
            "Columns:\n",
            " Index(['patientId', 'class'], dtype='object')\n",
            "\n",
            "Data types:\n",
            " patientId    object\n",
            "class        object\n",
            "dtype: object\n",
            "\n",
            "Size:\n",
            " 60454\n",
            "\n",
            "Shape:\n",
            " (30227, 2)\n",
            "\n",
            "Null checks:\n",
            " patientId    0\n",
            "class        0\n",
            "dtype: int64\n",
            "\n",
            "Describe:\n",
            "            count unique                                   top   freq\n",
            "patientId  30227  26684  0e03c2d7-9cea-4dc7-8e91-794a8b3ff58d      4\n",
            "class      30227      3          No Lung Opacity / Not Normal  11821\n"
          ],
          "name": "stdout"
        }
      ]
    },
    {
      "cell_type": "code",
      "metadata": {
        "colab": {
          "base_uri": "https://localhost:8080/"
        },
        "id": "e_-oU7bx_oey",
        "outputId": "1ff4a775-de18-4be7-d24c-624709ea950d"
      },
      "source": [
        "print('\\nColumns:\\n',dfLabels.columns)\n",
        "print('\\nData types:\\n',dfLabels.dtypes)\n",
        "print('\\nSize:\\n',dfLabels.size)\n",
        "print('\\nShape:\\n',dfLabels.shape)\n",
        "print('\\nNull checks:\\n',dfLabels.isnull().sum())\n",
        "print('\\nDescribe:\\n',dfLabels.describe().T)\n"
      ],
      "execution_count": 9,
      "outputs": [
        {
          "output_type": "stream",
          "text": [
            "\n",
            "Columns:\n",
            " Index(['patientId', 'x', 'y', 'width', 'height', 'Target'], dtype='object')\n",
            "\n",
            "Data types:\n",
            " patientId     object\n",
            "x            float64\n",
            "y            float64\n",
            "width        float64\n",
            "height       float64\n",
            "Target         int64\n",
            "dtype: object\n",
            "\n",
            "Size:\n",
            " 181362\n",
            "\n",
            "Shape:\n",
            " (30227, 6)\n",
            "\n",
            "Null checks:\n",
            " patientId        0\n",
            "x            20672\n",
            "y            20672\n",
            "width        20672\n",
            "height       20672\n",
            "Target           0\n",
            "dtype: int64\n",
            "\n",
            "Describe:\n",
            "           count        mean         std   min    25%    50%    75%    max\n",
            "x        9555.0  394.047724  204.574172   2.0  207.0  324.0  594.0  835.0\n",
            "y        9555.0  366.839560  148.940488   2.0  249.0  365.0  478.5  881.0\n",
            "width    9555.0  218.471376   59.289475  40.0  177.0  217.0  259.0  528.0\n",
            "height   9555.0  329.269702  157.750755  45.0  203.0  298.0  438.0  942.0\n",
            "Target  30227.0    0.316108    0.464963   0.0    0.0    0.0    1.0    1.0\n"
          ],
          "name": "stdout"
        }
      ]
    },
    {
      "cell_type": "code",
      "metadata": {
        "colab": {
          "base_uri": "https://localhost:8080/",
          "height": 285
        },
        "id": "_hMV2vux_qry",
        "outputId": "7ba4e2c1-57d4-4414-e24e-3d8e50571a1d"
      },
      "source": [
        "sns.countplot(dfLabels['Target']);"
      ],
      "execution_count": 10,
      "outputs": [
        {
          "output_type": "display_data",
          "data": {
            "image/png": "[encoded data removed]",
            "text/plain": [
              "<Figure size 432x288 with 1 Axes>"
            ]
          },
          "metadata": {
            "tags": [],
            "needs_background": "light"
          }
        }
      ]
    },
    {
      "cell_type": "code",
      "metadata": {
        "colab": {
          "base_uri": "https://localhost:8080/"
        },
        "id": "2_ihG6eS_tay",
        "outputId": "1be9985c-a48c-4594-a3aa-c28568c879eb"
      },
      "source": [
        "dfLabels['Target'].value_counts()"
      ],
      "execution_count": 11,
      "outputs": [
        {
          "output_type": "execute_result",
          "data": {
            "text/plain": [
              "0    20672\n",
              "1     9555\n",
              "Name: Target, dtype: int64"
            ]
          },
          "metadata": {
            "tags": []
          },
          "execution_count": 11
        }
      ]
    },
    {
      "cell_type": "code",
      "metadata": {
        "colab": {
          "base_uri": "https://localhost:8080/",
          "height": 285
        },
        "id": "QTc_Jsh2_vGi",
        "outputId": "106f829c-edeb-4cf6-eb0a-0aa4e3ccc8fe"
      },
      "source": [
        "sns.countplot(dfClassInfo['class']);"
      ],
      "execution_count": 12,
      "outputs": [
        {
          "output_type": "display_data",
          "data": {
            "image/png": "[encoded data removed]",
            "text/plain": [
              "<Figure size 432x288 with 1 Axes>"
            ]
          },
          "metadata": {
            "tags": [],
            "needs_background": "light"
          }
        }
      ]
    },
    {
      "cell_type": "markdown",
      "metadata": {
        "id": "7NKqpzS-Ga5e"
      },
      "source": [
        "There are three different classes, two of them can be merged together"
      ]
    },
    {
      "cell_type": "code",
      "metadata": {
        "colab": {
          "base_uri": "https://localhost:8080/"
        },
        "id": "UgDu9HHY_wey",
        "outputId": "9159b28b-21b3-4150-9d7b-d5cc181929a3"
      },
      "source": [
        "dfClassInfo['class'].value_counts()"
      ],
      "execution_count": 13,
      "outputs": [
        {
          "output_type": "execute_result",
          "data": {
            "text/plain": [
              "No Lung Opacity / Not Normal    11821\n",
              "Lung Opacity                     9555\n",
              "Normal                           8851\n",
              "Name: class, dtype: int64"
            ]
          },
          "metadata": {
            "tags": []
          },
          "execution_count": 13
        }
      ]
    },
    {
      "cell_type": "code",
      "metadata": {
        "id": "cDBv49dtAGa6"
      },
      "source": [
        "import os\n",
        "import shutil"
      ],
      "execution_count": 15,
      "outputs": []
    },
    {
      "cell_type": "code",
      "metadata": {
        "id": "WTy8wndB_x9i"
      },
      "source": [
        "os.rename('/content/dataset/stage_2_test_images','/content/dataset/test')\n",
        "os.rename('/content/dataset/stage_2_train_images','/content/dataset/train')"
      ],
      "execution_count": 16,
      "outputs": []
    },
    {
      "cell_type": "markdown",
      "metadata": {
        "id": "jX_JM2jyGiT1"
      },
      "source": [
        "Installing pudicom"
      ]
    },
    {
      "cell_type": "code",
      "metadata": {
        "colab": {
          "base_uri": "https://localhost:8080/"
        },
        "id": "MmrpQTozAFYg",
        "outputId": "5c9aaf28-30dc-4704-ed27-412c62a75bd0"
      },
      "source": [
        "!pip install pydicom\n",
        "import pydicom\n",
        "from pydicom import dcmread"
      ],
      "execution_count": 17,
      "outputs": [
        {
          "output_type": "stream",
          "text": [
            "Collecting pydicom\n",
            "  Downloading pydicom-2.1.2-py3-none-any.whl (1.9 MB)\n",
            "\u001b[?25l\r\u001b[K     |▏                               | 10 kB 31.1 MB/s eta 0:00:01\r\u001b[K     |▍                               | 20 kB 38.9 MB/s eta 0:00:01\r\u001b[K     |▌                               | 30 kB 24.3 MB/s eta 0:00:01\r\u001b[K     |▊                               | 40 kB 18.7 MB/s eta 0:00:01\r\u001b[K     |▉                               | 51 kB 16.0 MB/s eta 0:00:01\r\u001b[K     |█                               | 61 kB 18.4 MB/s eta 0:00:01\r\u001b[K     |█▏                              | 71 kB 14.1 MB/s eta 0:00:01\r\u001b[K     |█▍                              | 81 kB 15.1 MB/s eta 0:00:01\r\u001b[K     |█▋                              | 92 kB 13.2 MB/s eta 0:00:01\r\u001b[K     |█▊                              | 102 kB 13.9 MB/s eta 0:00:01\r\u001b[K     |██                              | 112 kB 13.9 MB/s eta 0:00:01\r\u001b[K     |██                              | 122 kB 13.9 MB/s eta 0:00:01\r\u001b[K     |██▎                             | 133 kB 13.9 MB/s eta 0:00:01\r\u001b[K     |██▍                             | 143 kB 13.9 MB/s eta 0:00:01\r\u001b[K     |██▋                             | 153 kB 13.9 MB/s eta 0:00:01\r\u001b[K     |██▉                             | 163 kB 13.9 MB/s eta 0:00:01\r\u001b[K     |███                             | 174 kB 13.9 MB/s eta 0:00:01\r\u001b[K     |███▏                            | 184 kB 13.9 MB/s eta 0:00:01\r\u001b[K     |███▎                            | 194 kB 13.9 MB/s eta 0:00:01\r\u001b[K     |███▌                            | 204 kB 13.9 MB/s eta 0:00:01\r\u001b[K     |███▋                            | 215 kB 13.9 MB/s eta 0:00:01\r\u001b[K     |███▉                            | 225 kB 13.9 MB/s eta 0:00:01\r\u001b[K     |████                            | 235 kB 13.9 MB/s eta 0:00:01\r\u001b[K     |████▏                           | 245 kB 13.9 MB/s eta 0:00:01\r\u001b[K     |████▍                           | 256 kB 13.9 MB/s eta 0:00:01\r\u001b[K     |████▌                           | 266 kB 13.9 MB/s eta 0:00:01\r\u001b[K     |████▊                           | 276 kB 13.9 MB/s eta 0:00:01\r\u001b[K     |████▉                           | 286 kB 13.9 MB/s eta 0:00:01\r\u001b[K     |█████                           | 296 kB 13.9 MB/s eta 0:00:01\r\u001b[K     |█████▎                          | 307 kB 13.9 MB/s eta 0:00:01\r\u001b[K     |█████▍                          | 317 kB 13.9 MB/s eta 0:00:01\r\u001b[K     |█████▋                          | 327 kB 13.9 MB/s eta 0:00:01\r\u001b[K     |█████▊                          | 337 kB 13.9 MB/s eta 0:00:01\r\u001b[K     |██████                          | 348 kB 13.9 MB/s eta 0:00:01\r\u001b[K     |██████                          | 358 kB 13.9 MB/s eta 0:00:01\r\u001b[K     |██████▎                         | 368 kB 13.9 MB/s eta 0:00:01\r\u001b[K     |██████▌                         | 378 kB 13.9 MB/s eta 0:00:01\r\u001b[K     |██████▋                         | 389 kB 13.9 MB/s eta 0:00:01\r\u001b[K     |██████▉                         | 399 kB 13.9 MB/s eta 0:00:01\r\u001b[K     |███████                         | 409 kB 13.9 MB/s eta 0:00:01\r\u001b[K     |███████▏                        | 419 kB 13.9 MB/s eta 0:00:01\r\u001b[K     |███████▎                        | 430 kB 13.9 MB/s eta 0:00:01\r\u001b[K     |███████▌                        | 440 kB 13.9 MB/s eta 0:00:01\r\u001b[K     |███████▊                        | 450 kB 13.9 MB/s eta 0:00:01\r\u001b[K     |███████▉                        | 460 kB 13.9 MB/s eta 0:00:01\r\u001b[K     |████████                        | 471 kB 13.9 MB/s eta 0:00:01\r\u001b[K     |████████▏                       | 481 kB 13.9 MB/s eta 0:00:01\r\u001b[K     |████████▍                       | 491 kB 13.9 MB/s eta 0:00:01\r\u001b[K     |████████▌                       | 501 kB 13.9 MB/s eta 0:00:01\r\u001b[K     |████████▊                       | 512 kB 13.9 MB/s eta 0:00:01\r\u001b[K     |█████████                       | 522 kB 13.9 MB/s eta 0:00:01\r\u001b[K     |█████████                       | 532 kB 13.9 MB/s eta 0:00:01\r\u001b[K     |█████████▎                      | 542 kB 13.9 MB/s eta 0:00:01\r\u001b[K     |█████████▍                      | 552 kB 13.9 MB/s eta 0:00:01\r\u001b[K     |█████████▋                      | 563 kB 13.9 MB/s eta 0:00:01\r\u001b[K     |█████████▊                      | 573 kB 13.9 MB/s eta 0:00:01\r\u001b[K     |██████████                      | 583 kB 13.9 MB/s eta 0:00:01\r\u001b[K     |██████████▏                     | 593 kB 13.9 MB/s eta 0:00:01\r\u001b[K     |██████████▎                     | 604 kB 13.9 MB/s eta 0:00:01\r\u001b[K     |██████████▌                     | 614 kB 13.9 MB/s eta 0:00:01\r\u001b[K     |██████████▋                     | 624 kB 13.9 MB/s eta 0:00:01\r\u001b[K     |██████████▉                     | 634 kB 13.9 MB/s eta 0:00:01\r\u001b[K     |███████████                     | 645 kB 13.9 MB/s eta 0:00:01\r\u001b[K     |███████████▏                    | 655 kB 13.9 MB/s eta 0:00:01\r\u001b[K     |███████████▍                    | 665 kB 13.9 MB/s eta 0:00:01\r\u001b[K     |███████████▌                    | 675 kB 13.9 MB/s eta 0:00:01\r\u001b[K     |███████████▊                    | 686 kB 13.9 MB/s eta 0:00:01\r\u001b[K     |███████████▉                    | 696 kB 13.9 MB/s eta 0:00:01\r\u001b[K     |████████████                    | 706 kB 13.9 MB/s eta 0:00:01\r\u001b[K     |████████████▏                   | 716 kB 13.9 MB/s eta 0:00:01\r\u001b[K     |████████████▍                   | 727 kB 13.9 MB/s eta 0:00:01\r\u001b[K     |████████████▋                   | 737 kB 13.9 MB/s eta 0:00:01\r\u001b[K     |████████████▊                   | 747 kB 13.9 MB/s eta 0:00:01\r\u001b[K     |█████████████                   | 757 kB 13.9 MB/s eta 0:00:01\r\u001b[K     |█████████████                   | 768 kB 13.9 MB/s eta 0:00:01\r\u001b[K     |█████████████▎                  | 778 kB 13.9 MB/s eta 0:00:01\r\u001b[K     |█████████████▍                  | 788 kB 13.9 MB/s eta 0:00:01\r\u001b[K     |█████████████▋                  | 798 kB 13.9 MB/s eta 0:00:01\r\u001b[K     |█████████████▉                  | 808 kB 13.9 MB/s eta 0:00:01\r\u001b[K     |██████████████                  | 819 kB 13.9 MB/s eta 0:00:01\r\u001b[K     |██████████████▏                 | 829 kB 13.9 MB/s eta 0:00:01\r\u001b[K     |██████████████▎                 | 839 kB 13.9 MB/s eta 0:00:01\r\u001b[K     |██████████████▌                 | 849 kB 13.9 MB/s eta 0:00:01\r\u001b[K     |██████████████▋                 | 860 kB 13.9 MB/s eta 0:00:01\r\u001b[K     |██████████████▉                 | 870 kB 13.9 MB/s eta 0:00:01\r\u001b[K     |███████████████                 | 880 kB 13.9 MB/s eta 0:00:01\r\u001b[K     |███████████████▏                | 890 kB 13.9 MB/s eta 0:00:01\r\u001b[K     |███████████████▍                | 901 kB 13.9 MB/s eta 0:00:01\r\u001b[K     |███████████████▌                | 911 kB 13.9 MB/s eta 0:00:01\r\u001b[K     |███████████████▊                | 921 kB 13.9 MB/s eta 0:00:01\r\u001b[K     |███████████████▉                | 931 kB 13.9 MB/s eta 0:00:01\r\u001b[K     |████████████████                | 942 kB 13.9 MB/s eta 0:00:01\r\u001b[K     |████████████████▎               | 952 kB 13.9 MB/s eta 0:00:01\r\u001b[K     |████████████████▍               | 962 kB 13.9 MB/s eta 0:00:01\r\u001b[K     |████████████████▋               | 972 kB 13.9 MB/s eta 0:00:01\r\u001b[K     |████████████████▊               | 983 kB 13.9 MB/s eta 0:00:01\r\u001b[K     |█████████████████               | 993 kB 13.9 MB/s eta 0:00:01\r\u001b[K     |█████████████████               | 1.0 MB 13.9 MB/s eta 0:00:01\r\u001b[K     |█████████████████▎              | 1.0 MB 13.9 MB/s eta 0:00:01\r\u001b[K     |█████████████████▌              | 1.0 MB 13.9 MB/s eta 0:00:01\r\u001b[K     |█████████████████▋              | 1.0 MB 13.9 MB/s eta 0:00:01\r\u001b[K     |█████████████████▉              | 1.0 MB 13.9 MB/s eta 0:00:01\r\u001b[K     |██████████████████              | 1.1 MB 13.9 MB/s eta 0:00:01\r\u001b[K     |██████████████████▏             | 1.1 MB 13.9 MB/s eta 0:00:01\r\u001b[K     |██████████████████▎             | 1.1 MB 13.9 MB/s eta 0:00:01\r\u001b[K     |██████████████████▌             | 1.1 MB 13.9 MB/s eta 0:00:01\r\u001b[K     |██████████████████▊             | 1.1 MB 13.9 MB/s eta 0:00:01\r\u001b[K     |██████████████████▉             | 1.1 MB 13.9 MB/s eta 0:00:01\r\u001b[K     |███████████████████             | 1.1 MB 13.9 MB/s eta 0:00:01\r\u001b[K     |███████████████████▏            | 1.1 MB 13.9 MB/s eta 0:00:01\r\u001b[K     |███████████████████▍            | 1.1 MB 13.9 MB/s eta 0:00:01\r\u001b[K     |███████████████████▌            | 1.1 MB 13.9 MB/s eta 0:00:01\r\u001b[K     |███████████████████▊            | 1.2 MB 13.9 MB/s eta 0:00:01\r\u001b[K     |████████████████████            | 1.2 MB 13.9 MB/s eta 0:00:01\r\u001b[K     |████████████████████            | 1.2 MB 13.9 MB/s eta 0:00:01\r\u001b[K     |████████████████████▎           | 1.2 MB 13.9 MB/s eta 0:00:01\r\u001b[K     |████████████████████▍           | 1.2 MB 13.9 MB/s eta 0:00:01\r\u001b[K     |████████████████████▋           | 1.2 MB 13.9 MB/s eta 0:00:01\r\u001b[K     |████████████████████▊           | 1.2 MB 13.9 MB/s eta 0:00:01\r\u001b[K     |█████████████████████           | 1.2 MB 13.9 MB/s eta 0:00:01\r\u001b[K     |█████████████████████▏          | 1.2 MB 13.9 MB/s eta 0:00:01\r\u001b[K     |█████████████████████▎          | 1.2 MB 13.9 MB/s eta 0:00:01\r\u001b[K     |█████████████████████▌          | 1.3 MB 13.9 MB/s eta 0:00:01\r\u001b[K     |█████████████████████▋          | 1.3 MB 13.9 MB/s eta 0:00:01\r\u001b[K     |█████████████████████▉          | 1.3 MB 13.9 MB/s eta 0:00:01\r\u001b[K     |██████████████████████          | 1.3 MB 13.9 MB/s eta 0:00:01\r\u001b[K     |██████████████████████▏         | 1.3 MB 13.9 MB/s eta 0:00:01\r\u001b[K     |██████████████████████▍         | 1.3 MB 13.9 MB/s eta 0:00:01\r\u001b[K     |██████████████████████▌         | 1.3 MB 13.9 MB/s eta 0:00:01\r\u001b[K     |██████████████████████▊         | 1.3 MB 13.9 MB/s eta 0:00:01\r\u001b[K     |██████████████████████▉         | 1.3 MB 13.9 MB/s eta 0:00:01\r\u001b[K     |███████████████████████         | 1.4 MB 13.9 MB/s eta 0:00:01\r\u001b[K     |███████████████████████▏        | 1.4 MB 13.9 MB/s eta 0:00:01\r\u001b[K     |███████████████████████▍        | 1.4 MB 13.9 MB/s eta 0:00:01\r\u001b[K     |███████████████████████▋        | 1.4 MB 13.9 MB/s eta 0:00:01\r\u001b[K     |███████████████████████▊        | 1.4 MB 13.9 MB/s eta 0:00:01\r\u001b[K     |████████████████████████        | 1.4 MB 13.9 MB/s eta 0:00:01\r\u001b[K     |████████████████████████        | 1.4 MB 13.9 MB/s eta 0:00:01\r\u001b[K     |████████████████████████▎       | 1.4 MB 13.9 MB/s eta 0:00:01\r\u001b[K     |████████████████████████▍       | 1.4 MB 13.9 MB/s eta 0:00:01\r\u001b[K     |████████████████████████▋       | 1.4 MB 13.9 MB/s eta 0:00:01\r\u001b[K     |████████████████████████▉       | 1.5 MB 13.9 MB/s eta 0:00:01\r\u001b[K     |█████████████████████████       | 1.5 MB 13.9 MB/s eta 0:00:01\r\u001b[K     |█████████████████████████▏      | 1.5 MB 13.9 MB/s eta 0:00:01\r\u001b[K     |█████████████████████████▎      | 1.5 MB 13.9 MB/s eta 0:00:01\r\u001b[K     |█████████████████████████▌      | 1.5 MB 13.9 MB/s eta 0:00:01\r\u001b[K     |█████████████████████████▋      | 1.5 MB 13.9 MB/s eta 0:00:01\r\u001b[K     |█████████████████████████▉      | 1.5 MB 13.9 MB/s eta 0:00:01\r\u001b[K     |██████████████████████████      | 1.5 MB 13.9 MB/s eta 0:00:01\r\u001b[K     |██████████████████████████▏     | 1.5 MB 13.9 MB/s eta 0:00:01\r\u001b[K     |██████████████████████████▍     | 1.5 MB 13.9 MB/s eta 0:00:01\r\u001b[K     |██████████████████████████▌     | 1.6 MB 13.9 MB/s eta 0:00:01\r\u001b[K     |██████████████████████████▊     | 1.6 MB 13.9 MB/s eta 0:00:01\r\u001b[K     |██████████████████████████▉     | 1.6 MB 13.9 MB/s eta 0:00:01\r\u001b[K     |███████████████████████████     | 1.6 MB 13.9 MB/s eta 0:00:01\r\u001b[K     |███████████████████████████▎    | 1.6 MB 13.9 MB/s eta 0:00:01\r\u001b[K     |███████████████████████████▍    | 1.6 MB 13.9 MB/s eta 0:00:01\r\u001b[K     |███████████████████████████▋    | 1.6 MB 13.9 MB/s eta 0:00:01\r\u001b[K     |███████████████████████████▊    | 1.6 MB 13.9 MB/s eta 0:00:01\r\u001b[K     |████████████████████████████    | 1.6 MB 13.9 MB/s eta 0:00:01\r\u001b[K     |████████████████████████████    | 1.6 MB 13.9 MB/s eta 0:00:01\r\u001b[K     |████████████████████████████▎   | 1.7 MB 13.9 MB/s eta 0:00:01\r\u001b[K     |████████████████████████████▌   | 1.7 MB 13.9 MB/s eta 0:00:01\r\u001b[K     |████████████████████████████▋   | 1.7 MB 13.9 MB/s eta 0:00:01\r\u001b[K     |████████████████████████████▉   | 1.7 MB 13.9 MB/s eta 0:00:01\r\u001b[K     |█████████████████████████████   | 1.7 MB 13.9 MB/s eta 0:00:01\r\u001b[K     |█████████████████████████████▏  | 1.7 MB 13.9 MB/s eta 0:00:01\r\u001b[K     |█████████████████████████████▎  | 1.7 MB 13.9 MB/s eta 0:00:01\r\u001b[K     |█████████████████████████████▌  | 1.7 MB 13.9 MB/s eta 0:00:01\r\u001b[K     |█████████████████████████████▊  | 1.7 MB 13.9 MB/s eta 0:00:01\r\u001b[K     |█████████████████████████████▉  | 1.8 MB 13.9 MB/s eta 0:00:01\r\u001b[K     |██████████████████████████████  | 1.8 MB 13.9 MB/s eta 0:00:01\r\u001b[K     |██████████████████████████████▏ | 1.8 MB 13.9 MB/s eta 0:00:01\r\u001b[K     |██████████████████████████████▍ | 1.8 MB 13.9 MB/s eta 0:00:01\r\u001b[K     |██████████████████████████████▌ | 1.8 MB 13.9 MB/s eta 0:00:01\r\u001b[K     |██████████████████████████████▊ | 1.8 MB 13.9 MB/s eta 0:00:01\r\u001b[K     |███████████████████████████████ | 1.8 MB 13.9 MB/s eta 0:00:01\r\u001b[K     |███████████████████████████████ | 1.8 MB 13.9 MB/s eta 0:00:01\r\u001b[K     |███████████████████████████████▎| 1.8 MB 13.9 MB/s eta 0:00:01\r\u001b[K     |███████████████████████████████▍| 1.8 MB 13.9 MB/s eta 0:00:01\r\u001b[K     |███████████████████████████████▋| 1.9 MB 13.9 MB/s eta 0:00:01\r\u001b[K     |███████████████████████████████▊| 1.9 MB 13.9 MB/s eta 0:00:01\r\u001b[K     |████████████████████████████████| 1.9 MB 13.9 MB/s eta 0:00:01\r\u001b[K     |████████████████████████████████| 1.9 MB 13.9 MB/s \n",
            "\u001b[?25hInstalling collected packages: pydicom\n",
            "Successfully installed pydicom-2.1.2\n",
            "\u001b[33mWARNING: Running pip as root will break packages and permissions. You should install packages reliably by using venv: https://pip.pypa.io/warnings/venv\u001b[0m\n"
          ],
          "name": "stdout"
        }
      ]
    },
    {
      "cell_type": "markdown",
      "metadata": {
        "id": "mm3UG987GmHV"
      },
      "source": [
        "# Sample Image"
      ]
    },
    {
      "cell_type": "code",
      "metadata": {
        "colab": {
          "base_uri": "https://localhost:8080/",
          "height": 272
        },
        "id": "sBDfH4B6AMTy",
        "outputId": "d1a29b77-5c88-462b-ac80-dd584e8280a7"
      },
      "source": [
        "file1 = '/content/dataset/test/001b0c51-c7b3-45c1-9c17-fa7594cab96e.dcm'\n",
        "img = dcmread(file1)\n",
        "plt.imshow(img.pixel_array);"
      ],
      "execution_count": 18,
      "outputs": [
        {
          "output_type": "display_data",
          "data": {
            "image/png": "[encoded data removed]",
            "text/plain": [
              "<Figure size 432x288 with 1 Axes>"
            ]
          },
          "metadata": {
            "tags": [],
            "needs_background": "light"
          }
        }
      ]
    },
    {
      "cell_type": "code",
      "metadata": {
        "colab": {
          "base_uri": "https://localhost:8080/"
        },
        "id": "8Obl895lARXC",
        "outputId": "3ab50b27-1757-462f-d5f7-55fbfcf784c5"
      },
      "source": [
        "img.pixel_array.shape"
      ],
      "execution_count": 19,
      "outputs": [
        {
          "output_type": "execute_result",
          "data": {
            "text/plain": [
              "(1024, 1024)"
            ]
          },
          "metadata": {
            "tags": []
          },
          "execution_count": 19
        }
      ]
    },
    {
      "cell_type": "markdown",
      "metadata": {
        "id": "4EE8GM1vGpVB"
      },
      "source": [
        "# Keys available in DICOM file"
      ]
    },
    {
      "cell_type": "code",
      "metadata": {
        "colab": {
          "base_uri": "https://localhost:8080/"
        },
        "id": "IhUzgKHtATvS",
        "outputId": "762102c2-98eb-429c-fbb5-678342ae82e4"
      },
      "source": [
        "img.keys"
      ],
      "execution_count": 20,
      "outputs": [
        {
          "output_type": "execute_result",
          "data": {
            "text/plain": [
              "<bound method Dataset.keys of Dataset.file_meta -------------------------------\n",
              "(0002, 0000) File Meta Information Group Length  UL: 202\n",
              "(0002, 0001) File Meta Information Version       OB: b'\\x00\\x01'\n",
              "(0002, 0002) Media Storage SOP Class UID         UI: Secondary Capture Image Storage\n",
              "(0002, 0003) Media Storage SOP Instance UID      UI: 1.2.276.0.7230010.3.1.4.8323329.24455.1517874454.556022\n",
              "(0002, 0010) Transfer Syntax UID                 UI: JPEG Baseline (Process 1)\n",
              "(0002, 0012) Implementation Class UID            UI: 1.2.276.0.7230010.3.0.3.6.0\n",
              "(0002, 0013) Implementation Version Name         SH: 'OFFIS_DCMTK_360'\n",
              "-------------------------------------------------\n",
              "(0008, 0005) Specific Character Set              CS: 'ISO_IR 100'\n",
              "(0008, 0016) SOP Class UID                       UI: Secondary Capture Image Storage\n",
              "(0008, 0018) SOP Instance UID                    UI: 1.2.276.0.7230010.3.1.4.8323329.24455.1517874454.556022\n",
              "(0008, 0020) Study Date                          DA: '19010101'\n",
              "(0008, 0030) Study Time                          TM: '000000.00'\n",
              "(0008, 0050) Accession Number                    SH: ''\n",
              "(0008, 0060) Modality                            CS: 'CR'\n",
              "(0008, 0064) Conversion Type                     CS: 'WSD'\n",
              "(0008, 0090) Referring Physician's Name          PN: ''\n",
              "(0008, 103e) Series Description                  LO: 'view: PA'\n",
              "(0010, 0010) Patient's Name                      PN: '001b0c51-c7b3-45c1-9c17-fa7594cab96e'\n",
              "(0010, 0020) Patient ID                          LO: '001b0c51-c7b3-45c1-9c17-fa7594cab96e'\n",
              "(0010, 0030) Patient's Birth Date                DA: ''\n",
              "(0010, 0040) Patient's Sex                       CS: 'M'\n",
              "(0010, 1010) Patient's Age                       AS: '47'\n",
              "(0018, 0015) Body Part Examined                  CS: 'CHEST'\n",
              "(0018, 5101) View Position                       CS: 'PA'\n",
              "(0020, 000d) Study Instance UID                  UI: 1.2.276.0.7230010.3.1.2.8323329.24455.1517874454.556021\n",
              "(0020, 000e) Series Instance UID                 UI: 1.2.276.0.7230010.3.1.3.8323329.24455.1517874454.556020\n",
              "(0020, 0010) Study ID                            SH: ''\n",
              "(0020, 0011) Series Number                       IS: \"1\"\n",
              "(0020, 0013) Instance Number                     IS: \"1\"\n",
              "(0020, 0020) Patient Orientation                 CS: ''\n",
              "(0028, 0002) Samples per Pixel                   US: 1\n",
              "(0028, 0004) Photometric Interpretation          CS: 'MONOCHROME2'\n",
              "(0028, 0010) Rows                                US: 1024\n",
              "(0028, 0011) Columns                             US: 1024\n",
              "(0028, 0030) Pixel Spacing                       DS: [0.14300000000000002, 0.14300000000000002]\n",
              "(0028, 0100) Bits Allocated                      US: 8\n",
              "(0028, 0101) Bits Stored                         US: 8\n",
              "(0028, 0102) High Bit                            US: 7\n",
              "(0028, 0103) Pixel Representation                US: 0\n",
              "(0028, 2110) Lossy Image Compression             CS: '01'\n",
              "(0028, 2114) Lossy Image Compression Method      CS: 'ISO_10918_1'\n",
              "(7fe0, 0010) Pixel Data                          OB: Array of 155350 elements>"
            ]
          },
          "metadata": {
            "tags": []
          },
          "execution_count": 20
        }
      ]
    },
    {
      "cell_type": "code",
      "metadata": {
        "id": "_rvSGz1UAVTi"
      },
      "source": [
        "testFiles = os.listdir('/content/dataset/test')\n",
        "trainFiles = os.listdir('/content/dataset/train')"
      ],
      "execution_count": 21,
      "outputs": []
    },
    {
      "cell_type": "markdown",
      "metadata": {
        "id": "Rf2SWIqVGuIG"
      },
      "source": [
        "# Age and Sex are the significant properties in DICOM file"
      ]
    },
    {
      "cell_type": "code",
      "metadata": {
        "id": "XET7TDU8AblS"
      },
      "source": [
        "data = {}\n",
        "dfTrainData = pd.DataFrame(data, columns=['PatientID','Age', 'Sex'])\n",
        "\n",
        "data1 = {}\n",
        "dfTestData = pd.DataFrame(data1, columns=['PatientID','Age', 'Sex'])"
      ],
      "execution_count": 22,
      "outputs": []
    },
    {
      "cell_type": "code",
      "metadata": {
        "colab": {
          "base_uri": "https://localhost:8080/"
        },
        "id": "apkyeU3rAeRi",
        "outputId": "bdb15614-1835-46e0-da76-95336b91cce0"
      },
      "source": [
        "datasetFolder = '/content/dataset/'\n",
        "\n",
        "i = 0\n",
        "for file in trainFiles:\n",
        "  img = dcmread(datasetFolder + 'train/' + file)\n",
        "  dfTrainData.loc[i] = [img.PatientID, img.PatientAge, img.PatientSex]\n",
        "  i = i + 1\n",
        "  if (i % 1000 == 0):\n",
        "    print(i, ' train files completed')\n",
        "\n",
        "i = 0\n",
        "for file in testFiles:\n",
        "  img = dcmread(datasetFolder + 'test/' + file)\n",
        "  dfTestData.loc[i] = [img.PatientID, img.PatientAge, img.PatientSex]\n",
        "  i = i + 1\n",
        "  if (i % 1000 == 0):\n",
        "    print(i, 'test files completed')"
      ],
      "execution_count": 23,
      "outputs": [
        {
          "output_type": "stream",
          "text": [
            "1000  train files completed\n",
            "2000  train files completed\n",
            "3000  train files completed\n",
            "4000  train files completed\n",
            "5000  train files completed\n",
            "6000  train files completed\n",
            "7000  train files completed\n",
            "8000  train files completed\n",
            "9000  train files completed\n",
            "10000  train files completed\n",
            "11000  train files completed\n",
            "12000  train files completed\n",
            "13000  train files completed\n",
            "14000  train files completed\n",
            "15000  train files completed\n",
            "16000  train files completed\n",
            "17000  train files completed\n",
            "18000  train files completed\n",
            "19000  train files completed\n",
            "20000  train files completed\n",
            "21000  train files completed\n",
            "22000  train files completed\n",
            "23000  train files completed\n",
            "24000  train files completed\n",
            "25000  train files completed\n",
            "26000  train files completed\n",
            "1000 test files completed\n",
            "2000 test files completed\n",
            "3000 test files completed\n"
          ],
          "name": "stdout"
        }
      ]
    },
    {
      "cell_type": "code",
      "metadata": {
        "colab": {
          "base_uri": "https://localhost:8080/"
        },
        "id": "rFfqA-pnAnLy",
        "outputId": "faa0bbc8-e279-46e6-ae7f-83abb49a142b"
      },
      "source": [
        "dfTrainData.shape, dfTestData.shape"
      ],
      "execution_count": 24,
      "outputs": [
        {
          "output_type": "execute_result",
          "data": {
            "text/plain": [
              "((26684, 3), (3000, 3))"
            ]
          },
          "metadata": {
            "tags": []
          },
          "execution_count": 24
        }
      ]
    },
    {
      "cell_type": "markdown",
      "metadata": {
        "id": "Z6XxKojBG2XN"
      },
      "source": [
        "# Distribution of Age"
      ]
    },
    {
      "cell_type": "code",
      "metadata": {
        "colab": {
          "base_uri": "https://localhost:8080/",
          "height": 285
        },
        "id": "WH805hnJBGZS",
        "outputId": "b2a454b9-8846-45a9-c436-7788e4b25ce1"
      },
      "source": [
        "sns.distplot(dfTrainData['Age'], kde=False, rug=True);"
      ],
      "execution_count": 25,
      "outputs": [
        {
          "output_type": "display_data",
          "data": {
            "image/png": "[encoded data removed]",
            "text/plain": [
              "<Figure size 432x288 with 1 Axes>"
            ]
          },
          "metadata": {
            "tags": [],
            "needs_background": "light"
          }
        }
      ]
    },
    {
      "cell_type": "markdown",
      "metadata": {
        "id": "kpi08hi4G5iL"
      },
      "source": [
        "There are some age more than 100"
      ]
    },
    {
      "cell_type": "code",
      "metadata": {
        "colab": {
          "base_uri": "https://localhost:8080/",
          "height": 302
        },
        "id": "qclwkK5EBIcD",
        "outputId": "92894caa-b2a1-48b1-b119-a27282727824"
      },
      "source": [
        "sns.countplot(dfTrainData['Sex'])"
      ],
      "execution_count": 65,
      "outputs": [
        {
          "output_type": "execute_result",
          "data": {
            "text/plain": [
              "<matplotlib.axes._subplots.AxesSubplot at 0x7f2a7cefc9d0>"
            ]
          },
          "metadata": {
            "tags": []
          },
          "execution_count": 65
        },
        {
          "output_type": "display_data",
          "data": {
            "image/png": "[encoded data removed]",
            "text/plain": [
              "<Figure size 432x288 with 1 Axes>"
            ]
          },
          "metadata": {
            "tags": [],
            "needs_background": "light"
          }
        }
      ]
    },
    {
      "cell_type": "code",
      "metadata": {
        "colab": {
          "base_uri": "https://localhost:8080/"
        },
        "id": "mvkqJ4SFBKOC",
        "outputId": "229ad586-b14e-4207-c666-95d564395656"
      },
      "source": [
        "dfClassInfo['class'].value_counts()"
      ],
      "execution_count": 27,
      "outputs": [
        {
          "output_type": "execute_result",
          "data": {
            "text/plain": [
              "No Lung Opacity / Not Normal    11821\n",
              "Lung Opacity                     9555\n",
              "Normal                           8851\n",
              "Name: class, dtype: int64"
            ]
          },
          "metadata": {
            "tags": []
          },
          "execution_count": 27
        }
      ]
    },
    {
      "cell_type": "code",
      "metadata": {
        "colab": {
          "base_uri": "https://localhost:8080/"
        },
        "id": "QbyVejcUBL-B",
        "outputId": "c1558d65-5ce2-47d1-f2c0-0b95f20183bf"
      },
      "source": [
        "dfLabels['Target'].value_counts()"
      ],
      "execution_count": 28,
      "outputs": [
        {
          "output_type": "execute_result",
          "data": {
            "text/plain": [
              "0    20672\n",
              "1     9555\n",
              "Name: Target, dtype: int64"
            ]
          },
          "metadata": {
            "tags": []
          },
          "execution_count": 28
        }
      ]
    },
    {
      "cell_type": "markdown",
      "metadata": {
        "id": "0nFcZydAIP-e"
      },
      "source": [
        "Merging the unwanted class as Normal"
      ]
    },
    {
      "cell_type": "code",
      "metadata": {
        "id": "af5LBv8sBNqj"
      },
      "source": [
        "dfClassInfo['class'].replace({'No Lung Opacity / Not Normal': 'Normal'}, inplace=True)\n"
      ],
      "execution_count": 29,
      "outputs": []
    },
    {
      "cell_type": "code",
      "metadata": {
        "colab": {
          "base_uri": "https://localhost:8080/"
        },
        "id": "BFnRrHvmBPXz",
        "outputId": "31c52e8b-d140-476b-d791-1dd09e3f0d3d"
      },
      "source": [
        "dfClassInfo['class'].value_counts()"
      ],
      "execution_count": 30,
      "outputs": [
        {
          "output_type": "execute_result",
          "data": {
            "text/plain": [
              "Normal          20672\n",
              "Lung Opacity     9555\n",
              "Name: class, dtype: int64"
            ]
          },
          "metadata": {
            "tags": []
          },
          "execution_count": 30
        }
      ]
    },
    {
      "cell_type": "code",
      "metadata": {
        "id": "dMmFN9uOBQ7y"
      },
      "source": [
        "def getXandY(patientId):\n",
        "  fileName = patientId +'.dcm'\n",
        "  absolutePathTrain = datasetFolder + 'train/' + fileName\n",
        "  absolutePathTest = datasetFolder + 'test/' + fileName\n",
        "  if (os.path.isfile(absolutePathTrain) == True):\n",
        "    img = dcmread(absolutePathTrain)\n",
        "    X,Y = img.pixel_array.shape\n",
        "  elif (os.path.isfile(absolutePathTest) == True):\n",
        "    img = dcmread(absolutePathTest)\n",
        "    X,Y = img.pixel_array.shape\n",
        "  else: \n",
        "    X,Y = np.NaN, np.NaN\n",
        "  return X, Y"
      ],
      "execution_count": 31,
      "outputs": []
    },
    {
      "cell_type": "code",
      "metadata": {
        "id": "HX6oDBgTBXNT"
      },
      "source": [
        "dfImageSize = dfLabels['patientId'].apply(lambda pId : getXandY(pId))"
      ],
      "execution_count": 32,
      "outputs": []
    },
    {
      "cell_type": "code",
      "metadata": {
        "id": "N2wZnjjyBZnz"
      },
      "source": [
        "dfLabels['X'] = dfImageSize.apply(lambda x : x[0])\n",
        "dfLabels['Y'] = dfImageSize.apply(lambda x : x[1])"
      ],
      "execution_count": 33,
      "outputs": []
    },
    {
      "cell_type": "code",
      "metadata": {
        "colab": {
          "base_uri": "https://localhost:8080/"
        },
        "id": "AppUer-xBewL",
        "outputId": "1f4c3f3e-bf42-4dfc-d481-76b0d5618fd3"
      },
      "source": [
        "dfLabels['X'].value_counts()"
      ],
      "execution_count": 34,
      "outputs": [
        {
          "output_type": "execute_result",
          "data": {
            "text/plain": [
              "1024    30227\n",
              "Name: X, dtype: int64"
            ]
          },
          "metadata": {
            "tags": []
          },
          "execution_count": 34
        }
      ]
    },
    {
      "cell_type": "code",
      "metadata": {
        "colab": {
          "base_uri": "https://localhost:8080/"
        },
        "id": "M5y2Oz5VBgjr",
        "outputId": "35fd75e3-ea05-4696-c780-098b48f8eecb"
      },
      "source": [
        "dfLabels['Y'].value_counts()"
      ],
      "execution_count": 35,
      "outputs": [
        {
          "output_type": "execute_result",
          "data": {
            "text/plain": [
              "1024    30227\n",
              "Name: Y, dtype: int64"
            ]
          },
          "metadata": {
            "tags": []
          },
          "execution_count": 35
        }
      ]
    },
    {
      "cell_type": "code",
      "metadata": {
        "colab": {
          "base_uri": "https://localhost:8080/",
          "height": 204
        },
        "id": "gH7o2wLVCL1i",
        "outputId": "275b7fa6-5c45-4aba-8e4c-d35069dc6785"
      },
      "source": [
        "dfLabels.head()"
      ],
      "execution_count": 36,
      "outputs": [
        {
          "output_type": "execute_result",
          "data": {
            "text/html": [
              "<div>\n",
              "<style scoped>\n",
              "    .dataframe tbody tr th:only-of-type {\n",
              "        vertical-align: middle;\n",
              "    }\n",
              "\n",
              "    .dataframe tbody tr th {\n",
              "        vertical-align: top;\n",
              "    }\n",
              "\n",
              "    .dataframe thead th {\n",
              "        text-align: right;\n",
              "    }\n",
              "</style>\n",
              "<table border=\"1\" class=\"dataframe\">\n",
              "  <thead>\n",
              "    <tr style=\"text-align: right;\">\n",
              "      <th></th>\n",
              "      <th>patientId</th>\n",
              "      <th>x</th>\n",
              "      <th>y</th>\n",
              "      <th>width</th>\n",
              "      <th>height</th>\n",
              "      <th>Target</th>\n",
              "      <th>X</th>\n",
              "      <th>Y</th>\n",
              "    </tr>\n",
              "  </thead>\n",
              "  <tbody>\n",
              "    <tr>\n",
              "      <th>0</th>\n",
              "      <td>0004cfab-14fd-4e49-80ba-63a80b6bddd6</td>\n",
              "      <td>NaN</td>\n",
              "      <td>NaN</td>\n",
              "      <td>NaN</td>\n",
              "      <td>NaN</td>\n",
              "      <td>0</td>\n",
              "      <td>1024</td>\n",
              "      <td>1024</td>\n",
              "    </tr>\n",
              "    <tr>\n",
              "      <th>1</th>\n",
              "      <td>00313ee0-9eaa-42f4-b0ab-c148ed3241cd</td>\n",
              "      <td>NaN</td>\n",
              "      <td>NaN</td>\n",
              "      <td>NaN</td>\n",
              "      <td>NaN</td>\n",
              "      <td>0</td>\n",
              "      <td>1024</td>\n",
              "      <td>1024</td>\n",
              "    </tr>\n",
              "    <tr>\n",
              "      <th>2</th>\n",
              "      <td>00322d4d-1c29-4943-afc9-b6754be640eb</td>\n",
              "      <td>NaN</td>\n",
              "      <td>NaN</td>\n",
              "      <td>NaN</td>\n",
              "      <td>NaN</td>\n",
              "      <td>0</td>\n",
              "      <td>1024</td>\n",
              "      <td>1024</td>\n",
              "    </tr>\n",
              "    <tr>\n",
              "      <th>3</th>\n",
              "      <td>003d8fa0-6bf1-40ed-b54c-ac657f8495c5</td>\n",
              "      <td>NaN</td>\n",
              "      <td>NaN</td>\n",
              "      <td>NaN</td>\n",
              "      <td>NaN</td>\n",
              "      <td>0</td>\n",
              "      <td>1024</td>\n",
              "      <td>1024</td>\n",
              "    </tr>\n",
              "    <tr>\n",
              "      <th>4</th>\n",
              "      <td>00436515-870c-4b36-a041-de91049b9ab4</td>\n",
              "      <td>264.0</td>\n",
              "      <td>152.0</td>\n",
              "      <td>213.0</td>\n",
              "      <td>379.0</td>\n",
              "      <td>1</td>\n",
              "      <td>1024</td>\n",
              "      <td>1024</td>\n",
              "    </tr>\n",
              "  </tbody>\n",
              "</table>\n",
              "</div>"
            ],
            "text/plain": [
              "                              patientId      x      y  ...  Target     X     Y\n",
              "0  0004cfab-14fd-4e49-80ba-63a80b6bddd6    NaN    NaN  ...       0  1024  1024\n",
              "1  00313ee0-9eaa-42f4-b0ab-c148ed3241cd    NaN    NaN  ...       0  1024  1024\n",
              "2  00322d4d-1c29-4943-afc9-b6754be640eb    NaN    NaN  ...       0  1024  1024\n",
              "3  003d8fa0-6bf1-40ed-b54c-ac657f8495c5    NaN    NaN  ...       0  1024  1024\n",
              "4  00436515-870c-4b36-a041-de91049b9ab4  264.0  152.0  ...       1  1024  1024\n",
              "\n",
              "[5 rows x 8 columns]"
            ]
          },
          "metadata": {
            "tags": []
          },
          "execution_count": 36
        }
      ]
    },
    {
      "cell_type": "code",
      "metadata": {
        "id": "5CqhW4vbCOdF"
      },
      "source": [
        "import cv2"
      ],
      "execution_count": 37,
      "outputs": []
    },
    {
      "cell_type": "code",
      "metadata": {
        "id": "85vOFUJ6CabE"
      },
      "source": [
        "compressedImageSize = (256,256)"
      ],
      "execution_count": 38,
      "outputs": []
    },
    {
      "cell_type": "markdown",
      "metadata": {
        "id": "TmQHy6NcIi_N"
      },
      "source": [
        "# Function to Resize the Image to 256x256"
      ]
    },
    {
      "cell_type": "code",
      "metadata": {
        "id": "cpOJSUBMCdUT"
      },
      "source": [
        "def getResize256(patientId):\n",
        "  fileName = patientId +'.dcm'\n",
        "  absolutePathTrain = datasetFolder + 'train/' + fileName\n",
        "  absolutePathTest = datasetFolder + 'test/' + fileName\n",
        "  if (os.path.isfile(absolutePathTrain) == True):\n",
        "    img = dcmread(absolutePathTrain)\n",
        "  elif (os.path.isfile(absolutePathTest) == True):\n",
        "    img = dcmread(absolutePathTest)\n",
        "  return cv2.resize(img.pixel_array,(256,256))"
      ],
      "execution_count": 39,
      "outputs": []
    },
    {
      "cell_type": "code",
      "metadata": {
        "colab": {
          "base_uri": "https://localhost:8080/",
          "height": 204
        },
        "id": "a-5ZGQC5D5is",
        "outputId": "65006942-c70f-4412-e9d1-5c5791db664f"
      },
      "source": [
        "dfLabels.head()"
      ],
      "execution_count": 41,
      "outputs": [
        {
          "output_type": "execute_result",
          "data": {
            "text/html": [
              "<div>\n",
              "<style scoped>\n",
              "    .dataframe tbody tr th:only-of-type {\n",
              "        vertical-align: middle;\n",
              "    }\n",
              "\n",
              "    .dataframe tbody tr th {\n",
              "        vertical-align: top;\n",
              "    }\n",
              "\n",
              "    .dataframe thead th {\n",
              "        text-align: right;\n",
              "    }\n",
              "</style>\n",
              "<table border=\"1\" class=\"dataframe\">\n",
              "  <thead>\n",
              "    <tr style=\"text-align: right;\">\n",
              "      <th></th>\n",
              "      <th>patientId</th>\n",
              "      <th>x</th>\n",
              "      <th>y</th>\n",
              "      <th>width</th>\n",
              "      <th>height</th>\n",
              "      <th>Target</th>\n",
              "      <th>X</th>\n",
              "      <th>Y</th>\n",
              "    </tr>\n",
              "  </thead>\n",
              "  <tbody>\n",
              "    <tr>\n",
              "      <th>0</th>\n",
              "      <td>0004cfab-14fd-4e49-80ba-63a80b6bddd6</td>\n",
              "      <td>NaN</td>\n",
              "      <td>NaN</td>\n",
              "      <td>NaN</td>\n",
              "      <td>NaN</td>\n",
              "      <td>0</td>\n",
              "      <td>1024</td>\n",
              "      <td>1024</td>\n",
              "    </tr>\n",
              "    <tr>\n",
              "      <th>1</th>\n",
              "      <td>00313ee0-9eaa-42f4-b0ab-c148ed3241cd</td>\n",
              "      <td>NaN</td>\n",
              "      <td>NaN</td>\n",
              "      <td>NaN</td>\n",
              "      <td>NaN</td>\n",
              "      <td>0</td>\n",
              "      <td>1024</td>\n",
              "      <td>1024</td>\n",
              "    </tr>\n",
              "    <tr>\n",
              "      <th>2</th>\n",
              "      <td>00322d4d-1c29-4943-afc9-b6754be640eb</td>\n",
              "      <td>NaN</td>\n",
              "      <td>NaN</td>\n",
              "      <td>NaN</td>\n",
              "      <td>NaN</td>\n",
              "      <td>0</td>\n",
              "      <td>1024</td>\n",
              "      <td>1024</td>\n",
              "    </tr>\n",
              "    <tr>\n",
              "      <th>3</th>\n",
              "      <td>003d8fa0-6bf1-40ed-b54c-ac657f8495c5</td>\n",
              "      <td>NaN</td>\n",
              "      <td>NaN</td>\n",
              "      <td>NaN</td>\n",
              "      <td>NaN</td>\n",
              "      <td>0</td>\n",
              "      <td>1024</td>\n",
              "      <td>1024</td>\n",
              "    </tr>\n",
              "    <tr>\n",
              "      <th>4</th>\n",
              "      <td>00436515-870c-4b36-a041-de91049b9ab4</td>\n",
              "      <td>264.0</td>\n",
              "      <td>152.0</td>\n",
              "      <td>213.0</td>\n",
              "      <td>379.0</td>\n",
              "      <td>1</td>\n",
              "      <td>1024</td>\n",
              "      <td>1024</td>\n",
              "    </tr>\n",
              "  </tbody>\n",
              "</table>\n",
              "</div>"
            ],
            "text/plain": [
              "                              patientId      x      y  ...  Target     X     Y\n",
              "0  0004cfab-14fd-4e49-80ba-63a80b6bddd6    NaN    NaN  ...       0  1024  1024\n",
              "1  00313ee0-9eaa-42f4-b0ab-c148ed3241cd    NaN    NaN  ...       0  1024  1024\n",
              "2  00322d4d-1c29-4943-afc9-b6754be640eb    NaN    NaN  ...       0  1024  1024\n",
              "3  003d8fa0-6bf1-40ed-b54c-ac657f8495c5    NaN    NaN  ...       0  1024  1024\n",
              "4  00436515-870c-4b36-a041-de91049b9ab4  264.0  152.0  ...       1  1024  1024\n",
              "\n",
              "[5 rows x 8 columns]"
            ]
          },
          "metadata": {
            "tags": []
          },
          "execution_count": 41
        }
      ]
    },
    {
      "cell_type": "code",
      "metadata": {
        "id": "iQvW90z_Dy0K"
      },
      "source": [
        "dfImages_resized = dfLabels['patientId'].apply(lambda pId : getResize256(pId))"
      ],
      "execution_count": 42,
      "outputs": []
    },
    {
      "cell_type": "code",
      "metadata": {
        "id": "pBld5mzrEHoG"
      },
      "source": [
        "dfLabels['Image256'] = dfImages_resized"
      ],
      "execution_count": 50,
      "outputs": []
    },
    {
      "cell_type": "markdown",
      "metadata": {
        "id": "pb2Qb6Y_IozO"
      },
      "source": [
        "# Function to Resize the Coodinates"
      ]
    },
    {
      "cell_type": "code",
      "metadata": {
        "id": "QfnNk6MNE7-F"
      },
      "source": [
        "def custom_resize_target(X, Y, x, y, l, b, Xo = 256, Yo = 256):\n",
        "  X_ratio = (Xo/X) \n",
        "  Y_ratio = (Yo/Y) \n",
        "  xo = X_ratio * x\n",
        "  yo = Y_ratio * y\n",
        "  lo = X_ratio * l\n",
        "  bo = Y_ratio * b\n",
        "  return Xo, Yo, xo, yo, lo, bo"
      ],
      "execution_count": 51,
      "outputs": []
    },
    {
      "cell_type": "code",
      "metadata": {
        "id": "XJZ8AWs0Fd7p"
      },
      "source": [
        "reshapedTargets = dfLabels.apply(lambda row: custom_resize_target(1024,1024,row['x'], row['y'], row['width'],row['height']),axis= 1)"
      ],
      "execution_count": 52,
      "outputs": []
    },
    {
      "cell_type": "code",
      "metadata": {
        "id": "eo9_4mdqFgv1"
      },
      "source": [
        "def toInt(x):\n",
        "  if (x == np.NaN):\n",
        "    return np.NaN\n",
        "  else:\n",
        "    return np.ceil(x)"
      ],
      "execution_count": 53,
      "outputs": []
    },
    {
      "cell_type": "code",
      "metadata": {
        "id": "4vWbl6CVFiqX"
      },
      "source": [
        "dfLabels['Xo'] = reshapedTargets.map(lambda x: x[0])\n",
        "dfLabels['Yo'] = reshapedTargets.map(lambda x: x[1])\n",
        "dfLabels['xo'] = reshapedTargets.map(lambda x: x[2])\n",
        "dfLabels['yo'] = reshapedTargets.map(lambda x: x[3])\n",
        "dfLabels['widtho'] = reshapedTargets.map(lambda x: x[4])\n",
        "dfLabels['heighto'] = reshapedTargets.map(lambda x: x[5])"
      ],
      "execution_count": 54,
      "outputs": []
    },
    {
      "cell_type": "code",
      "metadata": {
        "id": "CUiSWIe7FmO3"
      },
      "source": [
        "dfLabels['xo'] = dfLabels.apply(lambda row: toInt(row['xo']),axis = 1)\n",
        "dfLabels['yo'] = dfLabels.apply(lambda row: toInt(row['yo']),axis = 1)\n",
        "dfLabels['widtho'] = dfLabels.apply(lambda row: toInt(row['widtho']),axis = 1)\n",
        "dfLabels['heighto'] = dfLabels.apply(lambda row: toInt(row['heighto']),axis = 1)"
      ],
      "execution_count": 56,
      "outputs": []
    },
    {
      "cell_type": "code",
      "metadata": {
        "id": "AjGJ3Y0BIvu3"
      },
      "source": [
        "def getAgeandSex(patientId):\n",
        "  fileName = patientId +'.dcm'\n",
        "  absolutePathTrain = datasetFolder + 'train/' + fileName\n",
        "  absolutePathTest = datasetFolder + 'test/' + fileName\n",
        "  if (os.path.isfile(absolutePathTrain) == True):\n",
        "    img = dcmread(absolutePathTrain)\n",
        "  elif (os.path.isfile(absolutePathTest) == True):\n",
        "    img = dcmread(absolutePathTest)\n",
        "  return int(img.PatientAge), img.PatientSex"
      ],
      "execution_count": 69,
      "outputs": []
    },
    {
      "cell_type": "code",
      "metadata": {
        "id": "-xvuezLDKZL5"
      },
      "source": [
        "dfAgeSex = dfLabels['patientId'].apply(lambda pId : getAgeandSex(pId))"
      ],
      "execution_count": 70,
      "outputs": []
    },
    {
      "cell_type": "code",
      "metadata": {
        "id": "It9hr_YmKmSz"
      },
      "source": [
        "dfLabels['Age'] = dfAgeSex.apply(lambda x : x[0])\n",
        "dfLabels['Sex'] = dfAgeSex.apply(lambda x : x[1])"
      ],
      "execution_count": 72,
      "outputs": []
    },
    {
      "cell_type": "code",
      "metadata": {
        "colab": {
          "base_uri": "https://localhost:8080/",
          "height": 530
        },
        "id": "z093pDfIK39B",
        "outputId": "5b1ff312-567c-47f6-cd0c-8a3e619fca2c"
      },
      "source": [
        "dfLabels.head()"
      ],
      "execution_count": 73,
      "outputs": [
        {
          "output_type": "execute_result",
          "data": {
            "text/html": [
              "<div>\n",
              "<style scoped>\n",
              "    .dataframe tbody tr th:only-of-type {\n",
              "        vertical-align: middle;\n",
              "    }\n",
              "\n",
              "    .dataframe tbody tr th {\n",
              "        vertical-align: top;\n",
              "    }\n",
              "\n",
              "    .dataframe thead th {\n",
              "        text-align: right;\n",
              "    }\n",
              "</style>\n",
              "<table border=\"1\" class=\"dataframe\">\n",
              "  <thead>\n",
              "    <tr style=\"text-align: right;\">\n",
              "      <th></th>\n",
              "      <th>patientId</th>\n",
              "      <th>x</th>\n",
              "      <th>y</th>\n",
              "      <th>width</th>\n",
              "      <th>height</th>\n",
              "      <th>Target</th>\n",
              "      <th>X</th>\n",
              "      <th>Y</th>\n",
              "      <th>Image256</th>\n",
              "      <th>Xo</th>\n",
              "      <th>Yo</th>\n",
              "      <th>xo</th>\n",
              "      <th>yo</th>\n",
              "      <th>widtho</th>\n",
              "      <th>heighto</th>\n",
              "      <th>Age</th>\n",
              "      <th>Sex</th>\n",
              "    </tr>\n",
              "  </thead>\n",
              "  <tbody>\n",
              "    <tr>\n",
              "      <th>0</th>\n",
              "      <td>0004cfab-14fd-4e49-80ba-63a80b6bddd6</td>\n",
              "      <td>NaN</td>\n",
              "      <td>NaN</td>\n",
              "      <td>NaN</td>\n",
              "      <td>NaN</td>\n",
              "      <td>0</td>\n",
              "      <td>1024</td>\n",
              "      <td>1024</td>\n",
              "      <td>[[92, 50, 30, 17, 9, 4, 4, 4, 4, 4, 4, 4, 4, 4...</td>\n",
              "      <td>256</td>\n",
              "      <td>256</td>\n",
              "      <td>NaN</td>\n",
              "      <td>NaN</td>\n",
              "      <td>NaN</td>\n",
              "      <td>NaN</td>\n",
              "      <td>51</td>\n",
              "      <td>F</td>\n",
              "    </tr>\n",
              "    <tr>\n",
              "      <th>1</th>\n",
              "      <td>00313ee0-9eaa-42f4-b0ab-c148ed3241cd</td>\n",
              "      <td>NaN</td>\n",
              "      <td>NaN</td>\n",
              "      <td>NaN</td>\n",
              "      <td>NaN</td>\n",
              "      <td>0</td>\n",
              "      <td>1024</td>\n",
              "      <td>1024</td>\n",
              "      <td>[[20, 1, 0, 0, 0, 0, 0, 0, 0, 0, 0, 0, 0, 0, 0...</td>\n",
              "      <td>256</td>\n",
              "      <td>256</td>\n",
              "      <td>NaN</td>\n",
              "      <td>NaN</td>\n",
              "      <td>NaN</td>\n",
              "      <td>NaN</td>\n",
              "      <td>48</td>\n",
              "      <td>F</td>\n",
              "    </tr>\n",
              "    <tr>\n",
              "      <th>2</th>\n",
              "      <td>00322d4d-1c29-4943-afc9-b6754be640eb</td>\n",
              "      <td>NaN</td>\n",
              "      <td>NaN</td>\n",
              "      <td>NaN</td>\n",
              "      <td>NaN</td>\n",
              "      <td>0</td>\n",
              "      <td>1024</td>\n",
              "      <td>1024</td>\n",
              "      <td>[[18, 16, 15, 15, 14, 14, 13, 14, 14, 14, 14, ...</td>\n",
              "      <td>256</td>\n",
              "      <td>256</td>\n",
              "      <td>NaN</td>\n",
              "      <td>NaN</td>\n",
              "      <td>NaN</td>\n",
              "      <td>NaN</td>\n",
              "      <td>19</td>\n",
              "      <td>M</td>\n",
              "    </tr>\n",
              "    <tr>\n",
              "      <th>3</th>\n",
              "      <td>003d8fa0-6bf1-40ed-b54c-ac657f8495c5</td>\n",
              "      <td>NaN</td>\n",
              "      <td>NaN</td>\n",
              "      <td>NaN</td>\n",
              "      <td>NaN</td>\n",
              "      <td>0</td>\n",
              "      <td>1024</td>\n",
              "      <td>1024</td>\n",
              "      <td>[[205, 202, 193, 192, 187, 185, 180, 179, 177,...</td>\n",
              "      <td>256</td>\n",
              "      <td>256</td>\n",
              "      <td>NaN</td>\n",
              "      <td>NaN</td>\n",
              "      <td>NaN</td>\n",
              "      <td>NaN</td>\n",
              "      <td>28</td>\n",
              "      <td>M</td>\n",
              "    </tr>\n",
              "    <tr>\n",
              "      <th>4</th>\n",
              "      <td>00436515-870c-4b36-a041-de91049b9ab4</td>\n",
              "      <td>264.0</td>\n",
              "      <td>152.0</td>\n",
              "      <td>213.0</td>\n",
              "      <td>379.0</td>\n",
              "      <td>1</td>\n",
              "      <td>1024</td>\n",
              "      <td>1024</td>\n",
              "      <td>[[2, 3, 3, 3, 3, 3, 2, 2, 2, 2, 2, 3, 4, 4, 5,...</td>\n",
              "      <td>256</td>\n",
              "      <td>256</td>\n",
              "      <td>66.0</td>\n",
              "      <td>38.0</td>\n",
              "      <td>54.0</td>\n",
              "      <td>95.0</td>\n",
              "      <td>32</td>\n",
              "      <td>F</td>\n",
              "    </tr>\n",
              "  </tbody>\n",
              "</table>\n",
              "</div>"
            ],
            "text/plain": [
              "                              patientId      x      y  ...  heighto  Age  Sex\n",
              "0  0004cfab-14fd-4e49-80ba-63a80b6bddd6    NaN    NaN  ...      NaN   51    F\n",
              "1  00313ee0-9eaa-42f4-b0ab-c148ed3241cd    NaN    NaN  ...      NaN   48    F\n",
              "2  00322d4d-1c29-4943-afc9-b6754be640eb    NaN    NaN  ...      NaN   19    M\n",
              "3  003d8fa0-6bf1-40ed-b54c-ac657f8495c5    NaN    NaN  ...      NaN   28    M\n",
              "4  00436515-870c-4b36-a041-de91049b9ab4  264.0  152.0  ...     95.0   32    F\n",
              "\n",
              "[5 rows x 17 columns]"
            ]
          },
          "metadata": {
            "tags": []
          },
          "execution_count": 73
        }
      ]
    },
    {
      "cell_type": "code",
      "metadata": {
        "colab": {
          "base_uri": "https://localhost:8080/",
          "height": 302
        },
        "id": "VCniiVDsK8AQ",
        "outputId": "af8aa443-7aba-4e8f-b97e-a1c5b984fe3c"
      },
      "source": [
        "sns.boxplot(x=\"Age\", data=dfLabels)"
      ],
      "execution_count": 75,
      "outputs": [
        {
          "output_type": "execute_result",
          "data": {
            "text/plain": [
              "<matplotlib.axes._subplots.AxesSubplot at 0x7f2a7c851a50>"
            ]
          },
          "metadata": {
            "tags": []
          },
          "execution_count": 75
        },
        {
          "output_type": "display_data",
          "data": {
            "image/png": "[encoded data removed]",
            "text/plain": [
              "<Figure size 432x288 with 1 Axes>"
            ]
          },
          "metadata": {
            "tags": [],
            "needs_background": "light"
          }
        }
      ]
    },
    {
      "cell_type": "markdown",
      "metadata": {
        "id": "lpiuo0h9LjBi"
      },
      "source": [
        "There are outliers avaialble in Age"
      ]
    },
    {
      "cell_type": "code",
      "metadata": {
        "id": "RD8fJX2HQFC9"
      },
      "source": [
        "import pickle\n",
        "\n",
        "file = open('/content/drive/MyDrive/CapstoneDataSet/dataset/RezisedLabel.pickle', 'ab')\n",
        "pickle.dump(dfLabels, file)                     \n",
        "file.close()\n"
      ],
      "execution_count": 119,
      "outputs": []
    },
    {
      "cell_type": "code",
      "metadata": {
        "id": "TYh3DO4FQlm6"
      },
      "source": [
        ""
      ],
      "execution_count": null,
      "outputs": []
    }
  ]
}