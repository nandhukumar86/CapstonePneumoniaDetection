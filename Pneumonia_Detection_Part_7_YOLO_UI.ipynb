{
 "cells": [
  {
   "cell_type": "markdown",
   "metadata": {
    "colab_type": "text",
    "id": "view-in-github"
   },
   "source": [
    "<a href=\"https://colab.research.google.com/github/nandhukumar86/CapstonePneumoniaDetection/blob/main/Gradio_PneumoniaDetection.ipynb\" target=\"_parent\"><img src=\"https://colab.research.google.com/assets/colab-badge.svg\" alt=\"Open In Colab\"/></a>"
   ]
  },
  {
   "cell_type": "code",
   "execution_count": 1,
   "metadata": {
    "id": "jeRL66GR6M1o"
   },
   "outputs": [
    {
     "name": "stdout",
     "output_type": "stream",
     "text": [
      "Collecting gradio\n",
      "  Downloading gradio-2.1.2-py3-none-any.whl (2.5 MB)\n",
      "Requirement already satisfied: numpy in c:\\users\\pvkab\\anaconda3\\lib\\site-packages (from gradio) (1.19.2)\n",
      "Collecting pycryptodome\n",
      "  Downloading pycryptodome-3.10.1-cp35-abi3-win_amd64.whl (1.6 MB)\n",
      "Collecting flask-cachebuster\n",
      "  Downloading Flask-CacheBuster-1.0.0.tar.gz (3.1 kB)\n",
      "Requirement already satisfied: pillow in c:\\users\\pvkab\\anaconda3\\lib\\site-packages (from gradio) (8.0.1)\n",
      "Collecting Flask-Login\n",
      "  Downloading Flask_Login-0.5.0-py2.py3-none-any.whl (16 kB)\n",
      "Requirement already satisfied: matplotlib in c:\\users\\pvkab\\anaconda3\\lib\\site-packages (from gradio) (3.2.2)\n",
      "Collecting markdown2\n",
      "  Downloading markdown2-2.4.0-py2.py3-none-any.whl (34 kB)\n",
      "Requirement already satisfied: pandas in c:\\users\\pvkab\\anaconda3\\lib\\site-packages (from gradio) (1.1.3)\n",
      "Requirement already satisfied: requests in c:\\users\\pvkab\\anaconda3\\lib\\site-packages (from gradio) (2.24.0)\n",
      "Requirement already satisfied: Flask>=1.1.1 in c:\\users\\pvkab\\anaconda3\\lib\\site-packages (from gradio) (1.1.2)\n",
      "Collecting ffmpy\n",
      "  Downloading ffmpy-0.3.0.tar.gz (4.8 kB)\n",
      "Collecting analytics-python\n",
      "  Downloading analytics_python-1.3.1-py2.py3-none-any.whl (16 kB)\n",
      "Requirement already satisfied: scipy in c:\\users\\pvkab\\anaconda3\\lib\\site-packages (from gradio) (1.5.2)\n",
      "Collecting Flask-Cors>=3.0.8\n",
      "  Downloading Flask_Cors-3.0.10-py2.py3-none-any.whl (14 kB)\n",
      "Requirement already satisfied: paramiko in c:\\users\\pvkab\\anaconda3\\lib\\site-packages (from gradio) (2.7.2)\n",
      "Requirement already satisfied: click>=5.1 in c:\\users\\pvkab\\anaconda3\\lib\\site-packages (from Flask>=1.1.1->gradio) (7.1.2)\n",
      "Requirement already satisfied: Werkzeug>=0.15 in c:\\users\\pvkab\\anaconda3\\lib\\site-packages (from Flask>=1.1.1->gradio) (1.0.1)\n",
      "Requirement already satisfied: Jinja2>=2.10.1 in c:\\users\\pvkab\\anaconda3\\lib\\site-packages (from Flask>=1.1.1->gradio) (2.11.2)\n",
      "Requirement already satisfied: itsdangerous>=0.24 in c:\\users\\pvkab\\anaconda3\\lib\\site-packages (from Flask>=1.1.1->gradio) (1.1.0)\n",
      "Requirement already satisfied: Six in c:\\users\\pvkab\\anaconda3\\lib\\site-packages (from Flask-Cors>=3.0.8->gradio) (1.15.0)\n",
      "Requirement already satisfied: MarkupSafe>=0.23 in c:\\users\\pvkab\\anaconda3\\lib\\site-packages (from Jinja2>=2.10.1->Flask>=1.1.1->gradio) (1.1.1)\n",
      "Collecting monotonic>=1.5\n",
      "  Downloading monotonic-1.6-py2.py3-none-any.whl (8.2 kB)\n",
      "Requirement already satisfied: python-dateutil>2.1 in c:\\users\\pvkab\\anaconda3\\lib\\site-packages (from analytics-python->gradio) (2.8.1)\n",
      "Collecting backoff==1.10.0\n",
      "  Downloading backoff-1.10.0-py2.py3-none-any.whl (31 kB)\n",
      "Requirement already satisfied: idna<3,>=2.5 in c:\\users\\pvkab\\anaconda3\\lib\\site-packages (from requests->gradio) (2.10)\n",
      "Requirement already satisfied: chardet<4,>=3.0.2 in c:\\users\\pvkab\\anaconda3\\lib\\site-packages (from requests->gradio) (3.0.4)\n",
      "Requirement already satisfied: certifi>=2017.4.17 in c:\\users\\pvkab\\anaconda3\\lib\\site-packages (from requests->gradio) (2020.6.20)\n",
      "Requirement already satisfied: urllib3!=1.25.0,!=1.25.1,<1.26,>=1.21.1 in c:\\users\\pvkab\\anaconda3\\lib\\site-packages (from requests->gradio) (1.25.11)\n",
      "Requirement already satisfied: kiwisolver>=1.0.1 in c:\\users\\pvkab\\anaconda3\\lib\\site-packages (from matplotlib->gradio) (1.3.0)\n",
      "Requirement already satisfied: cycler>=0.10 in c:\\users\\pvkab\\anaconda3\\lib\\site-packages (from matplotlib->gradio) (0.10.0)\n",
      "Requirement already satisfied: pyparsing!=2.0.4,!=2.1.2,!=2.1.6,>=2.0.1 in c:\\users\\pvkab\\anaconda3\\lib\\site-packages (from matplotlib->gradio) (2.4.7)\n",
      "Requirement already satisfied: pytz>=2017.2 in c:\\users\\pvkab\\anaconda3\\lib\\site-packages (from pandas->gradio) (2020.1)\n",
      "Requirement already satisfied: bcrypt>=3.1.3 in c:\\users\\pvkab\\anaconda3\\lib\\site-packages (from paramiko->gradio) (3.2.0)\n",
      "Requirement already satisfied: pynacl>=1.0.1 in c:\\users\\pvkab\\anaconda3\\lib\\site-packages (from paramiko->gradio) (1.4.0)\n",
      "Requirement already satisfied: cryptography>=2.5 in c:\\users\\pvkab\\anaconda3\\lib\\site-packages (from paramiko->gradio) (3.1.1)\n",
      "Requirement already satisfied: cffi>=1.1 in c:\\users\\pvkab\\anaconda3\\lib\\site-packages (from bcrypt>=3.1.3->paramiko->gradio) (1.14.3)\n",
      "Requirement already satisfied: pycparser in c:\\users\\pvkab\\anaconda3\\lib\\site-packages (from cffi>=1.1->bcrypt>=3.1.3->paramiko->gradio) (2.20)\n",
      "Building wheels for collected packages: ffmpy, flask-cachebuster\n",
      "  Building wheel for ffmpy (setup.py): started\n",
      "  Building wheel for ffmpy (setup.py): finished with status 'done'\n",
      "  Created wheel for ffmpy: filename=ffmpy-0.3.0-py3-none-any.whl size=4714 sha256=50298e6a82ee0d68428c0b35373de9aa6e6830aca177dacbf78a2aa439e13a95\n",
      "  Stored in directory: c:\\users\\pvkab\\appdata\\local\\pip\\cache\\wheels\\ff\\5b\\59\\913b443e7369dc04b61f607a746b6f7d83fb65e2e19fcc958d\n",
      "  Building wheel for flask-cachebuster (setup.py): started\n",
      "  Building wheel for flask-cachebuster (setup.py): finished with status 'done'\n",
      "  Created wheel for flask-cachebuster: filename=Flask_CacheBuster-1.0.0-py3-none-any.whl size=3376 sha256=c7a3ab65b8d499c07d565437badefc0385d794ada8cecc6afac2e46400a64033\n",
      "  Stored in directory: c:\\users\\pvkab\\appdata\\local\\pip\\cache\\wheels\\27\\1b\\de\\34a3e06893944387266e2e7e93d33243589f01ac1b451e367b\n",
      "Successfully built ffmpy flask-cachebuster\n",
      "Installing collected packages: monotonic, backoff, pycryptodome, markdown2, Flask-Login, Flask-Cors, flask-cachebuster, ffmpy, analytics-python, gradio\n",
      "Successfully installed Flask-Cors-3.0.10 Flask-Login-0.5.0 analytics-python-1.3.1 backoff-1.10.0 ffmpy-0.3.0 flask-cachebuster-1.0.0 gradio-2.1.2 markdown2-2.4.0 monotonic-1.6 pycryptodome-3.10.1\n"
     ]
    },
    {
     "name": "stderr",
     "output_type": "stream",
     "text": [
      "WARNING: You are using pip version 21.0.1; however, version 21.1.3 is available.\n",
      "You should consider upgrading via the 'c:\\users\\pvkab\\anaconda3\\python.exe -m pip install --upgrade pip' command.\n"
     ]
    }
   ],
   "source": [
    "!pip install gradio"
   ]
  },
  {
   "cell_type": "code",
   "execution_count": 2,
   "metadata": {
    "id": "znCVukdn8LUv"
   },
   "outputs": [
    {
     "name": "stdout",
     "output_type": "stream",
     "text": [
      "Collecting pydicom\n",
      "  Downloading pydicom-2.1.2-py3-none-any.whl (1.9 MB)\n",
      "Installing collected packages: pydicom\n",
      "Successfully installed pydicom-2.1.2\n"
     ]
    },
    {
     "name": "stderr",
     "output_type": "stream",
     "text": [
      "WARNING: You are using pip version 21.0.1; however, version 21.1.3 is available.\n",
      "You should consider upgrading via the 'c:\\users\\pvkab\\anaconda3\\python.exe -m pip install --upgrade pip' command.\n"
     ]
    }
   ],
   "source": [
    "!pip install pydicom"
   ]
  },
  {
   "cell_type": "code",
   "execution_count": 1,
   "metadata": {
    "id": "sv0gQ_8t04p8"
   },
   "outputs": [],
   "source": [
    "import gradio as gr\n",
    "import pydicom\n",
    "import io\n",
    "import tensorflow\n",
    "import cv2\n",
    "import numpy as np\n",
    "from tensorflow.keras import backend as K\n",
    "from tensorflow.keras.backend import log,epsilon\n",
    "from tensorflow.keras.models import load_model\n",
    "from scipy.special import expit"
   ]
  },
  {
   "cell_type": "code",
   "execution_count": 2,
   "metadata": {},
   "outputs": [],
   "source": [
    "import os, sys\n",
    "sys.path.append('C:/Learning/GL-AIML/Capstone Project Local')\n",
    "\n",
    "from colors import get_color\n",
    "from utils import get_yolo_boxes, makedirs\n",
    "from bbox import draw_boxes"
   ]
  },
  {
   "cell_type": "code",
   "execution_count": 3,
   "metadata": {},
   "outputs": [],
   "source": [
    "path = 'C:\\Learning\\GL-AIML\\Capstone Project Local\\pneumonia_detection.h5'\n",
    "model = load_model(path, compile = False)"
   ]
  },
  {
   "cell_type": "code",
   "execution_count": 11,
   "metadata": {
    "colab": {
     "base_uri": "https://localhost:8080/",
     "height": 990
    },
    "id": "CL22N-RC6Pv4",
    "outputId": "3b5bac92-69b2-4b0d-cc14-4aad8ba4f804"
   },
   "outputs": [
    {
     "name": "stdout",
     "output_type": "stream",
     "text": [
      "Running locally at: http://127.0.0.1:7860/\n",
      "To create a public link, set `share=True` in `launch()`.\n",
      "Interface loading below...\n"
     ]
    },
    {
     "data": {
      "text/html": [
       "\n",
       "        <iframe\n",
       "            width=\"900\"\n",
       "            height=\"500\"\n",
       "            src=\"http://127.0.0.1:7860/\"\n",
       "            frameborder=\"0\"\n",
       "            allowfullscreen\n",
       "        ></iframe>\n",
       "        "
      ],
      "text/plain": [
       "<IPython.lib.display.IFrame at 0x2a8481c5ac0>"
      ]
     },
     "metadata": {},
     "output_type": "display_data"
    },
    {
     "name": "stdout",
     "output_type": "stream",
     "text": [
      "000db696-cf54-4385-b10b-6b16fbb3f985.JPG\n",
      "image shape is 256 256\n",
      "printing boxes in correct_yolo_boxes: <bbox.BoundBox object at 0x000002A84825FDF0>\n",
      "region= [[ 70  96]\n",
      " [ 70  61]\n",
      " [153  61]\n",
      " [153  96]]\n"
     ]
    },
    {
     "ename": "KeyboardInterrupt",
     "evalue": "",
     "output_type": "error",
     "traceback": [
      "\u001b[1;31m---------------------------------------------------------------------------\u001b[0m",
      "\u001b[1;31mKeyboardInterrupt\u001b[0m                         Traceback (most recent call last)",
      "\u001b[1;32m<ipython-input-11-00cbed0a83ed>\u001b[0m in \u001b[0;36m<module>\u001b[1;34m\u001b[0m\n\u001b[0;32m     55\u001b[0m                      \u001b[0mtitle\u001b[0m \u001b[1;33m=\u001b[0m \u001b[1;34m\"Pneumonia Detection\"\u001b[0m\u001b[1;33m,\u001b[0m\u001b[1;33m\u001b[0m\u001b[1;33m\u001b[0m\u001b[0m\n\u001b[0;32m     56\u001b[0m                      allow_flagging = False)\n\u001b[1;32m---> 57\u001b[1;33m \u001b[0miface\u001b[0m\u001b[1;33m.\u001b[0m\u001b[0mlaunch\u001b[0m\u001b[1;33m(\u001b[0m\u001b[0mdebug\u001b[0m\u001b[1;33m=\u001b[0m\u001b[1;32mTrue\u001b[0m\u001b[1;33m)\u001b[0m\u001b[1;33m\u001b[0m\u001b[1;33m\u001b[0m\u001b[0m\n\u001b[0m",
      "\u001b[1;32m~\\anaconda3\\lib\\site-packages\\gradio\\interface.py\u001b[0m in \u001b[0;36mlaunch\u001b[1;34m(self, inline, inbrowser, share, debug, auth, auth_message, private_endpoint, prevent_thread_lock)\u001b[0m\n\u001b[0;32m    521\u001b[0m             \u001b[1;32mwhile\u001b[0m \u001b[1;32mTrue\u001b[0m\u001b[1;33m:\u001b[0m\u001b[1;33m\u001b[0m\u001b[1;33m\u001b[0m\u001b[0m\n\u001b[0;32m    522\u001b[0m                 \u001b[0msys\u001b[0m\u001b[1;33m.\u001b[0m\u001b[0mstdout\u001b[0m\u001b[1;33m.\u001b[0m\u001b[0mflush\u001b[0m\u001b[1;33m(\u001b[0m\u001b[1;33m)\u001b[0m\u001b[1;33m\u001b[0m\u001b[1;33m\u001b[0m\u001b[0m\n\u001b[1;32m--> 523\u001b[1;33m                 \u001b[0mtime\u001b[0m\u001b[1;33m.\u001b[0m\u001b[0msleep\u001b[0m\u001b[1;33m(\u001b[0m\u001b[1;36m0.1\u001b[0m\u001b[1;33m)\u001b[0m\u001b[1;33m\u001b[0m\u001b[1;33m\u001b[0m\u001b[0m\n\u001b[0m\u001b[0;32m    524\u001b[0m         \u001b[0mis_in_interactive_mode\u001b[0m \u001b[1;33m=\u001b[0m \u001b[0mbool\u001b[0m\u001b[1;33m(\u001b[0m\u001b[0mgetattr\u001b[0m\u001b[1;33m(\u001b[0m\u001b[0msys\u001b[0m\u001b[1;33m,\u001b[0m \u001b[1;34m'ps1'\u001b[0m\u001b[1;33m,\u001b[0m \u001b[0msys\u001b[0m\u001b[1;33m.\u001b[0m\u001b[0mflags\u001b[0m\u001b[1;33m.\u001b[0m\u001b[0minteractive\u001b[0m\u001b[1;33m)\u001b[0m\u001b[1;33m)\u001b[0m\u001b[1;33m\u001b[0m\u001b[1;33m\u001b[0m\u001b[0m\n\u001b[0;32m    525\u001b[0m         \u001b[1;32mif\u001b[0m \u001b[1;32mnot\u001b[0m \u001b[0mprevent_thread_lock\u001b[0m \u001b[1;32mand\u001b[0m \u001b[1;32mnot\u001b[0m \u001b[0mis_in_interactive_mode\u001b[0m\u001b[1;33m:\u001b[0m\u001b[1;33m\u001b[0m\u001b[1;33m\u001b[0m\u001b[0m\n",
      "\u001b[1;31mKeyboardInterrupt\u001b[0m: "
     ]
    }
   ],
   "source": [
    "def detectPneumonia(file):\n",
    "  f = open(file.name, mode='rb')\n",
    "  raw_bytes = f.read()\n",
    "  ds = pydicom.dcmread(io.BytesIO(raw_bytes), force = True)\n",
    "  f.close();\n",
    "    \n",
    "  input_image = cv2.cvtColor(cv2.resize(ds.pixel_array,(256,256)), cv2.COLOR_BAYER_GR2RGB)\n",
    "  X = []\n",
    "  X.append(input_image)\n",
    "  X = np.array(X)\n",
    "\n",
    "  ###############################\n",
    "  #   Set some parameters\n",
    "  ###############################       \n",
    "  net_h, net_w = 416, 416 # a multiple of 32, the smaller the faster\n",
    "  obj_thresh, nms_thresh = 0.5, 0.45\n",
    "  anchors = [55,70, 59,44, 66,100, 76,139, 83,69, 85,188, 99,106, 110,157, 116,214]\n",
    "  input_path = 'C:/Learning/GL-AIML/Capstone Project Local/input/'\n",
    "  output_path = 'C:/Learning/GL-AIML/Capstone Project Local/output/'\n",
    "  image_path = '000db696-cf54-4385-b10b-6b16fbb3f985.JPG'\n",
    "  image = cv2.imread(input_path + image_path)\n",
    "  print(image_path)\n",
    "        \n",
    "  # predict the bounding boxes\n",
    "  # boxes = get_yolo_boxes(model, [image], net_h, net_w, config['model']['anchors'], obj_thresh, nms_thresh)[0]\n",
    "  boxes = get_yolo_boxes(model, [image], net_h, net_w, anchors, obj_thresh, nms_thresh)[0]\n",
    "\n",
    "  # draw bounding boxes on the image using labels\n",
    "  draw_boxes(image, boxes, [\"opacity\"], obj_thresh) \n",
    "\n",
    "  # write the image with bounding boxes to file\n",
    "  cv2.imwrite(output_path+image_path, np.uint8(image))         \n",
    "            \n",
    "  output_classify =  model.predict(X)\n",
    "  output_classify = \"Not Identified\" if output_classify[0].argmax() == 1 else \"Identified\"\n",
    "\n",
    "    \n",
    "  imagedata = {\n",
    "      \"Patient ID\" : ds.PatientID,\n",
    "      \"Age\" : ds.PatientAge,\n",
    "      \"Gender\" : ds.PatientSex,\n",
    "      \"Body Part\" : ds.BodyPartExamined\n",
    "  }\n",
    "  return imagedata, ds.pixel_array, output_classify\n",
    "\n",
    "iface = gr.Interface(fn = detectPneumonia, \n",
    "                     inputs = [\n",
    "                              gr.inputs.File(label=\"DICOM File\")\n",
    "                     ], \n",
    "                     outputs = [\n",
    "                              gr.outputs.KeyValues(label=\"Patient Details\"),\n",
    "                              gr.outputs.Image(label=\"Loaded Image\")\n",
    "                     ],\n",
    "                     layout = \"vertical\",\n",
    "                     title = \"Pneumonia Detection\",\n",
    "                     allow_flagging = False)\n",
    "iface.launch(debug=True)"
   ]
  }
 ],
 "metadata": {
  "colab": {
   "authorship_tag": "ABX9TyMCYoiyDaj7B83eQjT758Lf",
   "collapsed_sections": [],
   "include_colab_link": true,
   "name": "Gradio-PneumoniaDetection.ipynb",
   "provenance": []
  },
  "kernelspec": {
   "display_name": "yolov3-env",
   "language": "python",
   "name": "yolov3-env"
  },
  "language_info": {
   "codemirror_mode": {
    "name": "ipython",
    "version": 3
   },
   "file_extension": ".py",
   "mimetype": "text/x-python",
   "name": "python",
   "nbconvert_exporter": "python",
   "pygments_lexer": "ipython3",
   "version": "3.8.5"
  }
 },
 "nbformat": 4,
 "nbformat_minor": 1
}
