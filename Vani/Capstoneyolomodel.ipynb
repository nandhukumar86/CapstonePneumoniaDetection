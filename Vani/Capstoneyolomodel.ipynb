{
  "nbformat": 4,
  "nbformat_minor": 0,
  "metadata": {
    "colab": {
      "name": "Capstoneyolomodel.ipynb",
      "provenance": [],
      "authorship_tag": "ABX9TyPxraI1BXYpCPbFRoGczdbn",
      "include_colab_link": true
    },
    "kernelspec": {
      "name": "python3",
      "display_name": "Python 3"
    },
    "language_info": {
      "name": "python"
    },
    "accelerator": "GPU"
  },
  "cells": [
    {
      "cell_type": "markdown",
      "metadata": {
        "id": "view-in-github",
        "colab_type": "text"
      },
      "source": [
        "<a href=\"https://colab.research.google.com/github/nandhukumar86/CapstonePneumoniaDetection/blob/main/Vani/Capstoneyolomodel.ipynb\" target=\"_parent\"><img src=\"https://colab.research.google.com/assets/colab-badge.svg\" alt=\"Open In Colab\"/></a>"
      ]
    },
    {
      "cell_type": "code",
      "metadata": {
        "colab": {
          "base_uri": "https://localhost:8080/"
        },
        "id": "LsO7UuEaxKGu",
        "outputId": "5ad2a683-94a0-4816-8f03-a966f2e60bb0"
      },
      "source": [
        "from google.colab import drive\n",
        "drive.mount('/content/drive')"
      ],
      "execution_count": 1,
      "outputs": [
        {
          "output_type": "stream",
          "text": [
            "Mounted at /content/drive\n"
          ],
          "name": "stdout"
        }
      ]
    },
    {
      "cell_type": "code",
      "metadata": {
        "id": "SGX3Tmbvxgub"
      },
      "source": [
        "TrainDir = \"/content/drive/MyDrive/Content/DriveAIML/capstone/jpg_reshaped_train/\"\n",
        "TestDir='/content/drive/MyDrive/Content/DriveAIML/capstone/jpg_reshaped_test/'\n",
        "sublabel='/content/drive/MyDrive/Content/DriveAIML/capstone/stage_2_sample_submission.csv'\n",
        "basepath = \"/content/drive/MyDrive/Content/DriveAIML/capstone/\""
      ],
      "execution_count": 34,
      "outputs": []
    },
    {
      "cell_type": "code",
      "metadata": {
        "id": "TgBJfzkPxg-C"
      },
      "source": [
        "import os, cv2,copy, gc\n",
        "import pickle\n",
        "import glob2 as glob\n",
        "import pandas as pd\n",
        "import numpy as np\n",
        "import datetime\n",
        "from tqdm import tqdm_notebook\n",
        "import seaborn as sns\n",
        "import matplotlib.pyplot as plt\n",
        "from matplotlib.patches import Rectangle\n",
        "from sklearn import preprocessing\n",
        "from sklearn.model_selection import train_test_split\n",
        "import tensorflow as tf\n",
        "from tensorflow.python.client import device_lib\n",
        "from tensorflow import keras\n",
        "from tensorflow.keras.applications import VGG16\n",
        "from tensorflow.keras.utils import to_categorical\n",
        "from tensorflow.keras.preprocessing import image\n",
        "from tensorflow.keras.preprocessing.image import ImageDataGenerator\n",
        "from tensorflow.keras import models, layers, Model, losses\n",
        "from tensorflow.keras.callbacks import EarlyStopping, ModelCheckpoint, ReduceLROnPlateau\n",
        "from tensorflow.keras.layers import Input, Concatenate, Dense, Dropout, Flatten, Activation, BatchNormalization"
      ],
      "execution_count": 4,
      "outputs": []
    },
    {
      "cell_type": "code",
      "metadata": {
        "id": "Rj8yJcN5xj5S"
      },
      "source": [
        "filename =  '/content/drive/MyDrive/Content/DriveAIML/capstone/RezisedLabel.pickle'\n",
        "with open(filename, \"rb\") as input_file:\n",
        "  y_train = pickle.load(input_file)"
      ],
      "execution_count": 5,
      "outputs": []
    },
    {
      "cell_type": "markdown",
      "metadata": {
        "id": "wDjLWHel_2kA"
      },
      "source": [
        ""
      ]
    },
    {
      "cell_type": "code",
      "metadata": {
        "id": "knB88o1_1Aaf"
      },
      "source": [
        "trainimg = glob.glob(TrainDir+'*.jpg') #Getting all images in this folder\n",
        "testimg=glob.glob(TestDir+\"*.jpg\") #"
      ],
      "execution_count": 6,
      "outputs": []
    },
    {
      "cell_type": "code",
      "metadata": {
        "colab": {
          "base_uri": "https://localhost:8080/"
        },
        "id": "bE9CPavU1ZlB",
        "outputId": "9695935e-8182-4d34-b25f-db973b65e59d"
      },
      "source": [
        " len(trainimg)"
      ],
      "execution_count": 7,
      "outputs": [
        {
          "output_type": "execute_result",
          "data": {
            "text/plain": [
              "11740"
            ]
          },
          "metadata": {
            "tags": []
          },
          "execution_count": 7
        }
      ]
    },
    {
      "cell_type": "code",
      "metadata": {
        "colab": {
          "base_uri": "https://localhost:8080/",
          "height": 206
        },
        "id": "HuyrHg4Rxj-n",
        "outputId": "5f69ec4c-99df-48db-84f2-9dafd6cb2014"
      },
      "source": [
        "y_train.head(5)\n"
      ],
      "execution_count": 8,
      "outputs": [
        {
          "output_type": "execute_result",
          "data": {
            "text/html": [
              "<div>\n",
              "<style scoped>\n",
              "    .dataframe tbody tr th:only-of-type {\n",
              "        vertical-align: middle;\n",
              "    }\n",
              "\n",
              "    .dataframe tbody tr th {\n",
              "        vertical-align: top;\n",
              "    }\n",
              "\n",
              "    .dataframe thead th {\n",
              "        text-align: right;\n",
              "    }\n",
              "</style>\n",
              "<table border=\"1\" class=\"dataframe\">\n",
              "  <thead>\n",
              "    <tr style=\"text-align: right;\">\n",
              "      <th></th>\n",
              "      <th>patientId</th>\n",
              "      <th>x</th>\n",
              "      <th>y</th>\n",
              "      <th>width</th>\n",
              "      <th>height</th>\n",
              "      <th>Target</th>\n",
              "      <th>X</th>\n",
              "      <th>Y</th>\n",
              "      <th>Xo</th>\n",
              "      <th>Yo</th>\n",
              "      <th>xo</th>\n",
              "      <th>yo</th>\n",
              "      <th>widtho</th>\n",
              "      <th>heighto</th>\n",
              "    </tr>\n",
              "  </thead>\n",
              "  <tbody>\n",
              "    <tr>\n",
              "      <th>0</th>\n",
              "      <td>0004cfab-14fd-4e49-80ba-63a80b6bddd6</td>\n",
              "      <td>NaN</td>\n",
              "      <td>NaN</td>\n",
              "      <td>NaN</td>\n",
              "      <td>NaN</td>\n",
              "      <td>0</td>\n",
              "      <td>1024</td>\n",
              "      <td>1024</td>\n",
              "      <td>256</td>\n",
              "      <td>256</td>\n",
              "      <td>NaN</td>\n",
              "      <td>NaN</td>\n",
              "      <td>NaN</td>\n",
              "      <td>NaN</td>\n",
              "    </tr>\n",
              "    <tr>\n",
              "      <th>1</th>\n",
              "      <td>00313ee0-9eaa-42f4-b0ab-c148ed3241cd</td>\n",
              "      <td>NaN</td>\n",
              "      <td>NaN</td>\n",
              "      <td>NaN</td>\n",
              "      <td>NaN</td>\n",
              "      <td>0</td>\n",
              "      <td>1024</td>\n",
              "      <td>1024</td>\n",
              "      <td>256</td>\n",
              "      <td>256</td>\n",
              "      <td>NaN</td>\n",
              "      <td>NaN</td>\n",
              "      <td>NaN</td>\n",
              "      <td>NaN</td>\n",
              "    </tr>\n",
              "    <tr>\n",
              "      <th>2</th>\n",
              "      <td>00322d4d-1c29-4943-afc9-b6754be640eb</td>\n",
              "      <td>NaN</td>\n",
              "      <td>NaN</td>\n",
              "      <td>NaN</td>\n",
              "      <td>NaN</td>\n",
              "      <td>0</td>\n",
              "      <td>1024</td>\n",
              "      <td>1024</td>\n",
              "      <td>256</td>\n",
              "      <td>256</td>\n",
              "      <td>NaN</td>\n",
              "      <td>NaN</td>\n",
              "      <td>NaN</td>\n",
              "      <td>NaN</td>\n",
              "    </tr>\n",
              "    <tr>\n",
              "      <th>3</th>\n",
              "      <td>003d8fa0-6bf1-40ed-b54c-ac657f8495c5</td>\n",
              "      <td>NaN</td>\n",
              "      <td>NaN</td>\n",
              "      <td>NaN</td>\n",
              "      <td>NaN</td>\n",
              "      <td>0</td>\n",
              "      <td>1024</td>\n",
              "      <td>1024</td>\n",
              "      <td>256</td>\n",
              "      <td>256</td>\n",
              "      <td>NaN</td>\n",
              "      <td>NaN</td>\n",
              "      <td>NaN</td>\n",
              "      <td>NaN</td>\n",
              "    </tr>\n",
              "    <tr>\n",
              "      <th>4</th>\n",
              "      <td>00436515-870c-4b36-a041-de91049b9ab4</td>\n",
              "      <td>264.0</td>\n",
              "      <td>152.0</td>\n",
              "      <td>213.0</td>\n",
              "      <td>379.0</td>\n",
              "      <td>1</td>\n",
              "      <td>1024</td>\n",
              "      <td>1024</td>\n",
              "      <td>256</td>\n",
              "      <td>256</td>\n",
              "      <td>66.0</td>\n",
              "      <td>38.0</td>\n",
              "      <td>54.0</td>\n",
              "      <td>95.0</td>\n",
              "    </tr>\n",
              "  </tbody>\n",
              "</table>\n",
              "</div>"
            ],
            "text/plain": [
              "                              patientId      x      y  ...    yo  widtho  heighto\n",
              "0  0004cfab-14fd-4e49-80ba-63a80b6bddd6    NaN    NaN  ...   NaN     NaN      NaN\n",
              "1  00313ee0-9eaa-42f4-b0ab-c148ed3241cd    NaN    NaN  ...   NaN     NaN      NaN\n",
              "2  00322d4d-1c29-4943-afc9-b6754be640eb    NaN    NaN  ...   NaN     NaN      NaN\n",
              "3  003d8fa0-6bf1-40ed-b54c-ac657f8495c5    NaN    NaN  ...   NaN     NaN      NaN\n",
              "4  00436515-870c-4b36-a041-de91049b9ab4  264.0  152.0  ...  38.0    54.0     95.0\n",
              "\n",
              "[5 rows x 14 columns]"
            ]
          },
          "metadata": {
            "tags": []
          },
          "execution_count": 8
        }
      ]
    },
    {
      "cell_type": "code",
      "metadata": {
        "colab": {
          "base_uri": "https://localhost:8080/"
        },
        "id": "jCDe0iyyxkB6",
        "outputId": "4d9fb7b7-57db-4291-af9f-a4ec892660b6"
      },
      "source": [
        "y_train.size"
      ],
      "execution_count": 9,
      "outputs": [
        {
          "output_type": "execute_result",
          "data": {
            "text/plain": [
              "423178"
            ]
          },
          "metadata": {
            "tags": []
          },
          "execution_count": 9
        }
      ]
    },
    {
      "cell_type": "code",
      "metadata": {
        "id": "CMJ62ehhyZD8"
      },
      "source": [
        "class_info_df = pd.read_csv(basepath+'stage_2_detailed_class_info.csv')\n",
        "sub_info_df=pd.read_csv(sublabel)#test label or submission "
      ],
      "execution_count": 36,
      "outputs": []
    },
    {
      "cell_type": "code",
      "metadata": {
        "colab": {
          "base_uri": "https://localhost:8080/",
          "height": 417
        },
        "id": "SVcIkN_JyZHb",
        "outputId": "0611e993-605d-4355-8b6e-d7fcd1b1e73d"
      },
      "source": [
        "## Merging the two datasets\n",
        "#In class detailed info dataset are given the detailed information about \n",
        "#the type of positive or negative class associated with a certain patient.\n",
        "#In y_train labels dataset are given the patient ID and the window (x min, y min, width and height of the) \n",
        "#containing evidence of pneumonia\n",
        "train_class_df = y_train.merge(class_info_df, left_on= ('patientId'), right_on=('patientId'), how='inner').drop_duplicates()\n",
        "train_class_df.sample(5)\n",
        "\n",
        "\n"
      ],
      "execution_count": 48,
      "outputs": [
        {
          "output_type": "execute_result",
          "data": {
            "text/html": [
              "<div>\n",
              "<style scoped>\n",
              "    .dataframe tbody tr th:only-of-type {\n",
              "        vertical-align: middle;\n",
              "    }\n",
              "\n",
              "    .dataframe tbody tr th {\n",
              "        vertical-align: top;\n",
              "    }\n",
              "\n",
              "    .dataframe thead th {\n",
              "        text-align: right;\n",
              "    }\n",
              "</style>\n",
              "<table border=\"1\" class=\"dataframe\">\n",
              "  <thead>\n",
              "    <tr style=\"text-align: right;\">\n",
              "      <th></th>\n",
              "      <th>patientId</th>\n",
              "      <th>x</th>\n",
              "      <th>y</th>\n",
              "      <th>width</th>\n",
              "      <th>height</th>\n",
              "      <th>Target</th>\n",
              "      <th>X</th>\n",
              "      <th>Y</th>\n",
              "      <th>Xo</th>\n",
              "      <th>Yo</th>\n",
              "      <th>xo</th>\n",
              "      <th>yo</th>\n",
              "      <th>widtho</th>\n",
              "      <th>heighto</th>\n",
              "      <th>class</th>\n",
              "    </tr>\n",
              "  </thead>\n",
              "  <tbody>\n",
              "    <tr>\n",
              "      <th>7366</th>\n",
              "      <td>45e92e87-9e8e-4783-ba97-c032c17864da</td>\n",
              "      <td>124.0</td>\n",
              "      <td>252.0</td>\n",
              "      <td>173.0</td>\n",
              "      <td>290.0</td>\n",
              "      <td>1</td>\n",
              "      <td>1024</td>\n",
              "      <td>1024</td>\n",
              "      <td>256</td>\n",
              "      <td>256</td>\n",
              "      <td>31.0</td>\n",
              "      <td>63.0</td>\n",
              "      <td>44.0</td>\n",
              "      <td>73.0</td>\n",
              "      <td>Lung Opacity</td>\n",
              "    </tr>\n",
              "    <tr>\n",
              "      <th>30222</th>\n",
              "      <td>d76d709c-ec60-4c66-9002-2d0420b80073</td>\n",
              "      <td>NaN</td>\n",
              "      <td>NaN</td>\n",
              "      <td>NaN</td>\n",
              "      <td>NaN</td>\n",
              "      <td>0</td>\n",
              "      <td>1024</td>\n",
              "      <td>1024</td>\n",
              "      <td>256</td>\n",
              "      <td>256</td>\n",
              "      <td>NaN</td>\n",
              "      <td>NaN</td>\n",
              "      <td>NaN</td>\n",
              "      <td>NaN</td>\n",
              "      <td>Normal</td>\n",
              "    </tr>\n",
              "    <tr>\n",
              "      <th>31721</th>\n",
              "      <td>e3314152-aa5f-4dff-93f8-93dc0bcbe57b</td>\n",
              "      <td>NaN</td>\n",
              "      <td>NaN</td>\n",
              "      <td>NaN</td>\n",
              "      <td>NaN</td>\n",
              "      <td>0</td>\n",
              "      <td>1024</td>\n",
              "      <td>1024</td>\n",
              "      <td>256</td>\n",
              "      <td>256</td>\n",
              "      <td>NaN</td>\n",
              "      <td>NaN</td>\n",
              "      <td>NaN</td>\n",
              "      <td>NaN</td>\n",
              "      <td>No Lung Opacity / Not Normal</td>\n",
              "    </tr>\n",
              "    <tr>\n",
              "      <th>8523</th>\n",
              "      <td>4e0296ae-1440-4c05-957e-3177134ee108</td>\n",
              "      <td>281.0</td>\n",
              "      <td>288.0</td>\n",
              "      <td>269.0</td>\n",
              "      <td>398.0</td>\n",
              "      <td>1</td>\n",
              "      <td>1024</td>\n",
              "      <td>1024</td>\n",
              "      <td>256</td>\n",
              "      <td>256</td>\n",
              "      <td>71.0</td>\n",
              "      <td>72.0</td>\n",
              "      <td>68.0</td>\n",
              "      <td>100.0</td>\n",
              "      <td>Lung Opacity</td>\n",
              "    </tr>\n",
              "    <tr>\n",
              "      <th>17254</th>\n",
              "      <td>8a345a98-7f22-4a81-8c21-3541831c3c1c</td>\n",
              "      <td>NaN</td>\n",
              "      <td>NaN</td>\n",
              "      <td>NaN</td>\n",
              "      <td>NaN</td>\n",
              "      <td>0</td>\n",
              "      <td>1024</td>\n",
              "      <td>1024</td>\n",
              "      <td>256</td>\n",
              "      <td>256</td>\n",
              "      <td>NaN</td>\n",
              "      <td>NaN</td>\n",
              "      <td>NaN</td>\n",
              "      <td>NaN</td>\n",
              "      <td>No Lung Opacity / Not Normal</td>\n",
              "    </tr>\n",
              "  </tbody>\n",
              "</table>\n",
              "</div>"
            ],
            "text/plain": [
              "                                  patientId  ...                         class\n",
              "7366   45e92e87-9e8e-4783-ba97-c032c17864da  ...                  Lung Opacity\n",
              "30222  d76d709c-ec60-4c66-9002-2d0420b80073  ...                        Normal\n",
              "31721  e3314152-aa5f-4dff-93f8-93dc0bcbe57b  ...  No Lung Opacity / Not Normal\n",
              "8523   4e0296ae-1440-4c05-957e-3177134ee108  ...                  Lung Opacity\n",
              "17254  8a345a98-7f22-4a81-8c21-3541831c3c1c  ...  No Lung Opacity / Not Normal\n",
              "\n",
              "[5 rows x 15 columns]"
            ]
          },
          "metadata": {
            "tags": []
          },
          "execution_count": 48
        }
      ]
    },
    {
      "cell_type": "code",
      "metadata": {
        "colab": {
          "base_uri": "https://localhost:8080/"
        },
        "id": "KAhldo8d0O71",
        "outputId": "2157ba60-ea58-438f-fd43-8d2ec6ddd30b"
      },
      "source": [
        "#reading image 500 samples traindir\n",
        "sampNum = 500 # Number of samples to import\n",
        "X = [] # Empty to read training images\n",
        "x1=[]\n",
        "print(type(x1))\n",
        "print(\"Before sampling\\n\")\n",
        "print(\"Total training unique patient ids: \",train_class_df['patientId'].nunique())\n",
        "print(\"Number of images in train set:\", len(os.listdir(TrainDir)))\n",
        "print(\"\\n\")\n",
        "print(\"Total training labels {}\" .format(train_class_df.shape))\n",
        "#display(distTab(train_class_df, \"Target\")) # Dsitribution of target before sampling\n",
        "\n",
        "print(\"\\n\\nAfter sampling\\n\")\n",
        "Y = train_class_df.sample(n=sampNum, random_state=2) # Sampling\n",
        "Y.reset_index(drop=True, inplace=True)\n",
        "print(\"Total sampled training labels {}\" .format(Y.shape))\n",
        "#display(distTab(Y.sample(n=sampNum), \"Target\"))  # Dsitribution of target after sampling\n",
        "\n",
        "for indx in Y.patientId:\n",
        "    \n",
        "    try:\n",
        "       #print(indx)\n",
        "       filepath=TrainDir+indx+'.jpg'\n",
        "       image = cv2.imread(filepath)\n",
        "       X.append(indx)\n",
        "       x1.append(image)\n",
        "      # print(filepath)\n",
        "    except: \n",
        "        continue\n",
        "zipbObj = zip(X, x1)        \n",
        " \n",
        "\n",
        "X=dict(zipbObj)#takes zip object\n",
        "print(\"\\n\\nTotal sampled training images {}\" .format(len(X)))\n",
        "Y = Y[Y.patientId.isin(X.keys())]\n",
        "print(\"Total training labels {}\" .format(Y.shape))"
      ],
      "execution_count": 49,
      "outputs": [
        {
          "output_type": "stream",
          "text": [
            "<class 'list'>\n",
            "Before sampling\n",
            "\n",
            "Total training unique patient ids:  26684\n",
            "Number of images in train set: 11740\n",
            "\n",
            "\n",
            "Total training labels (30227, 15)\n",
            "\n",
            "\n",
            "After sampling\n",
            "\n",
            "Total sampled training labels (500, 15)\n",
            "\n",
            "\n",
            "Total sampled training images 500\n",
            "Total training labels (500, 15)\n"
          ],
          "name": "stdout"
        }
      ]
    },
    {
      "cell_type": "code",
      "metadata": {
        "colab": {
          "base_uri": "https://localhost:8080/"
        },
        "id": "UoDQeqijuLIu",
        "outputId": "0c883574-3ed3-492e-f3a7-d4eb62e2e47e"
      },
      "source": [
        "#reading image 100 samples test dir\n",
        "sampNum = 10 # Number of samples to import\n",
        "Xtest = [] # Empty to read training images\n",
        "x1test=[] \n",
        "#print(\"Total training unique patient ids: \",train_class_df['patientId'].nunique())\n",
        "print(\"Total training unique patient ids: \",sub_info_df['patientId'].nunique())\n",
        "print(\"Number of images in test set:\", len(os.listdir(TestDir)))\n",
        " \n",
        "print(\"\\n\")\n",
        "print(\"Total training labels {}\" .format(sub_info_df.shape))\n",
        "#print(\"Total training labels {}\" .format(train_class_df.shape))\n",
        "#Ytest = train_class_df.sample(n=sampNum, random_state=2) # Sampling\n",
        "Ytest = sub_info_df.sample(n=sampNum, random_state=2) # Sampling\n",
        "Ytest.reset_index(drop=True, inplace=True)\n",
        "print(\"Total sampled testing labels {}\" .format(Ytest.shape))\n",
        "#display(distTab(Y.sample(n=sampNum), \"Target\"))  # Dsitribution of target after sampling\n",
        "\n",
        "for indx1 in Ytest.patientId:\n",
        "    \n",
        "    try:\n",
        "      # print(indx1)\n",
        "       filepath1=TestDir+indx1+'.jpg'\n",
        "       image1 = cv2.imread(filepath1)\n",
        "       Xtest.append(indx1)\n",
        "       x1test.append(image1)\n",
        "      # print(filepath1)\n",
        "    except: \n",
        "        continue\n",
        "zipbObj1 = zip(Xtest, x1test)        \n",
        " \n",
        "\n",
        "Xtest=dict(zipbObj1)#takes list object\n",
        "#print(Xtest)\n",
        "print(\"\\n\\nTotal sampled test images {}\" .format(len(Xtest)))\n",
        "Ytest = Ytest[Ytest.patientId.isin(Xtest.keys())]\n",
        "print(\"Total test labels {}\" .format(Ytest.shape))"
      ],
      "execution_count": 54,
      "outputs": [
        {
          "output_type": "stream",
          "text": [
            "Total training unique patient ids:  3000\n",
            "Number of images in test set: 2871\n",
            "\n",
            "\n",
            "Total training labels (3000, 2)\n",
            "Total sampled testing labels (10, 2)\n",
            "\n",
            "\n",
            "Total sampled test images 10\n",
            "Total test labels (10, 2)\n"
          ],
          "name": "stdout"
        }
      ]
    },
    {
      "cell_type": "code",
      "metadata": {
        "colab": {
          "base_uri": "https://localhost:8080/"
        },
        "id": "q9crb-bARKlo",
        "outputId": "3414ff9a-afd8-45c6-b890-3f4fe17eff7a"
      },
      "source": [
        "# Shape of images\n",
        "print(len(X))\n",
        "print(len(Xtest))\n",
        "print(len(Y))\n",
        "print(len(Ytest))\n"
      ],
      "execution_count": 52,
      "outputs": [
        {
          "output_type": "stream",
          "text": [
            "500\n",
            "10\n",
            "500\n",
            "10\n"
          ],
          "name": "stdout"
        }
      ]
    },
    {
      "cell_type": "code",
      "metadata": {
        "id": "voEK2fN724Dv"
      },
      "source": [
        "Xdf = pd.DataFrame({'patientId':X.keys(),\n",
        "                   'imageArray':X.values()})\n",
        "dattrain = Y.merge(Xdf, on='patientId', how='left')\n",
        "\n",
        "#test\n",
        "Xtestdf = pd.DataFrame({'patientId':Xtest.keys(),\n",
        "                   'imageArray':Xtest.values()})\n",
        "dattest = Ytest.merge(Xtestdf, on='patientId', how='left')"
      ],
      "execution_count": 53,
      "outputs": []
    },
    {
      "cell_type": "code",
      "metadata": {
        "colab": {
          "base_uri": "https://localhost:8080/",
          "height": 852
        },
        "id": "P-CkAjYf4Ap6",
        "outputId": "0fa1539a-0be7-4884-fdaa-65588137c789"
      },
      "source": [
        "dattrain.head(10)"
      ],
      "execution_count": 40,
      "outputs": [
        {
          "output_type": "execute_result",
          "data": {
            "text/html": [
              "<div>\n",
              "<style scoped>\n",
              "    .dataframe tbody tr th:only-of-type {\n",
              "        vertical-align: middle;\n",
              "    }\n",
              "\n",
              "    .dataframe tbody tr th {\n",
              "        vertical-align: top;\n",
              "    }\n",
              "\n",
              "    .dataframe thead th {\n",
              "        text-align: right;\n",
              "    }\n",
              "</style>\n",
              "<table border=\"1\" class=\"dataframe\">\n",
              "  <thead>\n",
              "    <tr style=\"text-align: right;\">\n",
              "      <th></th>\n",
              "      <th>patientId</th>\n",
              "      <th>x</th>\n",
              "      <th>y</th>\n",
              "      <th>width</th>\n",
              "      <th>height</th>\n",
              "      <th>Target</th>\n",
              "      <th>X</th>\n",
              "      <th>Y</th>\n",
              "      <th>Xo</th>\n",
              "      <th>Yo</th>\n",
              "      <th>xo</th>\n",
              "      <th>yo</th>\n",
              "      <th>widtho</th>\n",
              "      <th>heighto</th>\n",
              "      <th>class</th>\n",
              "      <th>imageArray</th>\n",
              "    </tr>\n",
              "  </thead>\n",
              "  <tbody>\n",
              "    <tr>\n",
              "      <th>0</th>\n",
              "      <td>e4dd25aa-7839-4e0e-a984-c7cb1b31d2c7</td>\n",
              "      <td>NaN</td>\n",
              "      <td>NaN</td>\n",
              "      <td>NaN</td>\n",
              "      <td>NaN</td>\n",
              "      <td>0</td>\n",
              "      <td>1024</td>\n",
              "      <td>1024</td>\n",
              "      <td>256</td>\n",
              "      <td>256</td>\n",
              "      <td>NaN</td>\n",
              "      <td>NaN</td>\n",
              "      <td>NaN</td>\n",
              "      <td>NaN</td>\n",
              "      <td>No Lung Opacity / Not Normal</td>\n",
              "      <td>[[[1, 1, 1], [1, 1, 1], [1, 1, 1], [1, 1, 1], ...</td>\n",
              "    </tr>\n",
              "    <tr>\n",
              "      <th>1</th>\n",
              "      <td>5c389c6d-2abc-43a9-91e7-847f85bf6ff1</td>\n",
              "      <td>NaN</td>\n",
              "      <td>NaN</td>\n",
              "      <td>NaN</td>\n",
              "      <td>NaN</td>\n",
              "      <td>0</td>\n",
              "      <td>1024</td>\n",
              "      <td>1024</td>\n",
              "      <td>256</td>\n",
              "      <td>256</td>\n",
              "      <td>NaN</td>\n",
              "      <td>NaN</td>\n",
              "      <td>NaN</td>\n",
              "      <td>NaN</td>\n",
              "      <td>Normal</td>\n",
              "      <td>None</td>\n",
              "    </tr>\n",
              "    <tr>\n",
              "      <th>2</th>\n",
              "      <td>324f9ed1-09e0-483e-9bdd-d139e77acb85</td>\n",
              "      <td>NaN</td>\n",
              "      <td>NaN</td>\n",
              "      <td>NaN</td>\n",
              "      <td>NaN</td>\n",
              "      <td>0</td>\n",
              "      <td>1024</td>\n",
              "      <td>1024</td>\n",
              "      <td>256</td>\n",
              "      <td>256</td>\n",
              "      <td>NaN</td>\n",
              "      <td>NaN</td>\n",
              "      <td>NaN</td>\n",
              "      <td>NaN</td>\n",
              "      <td>No Lung Opacity / Not Normal</td>\n",
              "      <td>None</td>\n",
              "    </tr>\n",
              "    <tr>\n",
              "      <th>3</th>\n",
              "      <td>4ac6590a-ecdb-47b7-92f3-cfc6fa405955</td>\n",
              "      <td>NaN</td>\n",
              "      <td>NaN</td>\n",
              "      <td>NaN</td>\n",
              "      <td>NaN</td>\n",
              "      <td>0</td>\n",
              "      <td>1024</td>\n",
              "      <td>1024</td>\n",
              "      <td>256</td>\n",
              "      <td>256</td>\n",
              "      <td>NaN</td>\n",
              "      <td>NaN</td>\n",
              "      <td>NaN</td>\n",
              "      <td>NaN</td>\n",
              "      <td>Normal</td>\n",
              "      <td>None</td>\n",
              "    </tr>\n",
              "    <tr>\n",
              "      <th>4</th>\n",
              "      <td>7213e146-4efd-40e6-ab88-a9e7a9c8c25c</td>\n",
              "      <td>NaN</td>\n",
              "      <td>NaN</td>\n",
              "      <td>NaN</td>\n",
              "      <td>NaN</td>\n",
              "      <td>0</td>\n",
              "      <td>1024</td>\n",
              "      <td>1024</td>\n",
              "      <td>256</td>\n",
              "      <td>256</td>\n",
              "      <td>NaN</td>\n",
              "      <td>NaN</td>\n",
              "      <td>NaN</td>\n",
              "      <td>NaN</td>\n",
              "      <td>Normal</td>\n",
              "      <td>None</td>\n",
              "    </tr>\n",
              "    <tr>\n",
              "      <th>5</th>\n",
              "      <td>229e6aef-1467-49a2-9158-49fd8acea0cf</td>\n",
              "      <td>NaN</td>\n",
              "      <td>NaN</td>\n",
              "      <td>NaN</td>\n",
              "      <td>NaN</td>\n",
              "      <td>0</td>\n",
              "      <td>1024</td>\n",
              "      <td>1024</td>\n",
              "      <td>256</td>\n",
              "      <td>256</td>\n",
              "      <td>NaN</td>\n",
              "      <td>NaN</td>\n",
              "      <td>NaN</td>\n",
              "      <td>NaN</td>\n",
              "      <td>Normal</td>\n",
              "      <td>None</td>\n",
              "    </tr>\n",
              "    <tr>\n",
              "      <th>6</th>\n",
              "      <td>8c66c1c4-02c3-47ff-b2af-748370dd8b7e</td>\n",
              "      <td>NaN</td>\n",
              "      <td>NaN</td>\n",
              "      <td>NaN</td>\n",
              "      <td>NaN</td>\n",
              "      <td>0</td>\n",
              "      <td>1024</td>\n",
              "      <td>1024</td>\n",
              "      <td>256</td>\n",
              "      <td>256</td>\n",
              "      <td>NaN</td>\n",
              "      <td>NaN</td>\n",
              "      <td>NaN</td>\n",
              "      <td>NaN</td>\n",
              "      <td>No Lung Opacity / Not Normal</td>\n",
              "      <td>None</td>\n",
              "    </tr>\n",
              "    <tr>\n",
              "      <th>7</th>\n",
              "      <td>ef08ab22-8cd0-4f63-af8a-c839a94916db</td>\n",
              "      <td>NaN</td>\n",
              "      <td>NaN</td>\n",
              "      <td>NaN</td>\n",
              "      <td>NaN</td>\n",
              "      <td>0</td>\n",
              "      <td>1024</td>\n",
              "      <td>1024</td>\n",
              "      <td>256</td>\n",
              "      <td>256</td>\n",
              "      <td>NaN</td>\n",
              "      <td>NaN</td>\n",
              "      <td>NaN</td>\n",
              "      <td>NaN</td>\n",
              "      <td>No Lung Opacity / Not Normal</td>\n",
              "      <td>[[[0, 0, 0], [0, 0, 0], [0, 0, 0], [0, 0, 0], ...</td>\n",
              "    </tr>\n",
              "    <tr>\n",
              "      <th>8</th>\n",
              "      <td>ea3347c3-e4eb-4c00-927b-176ddd296f72</td>\n",
              "      <td>NaN</td>\n",
              "      <td>NaN</td>\n",
              "      <td>NaN</td>\n",
              "      <td>NaN</td>\n",
              "      <td>0</td>\n",
              "      <td>1024</td>\n",
              "      <td>1024</td>\n",
              "      <td>256</td>\n",
              "      <td>256</td>\n",
              "      <td>NaN</td>\n",
              "      <td>NaN</td>\n",
              "      <td>NaN</td>\n",
              "      <td>NaN</td>\n",
              "      <td>Normal</td>\n",
              "      <td>[[[255, 255, 255], [253, 253, 253], [254, 254,...</td>\n",
              "    </tr>\n",
              "    <tr>\n",
              "      <th>9</th>\n",
              "      <td>1ed2052a-c208-40ca-8ccc-3378aec6f929</td>\n",
              "      <td>NaN</td>\n",
              "      <td>NaN</td>\n",
              "      <td>NaN</td>\n",
              "      <td>NaN</td>\n",
              "      <td>0</td>\n",
              "      <td>1024</td>\n",
              "      <td>1024</td>\n",
              "      <td>256</td>\n",
              "      <td>256</td>\n",
              "      <td>NaN</td>\n",
              "      <td>NaN</td>\n",
              "      <td>NaN</td>\n",
              "      <td>NaN</td>\n",
              "      <td>No Lung Opacity / Not Normal</td>\n",
              "      <td>None</td>\n",
              "    </tr>\n",
              "  </tbody>\n",
              "</table>\n",
              "</div>"
            ],
            "text/plain": [
              "                              patientId  ...                                         imageArray\n",
              "0  e4dd25aa-7839-4e0e-a984-c7cb1b31d2c7  ...  [[[1, 1, 1], [1, 1, 1], [1, 1, 1], [1, 1, 1], ...\n",
              "1  5c389c6d-2abc-43a9-91e7-847f85bf6ff1  ...                                               None\n",
              "2  324f9ed1-09e0-483e-9bdd-d139e77acb85  ...                                               None\n",
              "3  4ac6590a-ecdb-47b7-92f3-cfc6fa405955  ...                                               None\n",
              "4  7213e146-4efd-40e6-ab88-a9e7a9c8c25c  ...                                               None\n",
              "5  229e6aef-1467-49a2-9158-49fd8acea0cf  ...                                               None\n",
              "6  8c66c1c4-02c3-47ff-b2af-748370dd8b7e  ...                                               None\n",
              "7  ef08ab22-8cd0-4f63-af8a-c839a94916db  ...  [[[0, 0, 0], [0, 0, 0], [0, 0, 0], [0, 0, 0], ...\n",
              "8  ea3347c3-e4eb-4c00-927b-176ddd296f72  ...  [[[255, 255, 255], [253, 253, 253], [254, 254,...\n",
              "9  1ed2052a-c208-40ca-8ccc-3378aec6f929  ...                                               None\n",
              "\n",
              "[10 rows x 16 columns]"
            ]
          },
          "metadata": {
            "tags": []
          },
          "execution_count": 40
        }
      ]
    },
    {
      "cell_type": "code",
      "metadata": {
        "colab": {
          "base_uri": "https://localhost:8080/",
          "height": 363
        },
        "id": "H0dHvXnUZTwe",
        "outputId": "c098ce18-c2a8-4a35-b95e-622f4e0c1036"
      },
      "source": [
        " dattest.head(10)"
      ],
      "execution_count": 41,
      "outputs": [
        {
          "output_type": "execute_result",
          "data": {
            "text/html": [
              "<div>\n",
              "<style scoped>\n",
              "    .dataframe tbody tr th:only-of-type {\n",
              "        vertical-align: middle;\n",
              "    }\n",
              "\n",
              "    .dataframe tbody tr th {\n",
              "        vertical-align: top;\n",
              "    }\n",
              "\n",
              "    .dataframe thead th {\n",
              "        text-align: right;\n",
              "    }\n",
              "</style>\n",
              "<table border=\"1\" class=\"dataframe\">\n",
              "  <thead>\n",
              "    <tr style=\"text-align: right;\">\n",
              "      <th></th>\n",
              "      <th>patientId</th>\n",
              "      <th>PredictionString</th>\n",
              "      <th>imageArray</th>\n",
              "    </tr>\n",
              "  </thead>\n",
              "  <tbody>\n",
              "    <tr>\n",
              "      <th>0</th>\n",
              "      <td>1cb71dda-47f2-44e0-ad42-2737ec3f43b6</td>\n",
              "      <td>0.5 0 0 100 100</td>\n",
              "      <td>[[[0, 0, 0], [0, 0, 0], [0, 0, 0], [0, 0, 0], ...</td>\n",
              "    </tr>\n",
              "    <tr>\n",
              "      <th>1</th>\n",
              "      <td>0f9f2955-cf07-40e3-9624-6d84654c9fb9</td>\n",
              "      <td>0.5 0 0 100 100</td>\n",
              "      <td>[[[4, 4, 4], [6, 6, 6], [7, 7, 7], [7, 7, 7], ...</td>\n",
              "    </tr>\n",
              "    <tr>\n",
              "      <th>2</th>\n",
              "      <td>03675081-3f27-4e22-a1dd-6cccd8c4cc92</td>\n",
              "      <td>0.5 0 0 100 100</td>\n",
              "      <td>[[[0, 0, 0], [0, 0, 0], [0, 0, 0], [0, 0, 0], ...</td>\n",
              "    </tr>\n",
              "    <tr>\n",
              "      <th>3</th>\n",
              "      <td>30fe50ee-4108-42fe-8dfd-27b1e61dccf0</td>\n",
              "      <td>0.5 0 0 100 100</td>\n",
              "      <td>[[[1, 1, 1], [1, 1, 1], [1, 1, 1], [1, 1, 1], ...</td>\n",
              "    </tr>\n",
              "    <tr>\n",
              "      <th>4</th>\n",
              "      <td>1cb7194e-f761-41b7-8e6f-d5abdbfb270c</td>\n",
              "      <td>0.5 0 0 100 100</td>\n",
              "      <td>[[[217, 217, 217], [213, 213, 213], [211, 211,...</td>\n",
              "    </tr>\n",
              "    <tr>\n",
              "      <th>5</th>\n",
              "      <td>1e585120-583c-4d50-be9b-8ffda0f933a9</td>\n",
              "      <td>0.5 0 0 100 100</td>\n",
              "      <td>[[[130, 130, 130], [124, 124, 124], [117, 117,...</td>\n",
              "    </tr>\n",
              "    <tr>\n",
              "      <th>6</th>\n",
              "      <td>2d17ce84-86f9-4153-8d91-3a75ffe303cc</td>\n",
              "      <td>0.5 0 0 100 100</td>\n",
              "      <td>[[[70, 70, 70], [28, 28, 28], [11, 11, 11], [9...</td>\n",
              "    </tr>\n",
              "    <tr>\n",
              "      <th>7</th>\n",
              "      <td>10aea5ae-b0be-48e1-87cd-477c15a85772</td>\n",
              "      <td>0.5 0 0 100 100</td>\n",
              "      <td>[[[0, 0, 0], [0, 0, 0], [0, 0, 0], [1, 1, 1], ...</td>\n",
              "    </tr>\n",
              "    <tr>\n",
              "      <th>8</th>\n",
              "      <td>048a59f8-9022-4598-8424-f8b0250a2e2a</td>\n",
              "      <td>0.5 0 0 100 100</td>\n",
              "      <td>[[[3, 3, 3], [3, 3, 3], [3, 3, 3], [3, 3, 3], ...</td>\n",
              "    </tr>\n",
              "    <tr>\n",
              "      <th>9</th>\n",
              "      <td>c04e3eeb-80ec-46f1-81e4-4186ece11b3e</td>\n",
              "      <td>0.5 0 0 100 100</td>\n",
              "      <td>[[[2, 2, 2], [2, 2, 2], [2, 2, 2], [2, 2, 2], ...</td>\n",
              "    </tr>\n",
              "  </tbody>\n",
              "</table>\n",
              "</div>"
            ],
            "text/plain": [
              "                              patientId  ...                                         imageArray\n",
              "0  1cb71dda-47f2-44e0-ad42-2737ec3f43b6  ...  [[[0, 0, 0], [0, 0, 0], [0, 0, 0], [0, 0, 0], ...\n",
              "1  0f9f2955-cf07-40e3-9624-6d84654c9fb9  ...  [[[4, 4, 4], [6, 6, 6], [7, 7, 7], [7, 7, 7], ...\n",
              "2  03675081-3f27-4e22-a1dd-6cccd8c4cc92  ...  [[[0, 0, 0], [0, 0, 0], [0, 0, 0], [0, 0, 0], ...\n",
              "3  30fe50ee-4108-42fe-8dfd-27b1e61dccf0  ...  [[[1, 1, 1], [1, 1, 1], [1, 1, 1], [1, 1, 1], ...\n",
              "4  1cb7194e-f761-41b7-8e6f-d5abdbfb270c  ...  [[[217, 217, 217], [213, 213, 213], [211, 211,...\n",
              "5  1e585120-583c-4d50-be9b-8ffda0f933a9  ...  [[[130, 130, 130], [124, 124, 124], [117, 117,...\n",
              "6  2d17ce84-86f9-4153-8d91-3a75ffe303cc  ...  [[[70, 70, 70], [28, 28, 28], [11, 11, 11], [9...\n",
              "7  10aea5ae-b0be-48e1-87cd-477c15a85772  ...  [[[0, 0, 0], [0, 0, 0], [0, 0, 0], [1, 1, 1], ...\n",
              "8  048a59f8-9022-4598-8424-f8b0250a2e2a  ...  [[[3, 3, 3], [3, 3, 3], [3, 3, 3], [3, 3, 3], ...\n",
              "9  c04e3eeb-80ec-46f1-81e4-4186ece11b3e  ...  [[[2, 2, 2], [2, 2, 2], [2, 2, 2], [2, 2, 2], ...\n",
              "\n",
              "[10 rows x 3 columns]"
            ]
          },
          "metadata": {
            "tags": []
          },
          "execution_count": 41
        }
      ]
    },
    {
      "cell_type": "code",
      "metadata": {
        "id": "vhfaCayKBSR6"
      },
      "source": [
        "#\n",
        "test_class_df = y_train.merge(sub_info_df, left_on= ('patientId'), right_on=('patientId'), how='inner').drop_duplicates()\n",
        "train_class_df.describe"
      ],
      "execution_count": null,
      "outputs": []
    },
    {
      "cell_type": "code",
      "metadata": {
        "id": "qYdY9QZBZTzG"
      },
      "source": [
        "\n",
        "\n",
        "\n",
        "\n"
      ],
      "execution_count": 57,
      "outputs": []
    },
    {
      "cell_type": "code",
      "metadata": {
        "id": "0x3-MPvEZT2Z"
      },
      "source": [
        ""
      ],
      "execution_count": 57,
      "outputs": []
    },
    {
      "cell_type": "code",
      "metadata": {
        "id": "LXIhXa4NZSqa"
      },
      "source": [
        ""
      ],
      "execution_count": 57,
      "outputs": []
    },
    {
      "cell_type": "code",
      "metadata": {
        "id": "mg1F1UDQZE6x"
      },
      "source": [
        ""
      ],
      "execution_count": 57,
      "outputs": []
    },
    {
      "cell_type": "code",
      "metadata": {
        "id": "ycAPSuz6SJFA"
      },
      "source": [
        "Xdf = pd.DataFrame({'patientId':X.keys(),\n",
        "                   'imageArray':X.values()})\n",
        "\n",
        "dat = Y.merge(Xdf, on='patientId', how='left')\n",
        "\n"
      ],
      "execution_count": 58,
      "outputs": []
    },
    {
      "cell_type": "code",
      "metadata": {
        "id": "7BggfN0cSJwX"
      },
      "source": [
        ""
      ],
      "execution_count": 58,
      "outputs": []
    }
  ]
}