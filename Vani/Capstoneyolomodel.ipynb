{
  "nbformat": 4,
  "nbformat_minor": 0,
  "metadata": {
    "colab": {
      "name": "Capstoneyolomodel.ipynb",
      "provenance": [],
      "authorship_tag": "ABX9TyPYJHSINUp2mXvErRP0F8du",
      "include_colab_link": true
    },
    "kernelspec": {
      "name": "python3",
      "display_name": "Python 3"
    },
    "language_info": {
      "name": "python"
    }
  },
  "cells": [
    {
      "cell_type": "markdown",
      "metadata": {
        "id": "view-in-github",
        "colab_type": "text"
      },
      "source": [
        "<a href=\"https://colab.research.google.com/github/nandhukumar86/CapstonePneumoniaDetection/blob/main/Vani/Capstoneyolomodel.ipynb\" target=\"_parent\"><img src=\"https://colab.research.google.com/assets/colab-badge.svg\" alt=\"Open In Colab\"/></a>"
      ]
    },
    {
      "cell_type": "code",
      "metadata": {
        "colab": {
          "base_uri": "https://localhost:8080/"
        },
        "id": "LsO7UuEaxKGu",
        "outputId": "a46e70ac-e5a9-4f48-d400-28e7c3008fe7"
      },
      "source": [
        "from google.colab import drive\n",
        "drive.mount('/content/drive')"
      ],
      "execution_count": 1,
      "outputs": [
        {
          "output_type": "stream",
          "text": [
            "Mounted at /content/drive\n"
          ],
          "name": "stdout"
        }
      ]
    },
    {
      "cell_type": "code",
      "metadata": {
        "id": "SGX3Tmbvxgub"
      },
      "source": [
        "TrainDir = \"/content/drive/MyDrive/Content/DriveAIML/capstone/jpg_reshaped_train/\"\n",
        "TestDir='/content/drive/MyDrive/Content/DriveAIML/capstone/jpg_reshaped_test/'\n",
        "basepath = \"/content/drive/MyDrive/Content/DriveAIML/capstone/\""
      ],
      "execution_count": 2,
      "outputs": []
    },
    {
      "cell_type": "code",
      "metadata": {
        "id": "TgBJfzkPxg-C"
      },
      "source": [
        "import os, cv2,copy, gc\n",
        "import pickle\n",
        "import glob2 as glob\n",
        "import pandas as pd\n",
        "import numpy as np\n",
        "import datetime\n",
        "from tqdm import tqdm_notebook\n",
        "import seaborn as sns\n",
        "import matplotlib.pyplot as plt\n",
        "from matplotlib.patches import Rectangle\n",
        "from sklearn import preprocessing\n",
        "from sklearn.model_selection import train_test_split\n",
        "import tensorflow as tf\n",
        "from tensorflow.python.client import device_lib\n",
        "from tensorflow import keras\n",
        "from tensorflow.keras.applications import VGG16\n",
        "from tensorflow.keras.utils import to_categorical\n",
        "from tensorflow.keras.preprocessing import image\n",
        "from tensorflow.keras.preprocessing.image import ImageDataGenerator\n",
        "from tensorflow.keras import models, layers, Model, losses\n",
        "from tensorflow.keras.callbacks import EarlyStopping, ModelCheckpoint, ReduceLROnPlateau\n",
        "from tensorflow.keras.layers import Input, Concatenate, Dense, Dropout, Flatten, Activation, BatchNormalization"
      ],
      "execution_count": 3,
      "outputs": []
    },
    {
      "cell_type": "code",
      "metadata": {
        "colab": {
          "base_uri": "https://localhost:8080/"
        },
        "id": "pWV63p2v71ZQ",
        "outputId": "7e6351f2-a380-4a1c-c1d7-57da75f3be42"
      },
      "source": [
        "!pip install pydicom"
      ],
      "execution_count": 58,
      "outputs": [
        {
          "output_type": "stream",
          "text": [
            "Collecting pydicom\n",
            "\u001b[?25l  Downloading https://files.pythonhosted.org/packages/f4/15/df16546bc59bfca390cf072d473fb2c8acd4231636f64356593a63137e55/pydicom-2.1.2-py3-none-any.whl (1.9MB)\n",
            "\u001b[K     |████████████████████████████████| 1.9MB 4.3MB/s \n",
            "\u001b[?25hInstalling collected packages: pydicom\n",
            "Successfully installed pydicom-2.1.2\n"
          ],
          "name": "stdout"
        }
      ]
    },
    {
      "cell_type": "code",
      "metadata": {
        "id": "Rj8yJcN5xj5S"
      },
      "source": [
        "filename =  '/content/drive/MyDrive/Content/DriveAIML/capstone/RezisedLabel.pickle'\n",
        "with open(filename, \"rb\") as input_file:\n",
        "  y_train = pickle.load(input_file)"
      ],
      "execution_count": 4,
      "outputs": []
    },
    {
      "cell_type": "code",
      "metadata": {
        "id": "knB88o1_1Aaf"
      },
      "source": [
        "trainimg = glob.glob(TrainDir+'*.jpg') #Getting all images in this folder\n",
        "testimg=glob.glob(TestDir+\"*.jpg\") #"
      ],
      "execution_count": 5,
      "outputs": []
    },
    {
      "cell_type": "code",
      "metadata": {
        "colab": {
          "base_uri": "https://localhost:8080/"
        },
        "id": "bE9CPavU1ZlB",
        "outputId": "29ea73cf-ee40-45ca-a047-d87da72a6f2c"
      },
      "source": [
        " len(trainimg)"
      ],
      "execution_count": 6,
      "outputs": [
        {
          "output_type": "execute_result",
          "data": {
            "text/plain": [
              "11740"
            ]
          },
          "metadata": {
            "tags": []
          },
          "execution_count": 6
        }
      ]
    },
    {
      "cell_type": "code",
      "metadata": {
        "colab": {
          "base_uri": "https://localhost:8080/",
          "height": 206
        },
        "id": "HuyrHg4Rxj-n",
        "outputId": "faefa2e3-5753-4acd-f11e-fee430f5a8e4"
      },
      "source": [
        "y_train.head(5)\n"
      ],
      "execution_count": 7,
      "outputs": [
        {
          "output_type": "execute_result",
          "data": {
            "text/html": [
              "<div>\n",
              "<style scoped>\n",
              "    .dataframe tbody tr th:only-of-type {\n",
              "        vertical-align: middle;\n",
              "    }\n",
              "\n",
              "    .dataframe tbody tr th {\n",
              "        vertical-align: top;\n",
              "    }\n",
              "\n",
              "    .dataframe thead th {\n",
              "        text-align: right;\n",
              "    }\n",
              "</style>\n",
              "<table border=\"1\" class=\"dataframe\">\n",
              "  <thead>\n",
              "    <tr style=\"text-align: right;\">\n",
              "      <th></th>\n",
              "      <th>patientId</th>\n",
              "      <th>x</th>\n",
              "      <th>y</th>\n",
              "      <th>width</th>\n",
              "      <th>height</th>\n",
              "      <th>Target</th>\n",
              "      <th>X</th>\n",
              "      <th>Y</th>\n",
              "      <th>Xo</th>\n",
              "      <th>Yo</th>\n",
              "      <th>xo</th>\n",
              "      <th>yo</th>\n",
              "      <th>widtho</th>\n",
              "      <th>heighto</th>\n",
              "    </tr>\n",
              "  </thead>\n",
              "  <tbody>\n",
              "    <tr>\n",
              "      <th>0</th>\n",
              "      <td>0004cfab-14fd-4e49-80ba-63a80b6bddd6</td>\n",
              "      <td>NaN</td>\n",
              "      <td>NaN</td>\n",
              "      <td>NaN</td>\n",
              "      <td>NaN</td>\n",
              "      <td>0</td>\n",
              "      <td>1024</td>\n",
              "      <td>1024</td>\n",
              "      <td>256</td>\n",
              "      <td>256</td>\n",
              "      <td>NaN</td>\n",
              "      <td>NaN</td>\n",
              "      <td>NaN</td>\n",
              "      <td>NaN</td>\n",
              "    </tr>\n",
              "    <tr>\n",
              "      <th>1</th>\n",
              "      <td>00313ee0-9eaa-42f4-b0ab-c148ed3241cd</td>\n",
              "      <td>NaN</td>\n",
              "      <td>NaN</td>\n",
              "      <td>NaN</td>\n",
              "      <td>NaN</td>\n",
              "      <td>0</td>\n",
              "      <td>1024</td>\n",
              "      <td>1024</td>\n",
              "      <td>256</td>\n",
              "      <td>256</td>\n",
              "      <td>NaN</td>\n",
              "      <td>NaN</td>\n",
              "      <td>NaN</td>\n",
              "      <td>NaN</td>\n",
              "    </tr>\n",
              "    <tr>\n",
              "      <th>2</th>\n",
              "      <td>00322d4d-1c29-4943-afc9-b6754be640eb</td>\n",
              "      <td>NaN</td>\n",
              "      <td>NaN</td>\n",
              "      <td>NaN</td>\n",
              "      <td>NaN</td>\n",
              "      <td>0</td>\n",
              "      <td>1024</td>\n",
              "      <td>1024</td>\n",
              "      <td>256</td>\n",
              "      <td>256</td>\n",
              "      <td>NaN</td>\n",
              "      <td>NaN</td>\n",
              "      <td>NaN</td>\n",
              "      <td>NaN</td>\n",
              "    </tr>\n",
              "    <tr>\n",
              "      <th>3</th>\n",
              "      <td>003d8fa0-6bf1-40ed-b54c-ac657f8495c5</td>\n",
              "      <td>NaN</td>\n",
              "      <td>NaN</td>\n",
              "      <td>NaN</td>\n",
              "      <td>NaN</td>\n",
              "      <td>0</td>\n",
              "      <td>1024</td>\n",
              "      <td>1024</td>\n",
              "      <td>256</td>\n",
              "      <td>256</td>\n",
              "      <td>NaN</td>\n",
              "      <td>NaN</td>\n",
              "      <td>NaN</td>\n",
              "      <td>NaN</td>\n",
              "    </tr>\n",
              "    <tr>\n",
              "      <th>4</th>\n",
              "      <td>00436515-870c-4b36-a041-de91049b9ab4</td>\n",
              "      <td>264.0</td>\n",
              "      <td>152.0</td>\n",
              "      <td>213.0</td>\n",
              "      <td>379.0</td>\n",
              "      <td>1</td>\n",
              "      <td>1024</td>\n",
              "      <td>1024</td>\n",
              "      <td>256</td>\n",
              "      <td>256</td>\n",
              "      <td>66.0</td>\n",
              "      <td>38.0</td>\n",
              "      <td>54.0</td>\n",
              "      <td>95.0</td>\n",
              "    </tr>\n",
              "  </tbody>\n",
              "</table>\n",
              "</div>"
            ],
            "text/plain": [
              "                              patientId      x      y  ...    yo  widtho  heighto\n",
              "0  0004cfab-14fd-4e49-80ba-63a80b6bddd6    NaN    NaN  ...   NaN     NaN      NaN\n",
              "1  00313ee0-9eaa-42f4-b0ab-c148ed3241cd    NaN    NaN  ...   NaN     NaN      NaN\n",
              "2  00322d4d-1c29-4943-afc9-b6754be640eb    NaN    NaN  ...   NaN     NaN      NaN\n",
              "3  003d8fa0-6bf1-40ed-b54c-ac657f8495c5    NaN    NaN  ...   NaN     NaN      NaN\n",
              "4  00436515-870c-4b36-a041-de91049b9ab4  264.0  152.0  ...  38.0    54.0     95.0\n",
              "\n",
              "[5 rows x 14 columns]"
            ]
          },
          "metadata": {
            "tags": []
          },
          "execution_count": 7
        }
      ]
    },
    {
      "cell_type": "code",
      "metadata": {
        "colab": {
          "base_uri": "https://localhost:8080/"
        },
        "id": "jCDe0iyyxkB6",
        "outputId": "d5bbeb8d-aa3e-4e8e-e876-6239d5206bc4"
      },
      "source": [
        "y_train.size"
      ],
      "execution_count": 8,
      "outputs": [
        {
          "output_type": "execute_result",
          "data": {
            "text/plain": [
              "423178"
            ]
          },
          "metadata": {
            "tags": []
          },
          "execution_count": 8
        }
      ]
    },
    {
      "cell_type": "code",
      "metadata": {
        "id": "CMJ62ehhyZD8"
      },
      "source": [
        "class_info_df = pd.read_csv(basepath+'stage_2_detailed_class_info.csv')"
      ],
      "execution_count": 9,
      "outputs": []
    },
    {
      "cell_type": "code",
      "metadata": {
        "colab": {
          "base_uri": "https://localhost:8080/",
          "height": 347
        },
        "id": "SVcIkN_JyZHb",
        "outputId": "42d0dcc1-595e-4b2e-c3e5-60fae8efe113"
      },
      "source": [
        "## Merging the two datasets\n",
        "#In class detailed info dataset are given the detailed information about \n",
        "#the type of positive or negative class associated with a certain patient.\n",
        "#In y_train labels dataset are given the patient ID and the window (x min, y min, width and height of the) \n",
        "#containing evidence of pneumonia\n",
        "train_class_df = y_train.merge(class_info_df, left_on= ('patientId'), right_on=('patientId'), how='inner').drop_duplicates()\n",
        "train_class_df.sample(5)"
      ],
      "execution_count": 10,
      "outputs": [
        {
          "output_type": "execute_result",
          "data": {
            "text/html": [
              "<div>\n",
              "<style scoped>\n",
              "    .dataframe tbody tr th:only-of-type {\n",
              "        vertical-align: middle;\n",
              "    }\n",
              "\n",
              "    .dataframe tbody tr th {\n",
              "        vertical-align: top;\n",
              "    }\n",
              "\n",
              "    .dataframe thead th {\n",
              "        text-align: right;\n",
              "    }\n",
              "</style>\n",
              "<table border=\"1\" class=\"dataframe\">\n",
              "  <thead>\n",
              "    <tr style=\"text-align: right;\">\n",
              "      <th></th>\n",
              "      <th>patientId</th>\n",
              "      <th>x</th>\n",
              "      <th>y</th>\n",
              "      <th>width</th>\n",
              "      <th>height</th>\n",
              "      <th>Target</th>\n",
              "      <th>X</th>\n",
              "      <th>Y</th>\n",
              "      <th>Xo</th>\n",
              "      <th>Yo</th>\n",
              "      <th>xo</th>\n",
              "      <th>yo</th>\n",
              "      <th>widtho</th>\n",
              "      <th>heighto</th>\n",
              "      <th>class</th>\n",
              "    </tr>\n",
              "  </thead>\n",
              "  <tbody>\n",
              "    <tr>\n",
              "      <th>29856</th>\n",
              "      <td>d4d10646-e095-4cde-9f9a-b0d4b4cf6d5c</td>\n",
              "      <td>564.0</td>\n",
              "      <td>177.0</td>\n",
              "      <td>253.0</td>\n",
              "      <td>503.0</td>\n",
              "      <td>1</td>\n",
              "      <td>1024</td>\n",
              "      <td>1024</td>\n",
              "      <td>256</td>\n",
              "      <td>256</td>\n",
              "      <td>141.0</td>\n",
              "      <td>45.0</td>\n",
              "      <td>64.0</td>\n",
              "      <td>126.0</td>\n",
              "      <td>Lung Opacity</td>\n",
              "    </tr>\n",
              "    <tr>\n",
              "      <th>10239</th>\n",
              "      <td>5a6172a3-2b11-4e63-a8d5-f06829735f32</td>\n",
              "      <td>NaN</td>\n",
              "      <td>NaN</td>\n",
              "      <td>NaN</td>\n",
              "      <td>NaN</td>\n",
              "      <td>0</td>\n",
              "      <td>1024</td>\n",
              "      <td>1024</td>\n",
              "      <td>256</td>\n",
              "      <td>256</td>\n",
              "      <td>NaN</td>\n",
              "      <td>NaN</td>\n",
              "      <td>NaN</td>\n",
              "      <td>NaN</td>\n",
              "      <td>Normal</td>\n",
              "    </tr>\n",
              "    <tr>\n",
              "      <th>4183</th>\n",
              "      <td>354c3756-43ed-4921-adf8-60be49a8b7e8</td>\n",
              "      <td>NaN</td>\n",
              "      <td>NaN</td>\n",
              "      <td>NaN</td>\n",
              "      <td>NaN</td>\n",
              "      <td>0</td>\n",
              "      <td>1024</td>\n",
              "      <td>1024</td>\n",
              "      <td>256</td>\n",
              "      <td>256</td>\n",
              "      <td>NaN</td>\n",
              "      <td>NaN</td>\n",
              "      <td>NaN</td>\n",
              "      <td>NaN</td>\n",
              "      <td>Normal</td>\n",
              "    </tr>\n",
              "    <tr>\n",
              "      <th>14631</th>\n",
              "      <td>78cc9897-ddd1-4e87-8ce4-c05192891e76</td>\n",
              "      <td>517.0</td>\n",
              "      <td>592.0</td>\n",
              "      <td>192.0</td>\n",
              "      <td>142.0</td>\n",
              "      <td>1</td>\n",
              "      <td>1024</td>\n",
              "      <td>1024</td>\n",
              "      <td>256</td>\n",
              "      <td>256</td>\n",
              "      <td>130.0</td>\n",
              "      <td>148.0</td>\n",
              "      <td>48.0</td>\n",
              "      <td>36.0</td>\n",
              "      <td>Lung Opacity</td>\n",
              "    </tr>\n",
              "    <tr>\n",
              "      <th>23528</th>\n",
              "      <td>b0fd45a3-14f6-4462-8dd4-1d643bb517d4</td>\n",
              "      <td>NaN</td>\n",
              "      <td>NaN</td>\n",
              "      <td>NaN</td>\n",
              "      <td>NaN</td>\n",
              "      <td>0</td>\n",
              "      <td>1024</td>\n",
              "      <td>1024</td>\n",
              "      <td>256</td>\n",
              "      <td>256</td>\n",
              "      <td>NaN</td>\n",
              "      <td>NaN</td>\n",
              "      <td>NaN</td>\n",
              "      <td>NaN</td>\n",
              "      <td>No Lung Opacity / Not Normal</td>\n",
              "    </tr>\n",
              "  </tbody>\n",
              "</table>\n",
              "</div>"
            ],
            "text/plain": [
              "                                  patientId  ...                         class\n",
              "29856  d4d10646-e095-4cde-9f9a-b0d4b4cf6d5c  ...                  Lung Opacity\n",
              "10239  5a6172a3-2b11-4e63-a8d5-f06829735f32  ...                        Normal\n",
              "4183   354c3756-43ed-4921-adf8-60be49a8b7e8  ...                        Normal\n",
              "14631  78cc9897-ddd1-4e87-8ce4-c05192891e76  ...                  Lung Opacity\n",
              "23528  b0fd45a3-14f6-4462-8dd4-1d643bb517d4  ...  No Lung Opacity / Not Normal\n",
              "\n",
              "[5 rows x 15 columns]"
            ]
          },
          "metadata": {
            "tags": []
          },
          "execution_count": 10
        }
      ]
    },
    {
      "cell_type": "code",
      "metadata": {
        "colab": {
          "base_uri": "https://localhost:8080/"
        },
        "id": "KAhldo8d0O71",
        "outputId": "8c087940-72c0-4b7f-b2d5-a0071d2f2d1a"
      },
      "source": [
        "#reading image samples\n",
        "sampNum = 500 # Number of samples to import\n",
        "X = [] # Empty to read training images\n",
        "x1=[]\n",
        "print(type(x1))\n",
        "print(\"Before sampling\\n\")\n",
        "print(\"Total training unique patient ids: \",train_class_df['patientId'].nunique())\n",
        "print(\"Number of images in train set:\", len(os.listdir(TrainDir)))\n",
        "print(\"\\n\")\n",
        "print(\"Total training labels {}\" .format(train_class_df.shape))\n",
        "#display(distTab(train_class_df, \"Target\")) # Dsitribution of target before sampling\n",
        "\n",
        "print(\"\\n\\nAfter sampling\\n\")\n",
        "Y = train_class_df.sample(n=sampNum, random_state=2) # Sampling\n",
        "Y.reset_index(drop=True, inplace=True)\n",
        "print(\"Total sampled training labels {}\" .format(Y.shape))\n",
        "#display(distTab(Y.sample(n=sampNum), \"Target\"))  # Dsitribution of target after sampling\n",
        "\n",
        "for indx in Y.patientId:\n",
        "    \n",
        "    try:\n",
        "       #print(indx)\n",
        "       filepath=TrainDir+indx+'.jpg'\n",
        "       image = cv2.imread(filepath)\n",
        "       X.append(indx)\n",
        "       x1.append(image)\n",
        "    except: \n",
        "        continue\n",
        "zipbObj = zip(X, x1)        \n",
        " \n",
        "\n",
        "X=dict(zipbObj)\n",
        "#print(\"df chk\",Y[Y.patientId.isin(X.keys())])\n",
        "#X = dict(zip([x.patientId for x in X], [x.pixel_array for x in X])) # Dictionary for training images for patient id's\n",
        "print(\"\\n\\nTotal sampled training images {}\" .format(len(X)))\n",
        "Y = Y[Y.patientId.isin(X.keys())]\n",
        "print(\"Total training labels {}\" .format(Y.shape))"
      ],
      "execution_count": 14,
      "outputs": [
        {
          "output_type": "stream",
          "text": [
            "<class 'list'>\n",
            "Before sampling\n",
            "\n",
            "Total training unique patient ids:  26684\n",
            "Number of images in train set: 11740\n",
            "\n",
            "\n",
            "Total training labels (30227, 15)\n",
            "\n",
            "\n",
            "After sampling\n",
            "\n",
            "Total sampled training labels (500, 15)\n",
            "\n",
            "\n",
            "Total sampled training images 500\n",
            "Total training labels (500, 15)\n"
          ],
          "name": "stdout"
        }
      ]
    },
    {
      "cell_type": "code",
      "metadata": {
        "colab": {
          "base_uri": "https://localhost:8080/"
        },
        "id": "q9crb-bARKlo",
        "outputId": "d5fb255a-facd-4df3-96a5-5b0f63fbf40f"
      },
      "source": [
        "# Shape of images\n",
        "len(X)"
      ],
      "execution_count": 15,
      "outputs": [
        {
          "output_type": "execute_result",
          "data": {
            "text/plain": [
              "500"
            ]
          },
          "metadata": {
            "tags": []
          },
          "execution_count": 15
        }
      ]
    },
    {
      "cell_type": "code",
      "metadata": {
        "id": "voEK2fN724Dv"
      },
      "source": [
        "Xdf = pd.DataFrame({'patientId':X.keys(),\n",
        "                   'imageArray':X.values()})\n",
        "dat = Y.merge(Xdf, on='patientId', how='left')"
      ],
      "execution_count": 17,
      "outputs": []
    },
    {
      "cell_type": "code",
      "metadata": {
        "colab": {
          "base_uri": "https://localhost:8080/",
          "height": 417
        },
        "id": "P-CkAjYf4Ap6",
        "outputId": "c6ea0560-a46b-4f60-f430-7b768651797a"
      },
      "source": [
        "dat.head(5)"
      ],
      "execution_count": 18,
      "outputs": [
        {
          "output_type": "execute_result",
          "data": {
            "text/html": [
              "<div>\n",
              "<style scoped>\n",
              "    .dataframe tbody tr th:only-of-type {\n",
              "        vertical-align: middle;\n",
              "    }\n",
              "\n",
              "    .dataframe tbody tr th {\n",
              "        vertical-align: top;\n",
              "    }\n",
              "\n",
              "    .dataframe thead th {\n",
              "        text-align: right;\n",
              "    }\n",
              "</style>\n",
              "<table border=\"1\" class=\"dataframe\">\n",
              "  <thead>\n",
              "    <tr style=\"text-align: right;\">\n",
              "      <th></th>\n",
              "      <th>patientId</th>\n",
              "      <th>x</th>\n",
              "      <th>y</th>\n",
              "      <th>width</th>\n",
              "      <th>height</th>\n",
              "      <th>Target</th>\n",
              "      <th>X</th>\n",
              "      <th>Y</th>\n",
              "      <th>Xo</th>\n",
              "      <th>Yo</th>\n",
              "      <th>xo</th>\n",
              "      <th>yo</th>\n",
              "      <th>widtho</th>\n",
              "      <th>heighto</th>\n",
              "      <th>class</th>\n",
              "      <th>imageArray</th>\n",
              "    </tr>\n",
              "  </thead>\n",
              "  <tbody>\n",
              "    <tr>\n",
              "      <th>0</th>\n",
              "      <td>e4dd25aa-7839-4e0e-a984-c7cb1b31d2c7</td>\n",
              "      <td>NaN</td>\n",
              "      <td>NaN</td>\n",
              "      <td>NaN</td>\n",
              "      <td>NaN</td>\n",
              "      <td>0</td>\n",
              "      <td>1024</td>\n",
              "      <td>1024</td>\n",
              "      <td>256</td>\n",
              "      <td>256</td>\n",
              "      <td>NaN</td>\n",
              "      <td>NaN</td>\n",
              "      <td>NaN</td>\n",
              "      <td>NaN</td>\n",
              "      <td>No Lung Opacity / Not Normal</td>\n",
              "      <td>[[[1, 1, 1], [1, 1, 1], [1, 1, 1], [1, 1, 1], ...</td>\n",
              "    </tr>\n",
              "    <tr>\n",
              "      <th>1</th>\n",
              "      <td>5c389c6d-2abc-43a9-91e7-847f85bf6ff1</td>\n",
              "      <td>NaN</td>\n",
              "      <td>NaN</td>\n",
              "      <td>NaN</td>\n",
              "      <td>NaN</td>\n",
              "      <td>0</td>\n",
              "      <td>1024</td>\n",
              "      <td>1024</td>\n",
              "      <td>256</td>\n",
              "      <td>256</td>\n",
              "      <td>NaN</td>\n",
              "      <td>NaN</td>\n",
              "      <td>NaN</td>\n",
              "      <td>NaN</td>\n",
              "      <td>Normal</td>\n",
              "      <td>None</td>\n",
              "    </tr>\n",
              "    <tr>\n",
              "      <th>2</th>\n",
              "      <td>324f9ed1-09e0-483e-9bdd-d139e77acb85</td>\n",
              "      <td>NaN</td>\n",
              "      <td>NaN</td>\n",
              "      <td>NaN</td>\n",
              "      <td>NaN</td>\n",
              "      <td>0</td>\n",
              "      <td>1024</td>\n",
              "      <td>1024</td>\n",
              "      <td>256</td>\n",
              "      <td>256</td>\n",
              "      <td>NaN</td>\n",
              "      <td>NaN</td>\n",
              "      <td>NaN</td>\n",
              "      <td>NaN</td>\n",
              "      <td>No Lung Opacity / Not Normal</td>\n",
              "      <td>None</td>\n",
              "    </tr>\n",
              "    <tr>\n",
              "      <th>3</th>\n",
              "      <td>4ac6590a-ecdb-47b7-92f3-cfc6fa405955</td>\n",
              "      <td>NaN</td>\n",
              "      <td>NaN</td>\n",
              "      <td>NaN</td>\n",
              "      <td>NaN</td>\n",
              "      <td>0</td>\n",
              "      <td>1024</td>\n",
              "      <td>1024</td>\n",
              "      <td>256</td>\n",
              "      <td>256</td>\n",
              "      <td>NaN</td>\n",
              "      <td>NaN</td>\n",
              "      <td>NaN</td>\n",
              "      <td>NaN</td>\n",
              "      <td>Normal</td>\n",
              "      <td>None</td>\n",
              "    </tr>\n",
              "    <tr>\n",
              "      <th>4</th>\n",
              "      <td>7213e146-4efd-40e6-ab88-a9e7a9c8c25c</td>\n",
              "      <td>NaN</td>\n",
              "      <td>NaN</td>\n",
              "      <td>NaN</td>\n",
              "      <td>NaN</td>\n",
              "      <td>0</td>\n",
              "      <td>1024</td>\n",
              "      <td>1024</td>\n",
              "      <td>256</td>\n",
              "      <td>256</td>\n",
              "      <td>NaN</td>\n",
              "      <td>NaN</td>\n",
              "      <td>NaN</td>\n",
              "      <td>NaN</td>\n",
              "      <td>Normal</td>\n",
              "      <td>None</td>\n",
              "    </tr>\n",
              "  </tbody>\n",
              "</table>\n",
              "</div>"
            ],
            "text/plain": [
              "                              patientId  ...                                         imageArray\n",
              "0  e4dd25aa-7839-4e0e-a984-c7cb1b31d2c7  ...  [[[1, 1, 1], [1, 1, 1], [1, 1, 1], [1, 1, 1], ...\n",
              "1  5c389c6d-2abc-43a9-91e7-847f85bf6ff1  ...                                               None\n",
              "2  324f9ed1-09e0-483e-9bdd-d139e77acb85  ...                                               None\n",
              "3  4ac6590a-ecdb-47b7-92f3-cfc6fa405955  ...                                               None\n",
              "4  7213e146-4efd-40e6-ab88-a9e7a9c8c25c  ...                                               None\n",
              "\n",
              "[5 rows x 16 columns]"
            ]
          },
          "metadata": {
            "tags": []
          },
          "execution_count": 18
        }
      ]
    },
    {
      "cell_type": "code",
      "metadata": {
        "colab": {
          "base_uri": "https://localhost:8080/",
          "height": 417
        },
        "id": "H0dHvXnUZTwe",
        "outputId": "788b1dca-e9db-4049-cc78-a40c712e3c56"
      },
      "source": [
        "Xdf = pd.DataFrame({'patientId':X.keys(), 'imageArray':X.values()})\n",
        "dat = Y.merge(Xdf, on='patientId', how='left')\n",
        "dat.head()"
      ],
      "execution_count": 19,
      "outputs": [
        {
          "output_type": "execute_result",
          "data": {
            "text/html": [
              "<div>\n",
              "<style scoped>\n",
              "    .dataframe tbody tr th:only-of-type {\n",
              "        vertical-align: middle;\n",
              "    }\n",
              "\n",
              "    .dataframe tbody tr th {\n",
              "        vertical-align: top;\n",
              "    }\n",
              "\n",
              "    .dataframe thead th {\n",
              "        text-align: right;\n",
              "    }\n",
              "</style>\n",
              "<table border=\"1\" class=\"dataframe\">\n",
              "  <thead>\n",
              "    <tr style=\"text-align: right;\">\n",
              "      <th></th>\n",
              "      <th>patientId</th>\n",
              "      <th>x</th>\n",
              "      <th>y</th>\n",
              "      <th>width</th>\n",
              "      <th>height</th>\n",
              "      <th>Target</th>\n",
              "      <th>X</th>\n",
              "      <th>Y</th>\n",
              "      <th>Xo</th>\n",
              "      <th>Yo</th>\n",
              "      <th>xo</th>\n",
              "      <th>yo</th>\n",
              "      <th>widtho</th>\n",
              "      <th>heighto</th>\n",
              "      <th>class</th>\n",
              "      <th>imageArray</th>\n",
              "    </tr>\n",
              "  </thead>\n",
              "  <tbody>\n",
              "    <tr>\n",
              "      <th>0</th>\n",
              "      <td>e4dd25aa-7839-4e0e-a984-c7cb1b31d2c7</td>\n",
              "      <td>NaN</td>\n",
              "      <td>NaN</td>\n",
              "      <td>NaN</td>\n",
              "      <td>NaN</td>\n",
              "      <td>0</td>\n",
              "      <td>1024</td>\n",
              "      <td>1024</td>\n",
              "      <td>256</td>\n",
              "      <td>256</td>\n",
              "      <td>NaN</td>\n",
              "      <td>NaN</td>\n",
              "      <td>NaN</td>\n",
              "      <td>NaN</td>\n",
              "      <td>No Lung Opacity / Not Normal</td>\n",
              "      <td>[[[1, 1, 1], [1, 1, 1], [1, 1, 1], [1, 1, 1], ...</td>\n",
              "    </tr>\n",
              "    <tr>\n",
              "      <th>1</th>\n",
              "      <td>5c389c6d-2abc-43a9-91e7-847f85bf6ff1</td>\n",
              "      <td>NaN</td>\n",
              "      <td>NaN</td>\n",
              "      <td>NaN</td>\n",
              "      <td>NaN</td>\n",
              "      <td>0</td>\n",
              "      <td>1024</td>\n",
              "      <td>1024</td>\n",
              "      <td>256</td>\n",
              "      <td>256</td>\n",
              "      <td>NaN</td>\n",
              "      <td>NaN</td>\n",
              "      <td>NaN</td>\n",
              "      <td>NaN</td>\n",
              "      <td>Normal</td>\n",
              "      <td>None</td>\n",
              "    </tr>\n",
              "    <tr>\n",
              "      <th>2</th>\n",
              "      <td>324f9ed1-09e0-483e-9bdd-d139e77acb85</td>\n",
              "      <td>NaN</td>\n",
              "      <td>NaN</td>\n",
              "      <td>NaN</td>\n",
              "      <td>NaN</td>\n",
              "      <td>0</td>\n",
              "      <td>1024</td>\n",
              "      <td>1024</td>\n",
              "      <td>256</td>\n",
              "      <td>256</td>\n",
              "      <td>NaN</td>\n",
              "      <td>NaN</td>\n",
              "      <td>NaN</td>\n",
              "      <td>NaN</td>\n",
              "      <td>No Lung Opacity / Not Normal</td>\n",
              "      <td>None</td>\n",
              "    </tr>\n",
              "    <tr>\n",
              "      <th>3</th>\n",
              "      <td>4ac6590a-ecdb-47b7-92f3-cfc6fa405955</td>\n",
              "      <td>NaN</td>\n",
              "      <td>NaN</td>\n",
              "      <td>NaN</td>\n",
              "      <td>NaN</td>\n",
              "      <td>0</td>\n",
              "      <td>1024</td>\n",
              "      <td>1024</td>\n",
              "      <td>256</td>\n",
              "      <td>256</td>\n",
              "      <td>NaN</td>\n",
              "      <td>NaN</td>\n",
              "      <td>NaN</td>\n",
              "      <td>NaN</td>\n",
              "      <td>Normal</td>\n",
              "      <td>None</td>\n",
              "    </tr>\n",
              "    <tr>\n",
              "      <th>4</th>\n",
              "      <td>7213e146-4efd-40e6-ab88-a9e7a9c8c25c</td>\n",
              "      <td>NaN</td>\n",
              "      <td>NaN</td>\n",
              "      <td>NaN</td>\n",
              "      <td>NaN</td>\n",
              "      <td>0</td>\n",
              "      <td>1024</td>\n",
              "      <td>1024</td>\n",
              "      <td>256</td>\n",
              "      <td>256</td>\n",
              "      <td>NaN</td>\n",
              "      <td>NaN</td>\n",
              "      <td>NaN</td>\n",
              "      <td>NaN</td>\n",
              "      <td>Normal</td>\n",
              "      <td>None</td>\n",
              "    </tr>\n",
              "  </tbody>\n",
              "</table>\n",
              "</div>"
            ],
            "text/plain": [
              "                              patientId  ...                                         imageArray\n",
              "0  e4dd25aa-7839-4e0e-a984-c7cb1b31d2c7  ...  [[[1, 1, 1], [1, 1, 1], [1, 1, 1], [1, 1, 1], ...\n",
              "1  5c389c6d-2abc-43a9-91e7-847f85bf6ff1  ...                                               None\n",
              "2  324f9ed1-09e0-483e-9bdd-d139e77acb85  ...                                               None\n",
              "3  4ac6590a-ecdb-47b7-92f3-cfc6fa405955  ...                                               None\n",
              "4  7213e146-4efd-40e6-ab88-a9e7a9c8c25c  ...                                               None\n",
              "\n",
              "[5 rows x 16 columns]"
            ]
          },
          "metadata": {
            "tags": []
          },
          "execution_count": 19
        }
      ]
    },
    {
      "cell_type": "code",
      "metadata": {
        "id": "qYdY9QZBZTzG"
      },
      "source": [
        "\n",
        "\n",
        "\n",
        "\n"
      ],
      "execution_count": null,
      "outputs": []
    },
    {
      "cell_type": "code",
      "metadata": {
        "id": "0x3-MPvEZT2Z"
      },
      "source": [
        ""
      ],
      "execution_count": null,
      "outputs": []
    },
    {
      "cell_type": "code",
      "metadata": {
        "id": "LXIhXa4NZSqa"
      },
      "source": [
        ""
      ],
      "execution_count": null,
      "outputs": []
    },
    {
      "cell_type": "code",
      "metadata": {
        "id": "mg1F1UDQZE6x"
      },
      "source": [
        ""
      ],
      "execution_count": null,
      "outputs": []
    },
    {
      "cell_type": "code",
      "metadata": {
        "id": "ycAPSuz6SJFA"
      },
      "source": [
        "Xdf = pd.DataFrame({'patientId':X.keys(),\n",
        "                   'imageArray':X.values()})\n",
        "\n",
        "dat = Y.merge(Xdf, on='patientId', how='left')\n",
        "\n"
      ],
      "execution_count": 154,
      "outputs": []
    },
    {
      "cell_type": "code",
      "metadata": {
        "id": "7BggfN0cSJwX"
      },
      "source": [
        ""
      ],
      "execution_count": null,
      "outputs": []
    }
  ]
}