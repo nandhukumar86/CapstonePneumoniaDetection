{
  "nbformat": 4,
  "nbformat_minor": 0,
  "metadata": {
    "colab": {
      "name": "Capstoneyolomodel.ipynb",
      "provenance": [],
      "authorship_tag": "ABX9TyNrtvHf8SZ2UcU8tZpBLhZg",
      "include_colab_link": true
    },
    "kernelspec": {
      "name": "python3",
      "display_name": "Python 3"
    },
    "language_info": {
      "name": "python"
    }
  },
  "cells": [
    {
      "cell_type": "markdown",
      "metadata": {
        "id": "view-in-github",
        "colab_type": "text"
      },
      "source": [
        "<a href=\"https://colab.research.google.com/github/nandhukumar86/CapstonePneumoniaDetection/blob/main/Vani/Capstoneyolomodel.ipynb\" target=\"_parent\"><img src=\"https://colab.research.google.com/assets/colab-badge.svg\" alt=\"Open In Colab\"/></a>"
      ]
    },
    {
      "cell_type": "code",
      "metadata": {
        "colab": {
          "base_uri": "https://localhost:8080/"
        },
        "id": "LsO7UuEaxKGu",
        "outputId": "5fcff9a7-fab8-40a7-8776-8a80db04c0e5"
      },
      "source": [
        "from google.colab import drive\n",
        "drive.mount('/content/drive')"
      ],
      "execution_count": 1,
      "outputs": [
        {
          "output_type": "stream",
          "text": [
            "Mounted at /content/drive\n"
          ],
          "name": "stdout"
        }
      ]
    },
    {
      "cell_type": "code",
      "metadata": {
        "id": "SGX3Tmbvxgub"
      },
      "source": [
        "TrainDir = \"/content/drive/MyDrive/Content/DriveAIML/capstone/jpg_reshaped_train/\"\n",
        "TestDir='/content/drive/MyDrive/Content/DriveAIML/capstone/jpg_reshaped_test/'\n",
        "basepath = \"/content/drive/MyDrive/Content/DriveAIML/capstone/\""
      ],
      "execution_count": 63,
      "outputs": []
    },
    {
      "cell_type": "code",
      "metadata": {
        "id": "TgBJfzkPxg-C"
      },
      "source": [
        "import os, cv2,copy, gc\n",
        "import pickle\n",
        "import glob2 as glob\n",
        "import pandas as pd\n",
        "import numpy as np\n",
        "import datetime\n",
        "from tqdm import tqdm_notebook\n",
        "import seaborn as sns\n",
        "import matplotlib.pyplot as plt\n",
        "from matplotlib.patches import Rectangle\n",
        "from sklearn import preprocessing\n",
        "from sklearn.model_selection import train_test_split\n",
        "import tensorflow as tf\n",
        "from tensorflow.python.client import device_lib\n",
        "from tensorflow import keras\n",
        "from tensorflow.keras.applications import VGG16\n",
        "from tensorflow.keras.utils import to_categorical\n",
        "from tensorflow.keras.preprocessing import image\n",
        "from tensorflow.keras.preprocessing.image import ImageDataGenerator\n",
        "from tensorflow.keras import models, layers, Model, losses\n",
        "from tensorflow.keras.callbacks import EarlyStopping, ModelCheckpoint, ReduceLROnPlateau\n",
        "from tensorflow.keras.layers import Input, Concatenate, Dense, Dropout, Flatten, Activation, BatchNormalization"
      ],
      "execution_count": 47,
      "outputs": []
    },
    {
      "cell_type": "code",
      "metadata": {
        "colab": {
          "base_uri": "https://localhost:8080/"
        },
        "id": "pWV63p2v71ZQ",
        "outputId": "7e6351f2-a380-4a1c-c1d7-57da75f3be42"
      },
      "source": [
        "!pip install pydicom"
      ],
      "execution_count": 58,
      "outputs": [
        {
          "output_type": "stream",
          "text": [
            "Collecting pydicom\n",
            "\u001b[?25l  Downloading https://files.pythonhosted.org/packages/f4/15/df16546bc59bfca390cf072d473fb2c8acd4231636f64356593a63137e55/pydicom-2.1.2-py3-none-any.whl (1.9MB)\n",
            "\u001b[K     |████████████████████████████████| 1.9MB 4.3MB/s \n",
            "\u001b[?25hInstalling collected packages: pydicom\n",
            "Successfully installed pydicom-2.1.2\n"
          ],
          "name": "stdout"
        }
      ]
    },
    {
      "cell_type": "code",
      "metadata": {
        "id": "Rj8yJcN5xj5S"
      },
      "source": [
        "filename =  '/content/drive/MyDrive/Content/DriveAIML/capstone/RezisedLabel.pickle'\n",
        "with open(filename, \"rb\") as input_file:\n",
        "  y_train = pickle.load(input_file)"
      ],
      "execution_count": 9,
      "outputs": []
    },
    {
      "cell_type": "code",
      "metadata": {
        "id": "knB88o1_1Aaf"
      },
      "source": [
        "trainimg = glob.glob(TrainDir+'*.jpg') #Getting all images in this folder\n",
        "testimg=glob.glob(TestDir+\"*.jpg\") #"
      ],
      "execution_count": 64,
      "outputs": []
    },
    {
      "cell_type": "code",
      "metadata": {
        "colab": {
          "base_uri": "https://localhost:8080/"
        },
        "id": "bE9CPavU1ZlB",
        "outputId": "4b671c7e-e872-4672-85aa-f8df7dd9265b"
      },
      "source": [
        " len(trainimg)"
      ],
      "execution_count": 52,
      "outputs": [
        {
          "output_type": "execute_result",
          "data": {
            "text/plain": [
              "11740"
            ]
          },
          "metadata": {
            "tags": []
          },
          "execution_count": 52
        }
      ]
    },
    {
      "cell_type": "code",
      "metadata": {
        "colab": {
          "base_uri": "https://localhost:8080/",
          "height": 206
        },
        "id": "HuyrHg4Rxj-n",
        "outputId": "4a70664d-97dc-400b-dda7-82e2f11d44dd"
      },
      "source": [
        "y_train.head(5)\n"
      ],
      "execution_count": 10,
      "outputs": [
        {
          "output_type": "execute_result",
          "data": {
            "text/html": [
              "<div>\n",
              "<style scoped>\n",
              "    .dataframe tbody tr th:only-of-type {\n",
              "        vertical-align: middle;\n",
              "    }\n",
              "\n",
              "    .dataframe tbody tr th {\n",
              "        vertical-align: top;\n",
              "    }\n",
              "\n",
              "    .dataframe thead th {\n",
              "        text-align: right;\n",
              "    }\n",
              "</style>\n",
              "<table border=\"1\" class=\"dataframe\">\n",
              "  <thead>\n",
              "    <tr style=\"text-align: right;\">\n",
              "      <th></th>\n",
              "      <th>patientId</th>\n",
              "      <th>x</th>\n",
              "      <th>y</th>\n",
              "      <th>width</th>\n",
              "      <th>height</th>\n",
              "      <th>Target</th>\n",
              "      <th>X</th>\n",
              "      <th>Y</th>\n",
              "      <th>Xo</th>\n",
              "      <th>Yo</th>\n",
              "      <th>xo</th>\n",
              "      <th>yo</th>\n",
              "      <th>widtho</th>\n",
              "      <th>heighto</th>\n",
              "    </tr>\n",
              "  </thead>\n",
              "  <tbody>\n",
              "    <tr>\n",
              "      <th>0</th>\n",
              "      <td>0004cfab-14fd-4e49-80ba-63a80b6bddd6</td>\n",
              "      <td>NaN</td>\n",
              "      <td>NaN</td>\n",
              "      <td>NaN</td>\n",
              "      <td>NaN</td>\n",
              "      <td>0</td>\n",
              "      <td>1024</td>\n",
              "      <td>1024</td>\n",
              "      <td>256</td>\n",
              "      <td>256</td>\n",
              "      <td>NaN</td>\n",
              "      <td>NaN</td>\n",
              "      <td>NaN</td>\n",
              "      <td>NaN</td>\n",
              "    </tr>\n",
              "    <tr>\n",
              "      <th>1</th>\n",
              "      <td>00313ee0-9eaa-42f4-b0ab-c148ed3241cd</td>\n",
              "      <td>NaN</td>\n",
              "      <td>NaN</td>\n",
              "      <td>NaN</td>\n",
              "      <td>NaN</td>\n",
              "      <td>0</td>\n",
              "      <td>1024</td>\n",
              "      <td>1024</td>\n",
              "      <td>256</td>\n",
              "      <td>256</td>\n",
              "      <td>NaN</td>\n",
              "      <td>NaN</td>\n",
              "      <td>NaN</td>\n",
              "      <td>NaN</td>\n",
              "    </tr>\n",
              "    <tr>\n",
              "      <th>2</th>\n",
              "      <td>00322d4d-1c29-4943-afc9-b6754be640eb</td>\n",
              "      <td>NaN</td>\n",
              "      <td>NaN</td>\n",
              "      <td>NaN</td>\n",
              "      <td>NaN</td>\n",
              "      <td>0</td>\n",
              "      <td>1024</td>\n",
              "      <td>1024</td>\n",
              "      <td>256</td>\n",
              "      <td>256</td>\n",
              "      <td>NaN</td>\n",
              "      <td>NaN</td>\n",
              "      <td>NaN</td>\n",
              "      <td>NaN</td>\n",
              "    </tr>\n",
              "    <tr>\n",
              "      <th>3</th>\n",
              "      <td>003d8fa0-6bf1-40ed-b54c-ac657f8495c5</td>\n",
              "      <td>NaN</td>\n",
              "      <td>NaN</td>\n",
              "      <td>NaN</td>\n",
              "      <td>NaN</td>\n",
              "      <td>0</td>\n",
              "      <td>1024</td>\n",
              "      <td>1024</td>\n",
              "      <td>256</td>\n",
              "      <td>256</td>\n",
              "      <td>NaN</td>\n",
              "      <td>NaN</td>\n",
              "      <td>NaN</td>\n",
              "      <td>NaN</td>\n",
              "    </tr>\n",
              "    <tr>\n",
              "      <th>4</th>\n",
              "      <td>00436515-870c-4b36-a041-de91049b9ab4</td>\n",
              "      <td>264.0</td>\n",
              "      <td>152.0</td>\n",
              "      <td>213.0</td>\n",
              "      <td>379.0</td>\n",
              "      <td>1</td>\n",
              "      <td>1024</td>\n",
              "      <td>1024</td>\n",
              "      <td>256</td>\n",
              "      <td>256</td>\n",
              "      <td>66.0</td>\n",
              "      <td>38.0</td>\n",
              "      <td>54.0</td>\n",
              "      <td>95.0</td>\n",
              "    </tr>\n",
              "  </tbody>\n",
              "</table>\n",
              "</div>"
            ],
            "text/plain": [
              "                              patientId      x      y  ...    yo  widtho  heighto\n",
              "0  0004cfab-14fd-4e49-80ba-63a80b6bddd6    NaN    NaN  ...   NaN     NaN      NaN\n",
              "1  00313ee0-9eaa-42f4-b0ab-c148ed3241cd    NaN    NaN  ...   NaN     NaN      NaN\n",
              "2  00322d4d-1c29-4943-afc9-b6754be640eb    NaN    NaN  ...   NaN     NaN      NaN\n",
              "3  003d8fa0-6bf1-40ed-b54c-ac657f8495c5    NaN    NaN  ...   NaN     NaN      NaN\n",
              "4  00436515-870c-4b36-a041-de91049b9ab4  264.0  152.0  ...  38.0    54.0     95.0\n",
              "\n",
              "[5 rows x 14 columns]"
            ]
          },
          "metadata": {
            "tags": []
          },
          "execution_count": 10
        }
      ]
    },
    {
      "cell_type": "code",
      "metadata": {
        "colab": {
          "base_uri": "https://localhost:8080/"
        },
        "id": "jCDe0iyyxkB6",
        "outputId": "f7a1d8b6-58e4-424c-c881-9503cacaa77b"
      },
      "source": [
        "y_train.size"
      ],
      "execution_count": 11,
      "outputs": [
        {
          "output_type": "execute_result",
          "data": {
            "text/plain": [
              "423178"
            ]
          },
          "metadata": {
            "tags": []
          },
          "execution_count": 11
        }
      ]
    },
    {
      "cell_type": "code",
      "metadata": {
        "id": "CMJ62ehhyZD8"
      },
      "source": [
        "class_info_df = pd.read_csv(basepath+'stage_2_detailed_class_info.csv')"
      ],
      "execution_count": 14,
      "outputs": []
    },
    {
      "cell_type": "code",
      "metadata": {
        "colab": {
          "base_uri": "https://localhost:8080/",
          "height": 399
        },
        "id": "SVcIkN_JyZHb",
        "outputId": "1c4c83c3-e140-4e36-c00d-a1ffffa0d321"
      },
      "source": [
        "## Merging the two datasets\n",
        "#In class detailed info dataset are given the detailed information about \n",
        "#the type of positive or negative class associated with a certain patient.\n",
        "#In y_train labels dataset are given the patient ID and the window (x min, y min, width and height of the) \n",
        "#containing evidence of pneumonia\n",
        "train_class_df = y_train.merge(class_info_df, left_on= ('patientId'), right_on=('patientId'), how='inner').drop_duplicates()\n",
        "train_class_df.sample(5)"
      ],
      "execution_count": 16,
      "outputs": [
        {
          "output_type": "execute_result",
          "data": {
            "text/html": [
              "<div>\n",
              "<style scoped>\n",
              "    .dataframe tbody tr th:only-of-type {\n",
              "        vertical-align: middle;\n",
              "    }\n",
              "\n",
              "    .dataframe tbody tr th {\n",
              "        vertical-align: top;\n",
              "    }\n",
              "\n",
              "    .dataframe thead th {\n",
              "        text-align: right;\n",
              "    }\n",
              "</style>\n",
              "<table border=\"1\" class=\"dataframe\">\n",
              "  <thead>\n",
              "    <tr style=\"text-align: right;\">\n",
              "      <th></th>\n",
              "      <th>patientId</th>\n",
              "      <th>x</th>\n",
              "      <th>y</th>\n",
              "      <th>width</th>\n",
              "      <th>height</th>\n",
              "      <th>Target</th>\n",
              "      <th>X</th>\n",
              "      <th>Y</th>\n",
              "      <th>Xo</th>\n",
              "      <th>Yo</th>\n",
              "      <th>xo</th>\n",
              "      <th>yo</th>\n",
              "      <th>widtho</th>\n",
              "      <th>heighto</th>\n",
              "      <th>class</th>\n",
              "    </tr>\n",
              "  </thead>\n",
              "  <tbody>\n",
              "    <tr>\n",
              "      <th>12064</th>\n",
              "      <td>680297ea-1afd-40e5-b2cd-5a7d56a27024</td>\n",
              "      <td>NaN</td>\n",
              "      <td>NaN</td>\n",
              "      <td>NaN</td>\n",
              "      <td>NaN</td>\n",
              "      <td>0</td>\n",
              "      <td>1024</td>\n",
              "      <td>1024</td>\n",
              "      <td>256</td>\n",
              "      <td>256</td>\n",
              "      <td>NaN</td>\n",
              "      <td>NaN</td>\n",
              "      <td>NaN</td>\n",
              "      <td>NaN</td>\n",
              "      <td>No Lung Opacity / Not Normal</td>\n",
              "    </tr>\n",
              "    <tr>\n",
              "      <th>11654</th>\n",
              "      <td>6520e11d-e078-498a-9aa2-599eaab152ba</td>\n",
              "      <td>NaN</td>\n",
              "      <td>NaN</td>\n",
              "      <td>NaN</td>\n",
              "      <td>NaN</td>\n",
              "      <td>0</td>\n",
              "      <td>1024</td>\n",
              "      <td>1024</td>\n",
              "      <td>256</td>\n",
              "      <td>256</td>\n",
              "      <td>NaN</td>\n",
              "      <td>NaN</td>\n",
              "      <td>NaN</td>\n",
              "      <td>NaN</td>\n",
              "      <td>No Lung Opacity / Not Normal</td>\n",
              "    </tr>\n",
              "    <tr>\n",
              "      <th>8187</th>\n",
              "      <td>4b948dc1-39e8-4753-9ff8-11880f868b86</td>\n",
              "      <td>NaN</td>\n",
              "      <td>NaN</td>\n",
              "      <td>NaN</td>\n",
              "      <td>NaN</td>\n",
              "      <td>0</td>\n",
              "      <td>1024</td>\n",
              "      <td>1024</td>\n",
              "      <td>256</td>\n",
              "      <td>256</td>\n",
              "      <td>NaN</td>\n",
              "      <td>NaN</td>\n",
              "      <td>NaN</td>\n",
              "      <td>NaN</td>\n",
              "      <td>Normal</td>\n",
              "    </tr>\n",
              "    <tr>\n",
              "      <th>16196</th>\n",
              "      <td>8361600c-fe3d-4d7c-9f1b-1cb043713c0a</td>\n",
              "      <td>NaN</td>\n",
              "      <td>NaN</td>\n",
              "      <td>NaN</td>\n",
              "      <td>NaN</td>\n",
              "      <td>0</td>\n",
              "      <td>1024</td>\n",
              "      <td>1024</td>\n",
              "      <td>256</td>\n",
              "      <td>256</td>\n",
              "      <td>NaN</td>\n",
              "      <td>NaN</td>\n",
              "      <td>NaN</td>\n",
              "      <td>NaN</td>\n",
              "      <td>Normal</td>\n",
              "    </tr>\n",
              "    <tr>\n",
              "      <th>26059</th>\n",
              "      <td>bc1a6b13-b858-4900-bba3-03ac87e2257f</td>\n",
              "      <td>NaN</td>\n",
              "      <td>NaN</td>\n",
              "      <td>NaN</td>\n",
              "      <td>NaN</td>\n",
              "      <td>0</td>\n",
              "      <td>1024</td>\n",
              "      <td>1024</td>\n",
              "      <td>256</td>\n",
              "      <td>256</td>\n",
              "      <td>NaN</td>\n",
              "      <td>NaN</td>\n",
              "      <td>NaN</td>\n",
              "      <td>NaN</td>\n",
              "      <td>Normal</td>\n",
              "    </tr>\n",
              "  </tbody>\n",
              "</table>\n",
              "</div>"
            ],
            "text/plain": [
              "                                  patientId  ...                         class\n",
              "12064  680297ea-1afd-40e5-b2cd-5a7d56a27024  ...  No Lung Opacity / Not Normal\n",
              "11654  6520e11d-e078-498a-9aa2-599eaab152ba  ...  No Lung Opacity / Not Normal\n",
              "8187   4b948dc1-39e8-4753-9ff8-11880f868b86  ...                        Normal\n",
              "16196  8361600c-fe3d-4d7c-9f1b-1cb043713c0a  ...                        Normal\n",
              "26059  bc1a6b13-b858-4900-bba3-03ac87e2257f  ...                        Normal\n",
              "\n",
              "[5 rows x 15 columns]"
            ]
          },
          "metadata": {
            "tags": []
          },
          "execution_count": 16
        }
      ]
    },
    {
      "cell_type": "code",
      "metadata": {
        "colab": {
          "base_uri": "https://localhost:8080/"
        },
        "id": "KAhldo8d0O71",
        "outputId": "3c5bd17a-9f78-4fba-fdab-8b65104f9882"
      },
      "source": [
        "#reading image samples\n",
        "sampNum = 5 # Number of samples to import\n",
        "X = [] # Empty to read training images\n",
        "x1=[]\n",
        "print(type(x1))\n",
        "print(\"Before sampling\\n\")\n",
        "print(\"Total training unique patient ids: \",train_class_df['patientId'].nunique())\n",
        "print(\"Number of images in train set:\", len(os.listdir(TrainDir)))\n",
        "print(\"\\n\")\n",
        "print(\"Total training labels {}\" .format(train_class_df.shape))\n",
        "#display(distTab(train_class_df, \"Target\")) # Dsitribution of target before sampling\n",
        "\n",
        "print(\"\\n\\nAfter sampling\\n\")\n",
        "Y = train_class_df.sample(n=sampNum, random_state=2) # Sampling\n",
        "Y.reset_index(drop=True, inplace=True)\n",
        "print(\"Total sampled training labels {}\" .format(Y.shape))\n",
        "#display(distTab(Y.sample(n=sampNum), \"Target\"))  # Dsitribution of target after sampling\n",
        "\n",
        "for indx in Y.patientId:\n",
        "    \n",
        "    try:\n",
        "       print(indx)\n",
        "       filepath=TrainDir+indx+'.jpg'\n",
        "       image = cv2.imread(filepath)\n",
        "       X.append(indx)\n",
        "       x1.append(image)\n",
        "    except: \n",
        "        continue\n",
        "zipbObj = zip(X, x1)        \n",
        " \n",
        "\n",
        "X=dict(zipbObj)\n",
        "#print(\"df chk\",Y[Y.patientId.isin(X.keys())])\n",
        "#X = dict(zip([x.patientId for x in X], [x.pixel_array for x in X])) # Dictionary for training images for patient id's\n",
        "print(\"\\n\\nTotal sampled training images {}\" .format(len(X)))\n",
        "Y = Y[Y.patientId.isin(X.keys())]\n",
        "print(\"Total training labels {}\" .format(Y.shape))"
      ],
      "execution_count": 150,
      "outputs": [
        {
          "output_type": "stream",
          "text": [
            "<class 'list'>\n",
            "Before sampling\n",
            "\n",
            "Total training unique patient ids:  26684\n",
            "Number of images in train set: 11740\n",
            "\n",
            "\n",
            "Total training labels (30227, 15)\n",
            "\n",
            "\n",
            "After sampling\n",
            "\n",
            "Total sampled training labels (5, 15)\n",
            "e4dd25aa-7839-4e0e-a984-c7cb1b31d2c7\n",
            "5c389c6d-2abc-43a9-91e7-847f85bf6ff1\n",
            "324f9ed1-09e0-483e-9bdd-d139e77acb85\n",
            "4ac6590a-ecdb-47b7-92f3-cfc6fa405955\n",
            "7213e146-4efd-40e6-ab88-a9e7a9c8c25c\n",
            "\n",
            "\n",
            "Total sampled training images 5\n",
            "Total training labels (5, 15)\n"
          ],
          "name": "stdout"
        }
      ]
    },
    {
      "cell_type": "code",
      "metadata": {
        "colab": {
          "base_uri": "https://localhost:8080/"
        },
        "id": "q9crb-bARKlo",
        "outputId": "71a0febb-b1a0-44fc-e558-4492a2872030"
      },
      "source": [
        "# Shape of images\n",
        "len(X)"
      ],
      "execution_count": 153,
      "outputs": [
        {
          "output_type": "execute_result",
          "data": {
            "text/plain": [
              "5"
            ]
          },
          "metadata": {
            "tags": []
          },
          "execution_count": 153
        }
      ]
    },
    {
      "cell_type": "code",
      "metadata": {
        "id": "voEK2fN724Dv"
      },
      "source": [
        "Xdf = pd.DataFrame({'patientId':X.keys(),\n",
        "                   'imageArray':X.values()})\n",
        "\n",
        "dat = Y.merge(Xdf, on='patientId', how='left')"
      ],
      "execution_count": 148,
      "outputs": []
    },
    {
      "cell_type": "code",
      "metadata": {
        "colab": {
          "base_uri": "https://localhost:8080/",
          "height": 417
        },
        "id": "P-CkAjYf4Ap6",
        "outputId": "8e18e10a-ccb3-450e-e22e-f959f21b7a39"
      },
      "source": [
        "dat.head(5)"
      ],
      "execution_count": 149,
      "outputs": [
        {
          "output_type": "execute_result",
          "data": {
            "text/html": [
              "<div>\n",
              "<style scoped>\n",
              "    .dataframe tbody tr th:only-of-type {\n",
              "        vertical-align: middle;\n",
              "    }\n",
              "\n",
              "    .dataframe tbody tr th {\n",
              "        vertical-align: top;\n",
              "    }\n",
              "\n",
              "    .dataframe thead th {\n",
              "        text-align: right;\n",
              "    }\n",
              "</style>\n",
              "<table border=\"1\" class=\"dataframe\">\n",
              "  <thead>\n",
              "    <tr style=\"text-align: right;\">\n",
              "      <th></th>\n",
              "      <th>patientId</th>\n",
              "      <th>x</th>\n",
              "      <th>y</th>\n",
              "      <th>width</th>\n",
              "      <th>height</th>\n",
              "      <th>Target</th>\n",
              "      <th>X</th>\n",
              "      <th>Y</th>\n",
              "      <th>Xo</th>\n",
              "      <th>Yo</th>\n",
              "      <th>xo</th>\n",
              "      <th>yo</th>\n",
              "      <th>widtho</th>\n",
              "      <th>heighto</th>\n",
              "      <th>class</th>\n",
              "      <th>imageArray</th>\n",
              "    </tr>\n",
              "  </thead>\n",
              "  <tbody>\n",
              "    <tr>\n",
              "      <th>0</th>\n",
              "      <td>e4dd25aa-7839-4e0e-a984-c7cb1b31d2c7</td>\n",
              "      <td>NaN</td>\n",
              "      <td>NaN</td>\n",
              "      <td>NaN</td>\n",
              "      <td>NaN</td>\n",
              "      <td>0</td>\n",
              "      <td>1024</td>\n",
              "      <td>1024</td>\n",
              "      <td>256</td>\n",
              "      <td>256</td>\n",
              "      <td>NaN</td>\n",
              "      <td>NaN</td>\n",
              "      <td>NaN</td>\n",
              "      <td>NaN</td>\n",
              "      <td>No Lung Opacity / Not Normal</td>\n",
              "      <td>[[[1, 1, 1], [1, 1, 1], [1, 1, 1], [1, 1, 1], ...</td>\n",
              "    </tr>\n",
              "    <tr>\n",
              "      <th>1</th>\n",
              "      <td>5c389c6d-2abc-43a9-91e7-847f85bf6ff1</td>\n",
              "      <td>NaN</td>\n",
              "      <td>NaN</td>\n",
              "      <td>NaN</td>\n",
              "      <td>NaN</td>\n",
              "      <td>0</td>\n",
              "      <td>1024</td>\n",
              "      <td>1024</td>\n",
              "      <td>256</td>\n",
              "      <td>256</td>\n",
              "      <td>NaN</td>\n",
              "      <td>NaN</td>\n",
              "      <td>NaN</td>\n",
              "      <td>NaN</td>\n",
              "      <td>Normal</td>\n",
              "      <td>None</td>\n",
              "    </tr>\n",
              "    <tr>\n",
              "      <th>2</th>\n",
              "      <td>324f9ed1-09e0-483e-9bdd-d139e77acb85</td>\n",
              "      <td>NaN</td>\n",
              "      <td>NaN</td>\n",
              "      <td>NaN</td>\n",
              "      <td>NaN</td>\n",
              "      <td>0</td>\n",
              "      <td>1024</td>\n",
              "      <td>1024</td>\n",
              "      <td>256</td>\n",
              "      <td>256</td>\n",
              "      <td>NaN</td>\n",
              "      <td>NaN</td>\n",
              "      <td>NaN</td>\n",
              "      <td>NaN</td>\n",
              "      <td>No Lung Opacity / Not Normal</td>\n",
              "      <td>None</td>\n",
              "    </tr>\n",
              "    <tr>\n",
              "      <th>3</th>\n",
              "      <td>4ac6590a-ecdb-47b7-92f3-cfc6fa405955</td>\n",
              "      <td>NaN</td>\n",
              "      <td>NaN</td>\n",
              "      <td>NaN</td>\n",
              "      <td>NaN</td>\n",
              "      <td>0</td>\n",
              "      <td>1024</td>\n",
              "      <td>1024</td>\n",
              "      <td>256</td>\n",
              "      <td>256</td>\n",
              "      <td>NaN</td>\n",
              "      <td>NaN</td>\n",
              "      <td>NaN</td>\n",
              "      <td>NaN</td>\n",
              "      <td>Normal</td>\n",
              "      <td>None</td>\n",
              "    </tr>\n",
              "    <tr>\n",
              "      <th>4</th>\n",
              "      <td>7213e146-4efd-40e6-ab88-a9e7a9c8c25c</td>\n",
              "      <td>NaN</td>\n",
              "      <td>NaN</td>\n",
              "      <td>NaN</td>\n",
              "      <td>NaN</td>\n",
              "      <td>0</td>\n",
              "      <td>1024</td>\n",
              "      <td>1024</td>\n",
              "      <td>256</td>\n",
              "      <td>256</td>\n",
              "      <td>NaN</td>\n",
              "      <td>NaN</td>\n",
              "      <td>NaN</td>\n",
              "      <td>NaN</td>\n",
              "      <td>Normal</td>\n",
              "      <td>None</td>\n",
              "    </tr>\n",
              "  </tbody>\n",
              "</table>\n",
              "</div>"
            ],
            "text/plain": [
              "                              patientId  ...                                         imageArray\n",
              "0  e4dd25aa-7839-4e0e-a984-c7cb1b31d2c7  ...  [[[1, 1, 1], [1, 1, 1], [1, 1, 1], [1, 1, 1], ...\n",
              "1  5c389c6d-2abc-43a9-91e7-847f85bf6ff1  ...                                               None\n",
              "2  324f9ed1-09e0-483e-9bdd-d139e77acb85  ...                                               None\n",
              "3  4ac6590a-ecdb-47b7-92f3-cfc6fa405955  ...                                               None\n",
              "4  7213e146-4efd-40e6-ab88-a9e7a9c8c25c  ...                                               None\n",
              "\n",
              "[5 rows x 16 columns]"
            ]
          },
          "metadata": {
            "tags": []
          },
          "execution_count": 149
        }
      ]
    },
    {
      "cell_type": "code",
      "metadata": {
        "id": "ycAPSuz6SJFA"
      },
      "source": [
        "Xdf = pd.DataFrame({'patientId':X.keys(),\n",
        "                   'imageArray':X.values()})\n",
        "\n",
        "dat = Y.merge(Xdf, on='patientId', how='left')\n",
        "\n"
      ],
      "execution_count": 154,
      "outputs": []
    },
    {
      "cell_type": "code",
      "metadata": {
        "id": "7BggfN0cSJwX"
      },
      "source": [
        ""
      ],
      "execution_count": null,
      "outputs": []
    }
  ]
}